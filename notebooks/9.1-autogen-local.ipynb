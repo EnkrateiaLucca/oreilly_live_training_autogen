{
 "cells": [
  {
   "cell_type": "code",
   "execution_count": 1,
   "metadata": {},
   "outputs": [],
   "source": [
    "import autogen\n",
    "from autogen import ConversableAgent, config_list_from_json, UserProxyAgent, GroupChatManager, GroupChat"
   ]
  },
  {
   "cell_type": "code",
   "execution_count": 2,
   "metadata": {},
   "outputs": [],
   "source": [
    "config_list=[\n",
    "{\n",
    "\"model\": \"local-model\",\n",
    "\"base_url\": \"http://localhost:1234/v1\",\n",
    "\"api_key\": \"lm-studio\", # just a placeholder\n",
    "}\n",
    "]\n",
    "\n",
    "llm_config = config_list[0]"
   ]
  },
  {
   "cell_type": "code",
   "execution_count": 3,
   "metadata": {},
   "outputs": [],
   "source": [
    "# create an AssistantAgent instance named \"assistant\"\n",
    "assistant = autogen.AssistantAgent(\n",
    "    name=\"assistant\",\n",
    "    llm_config=llm_config,\n",
    ")\n",
    "# create a UserProxyAgent instance named \"user_proxy\"\n",
    "user_proxy = autogen.UserProxyAgent(\n",
    "    name=\"user_proxy\",\n",
    "    human_input_mode=\"TERMINATE\",\n",
    "    max_consecutive_auto_reply=10,\n",
    "    is_termination_msg=lambda x: x.get(\"content\", \"\").rstrip().endswith(\"TERMINATE\"),\n",
    "    code_execution_config={\n",
    "        \"work_dir\": \"web\",\n",
    "        \"use_docker\": False,\n",
    "    },  # Please set use_docker=True if docker is available to run the generated code. Using docker is safer than running the generated code directly.\n",
    "    llm_config=llm_config,\n",
    "    system_message=\"\"\"Reply TERMINATE if the task has been solved at full satisfaction.\n",
    "Otherwise, reply CONTINUE, or the reason why the task is not solved yet.\"\"\",\n",
    ")"
   ]
  },
  {
   "cell_type": "code",
   "execution_count": 5,
   "metadata": {},
   "outputs": [
    {
     "name": "stdout",
     "output_type": "stream",
     "text": [
      "\u001b[33muser_proxy\u001b[0m (to assistant):\n",
      "\n",
      "Plot a sine wave function using Python\n",
      "\n",
      "--------------------------------------------------------------------------------\n",
      "\u001b[33massistant\u001b[0m (to user_proxy):\n",
      "\n",
      "```python\n",
      "# filename: sine_wave.py\n",
      "import numpy as np\n",
      "import matplotlib.pyplot as plt\n",
      "# Define x values from 0 to 2*pi with step size of 0.1\n",
      "x = np.linspace(0, 2 * np.pi, num=400)\n",
      "# Define y values using sine function\n",
      "y = np.sin(x)\n",
      "# Create a figure and a subplot\n",
      "fig, ax = plt.subplots()\n",
      "# Plot the sine wave using the 'line' style\n",
      "ax.plot(x, y, linestyle='-')\n",
      "# Set x and y labels\n",
      "ax.set_xlabel('X values')\n",
      "ax.set_ylabel('Sine wave function')\n",
      "# Display the plot to the user\n",
      "plt.show()\n",
      "TERMINATE\n",
      "```\n",
      "\n",
      "--------------------------------------------------------------------------------\n",
      "\u001b[31m\n",
      ">>>>>>>> USING AUTO REPLY...\u001b[0m\n",
      "\u001b[31m\n",
      ">>>>>>>> EXECUTING CODE BLOCK 0 (inferred language is python)...\u001b[0m\n",
      "\u001b[33muser_proxy\u001b[0m (to assistant):\n",
      "\n",
      "exitcode: 1 (execution failed)\n",
      "Code output: \n",
      "Traceback (most recent call last):\n",
      "  File \"sine_wave.py\", line 17, in <module>\n",
      "    TERMINATE\n",
      "NameError: name 'TERMINATE' is not defined\n",
      "\n",
      "\n",
      "--------------------------------------------------------------------------------\n",
      "\u001b[33massistant\u001b[0m (to user_proxy):\n",
      "\n",
      "```python\n",
      "# filename: sine_wave.py\n",
      "import numpy as np\n",
      "import matplotlib.pyplot as plt\n",
      "\n",
      "# Define x values from 0 to 2*pi with step size of 0.1\n",
      "x = np.linspace(0, 2 * np.pi, num=400)\n",
      "\n",
      "# Define y values using sine function\n",
      "y = np.sin(x)\n",
      "\n",
      "# Create a figure and a subplot\n",
      "fig, ax = plt.subplots()\n",
      "\n",
      "# Plot the sine wave using the 'line' style\n",
      "ax.plot(x, y, linestyle='-')\n",
      "\n",
      "# Set x and y labels\n",
      "ax.set_xlabel('X values')\n",
      "ax.set_ylabel('Sine wave function')\n",
      "\n",
      "# Display the plot to the user and terminate the script\n",
      "plt.show()\n",
      "exit()\n",
      "TERMINATE\n",
      "```\n",
      "\n",
      "--------------------------------------------------------------------------------\n",
      "\u001b[31m\n",
      ">>>>>>>> USING AUTO REPLY...\u001b[0m\n",
      "\u001b[31m\n",
      ">>>>>>>> EXECUTING CODE BLOCK 0 (inferred language is python)...\u001b[0m\n",
      "\u001b[33muser_proxy\u001b[0m (to assistant):\n",
      "\n",
      "exitcode: 0 (execution succeeded)\n",
      "Code output: \n",
      "Figure(640x480)\n",
      "\n",
      "\n",
      "--------------------------------------------------------------------------------\n",
      "\u001b[33massistant\u001b[0m (to user_proxy):\n",
      "\n",
      "Your sine wave plot was generated successfully. I cannot show it directly to you, but if you saved the code in a file named 'sine\\_wave.py' and executed it, you should have seen a graphical representation of a sine wave function on your screen.\n",
      "TERMINATE\n",
      "\n",
      "--------------------------------------------------------------------------------\n",
      "\u001b[31m\n",
      ">>>>>>>> NO HUMAN INPUT RECEIVED.\u001b[0m\n"
     ]
    },
    {
     "data": {
      "text/plain": [
       "ChatResult(chat_id=None, chat_history=[{'content': 'Plot a sine wave function using Python', 'role': 'assistant'}, {'content': \"```python\\n# filename: sine_wave.py\\nimport numpy as np\\nimport matplotlib.pyplot as plt\\n# Define x values from 0 to 2*pi with step size of 0.1\\nx = np.linspace(0, 2 * np.pi, num=400)\\n# Define y values using sine function\\ny = np.sin(x)\\n# Create a figure and a subplot\\nfig, ax = plt.subplots()\\n# Plot the sine wave using the 'line' style\\nax.plot(x, y, linestyle='-')\\n# Set x and y labels\\nax.set_xlabel('X values')\\nax.set_ylabel('Sine wave function')\\n# Display the plot to the user\\nplt.show()\\nTERMINATE\\n```\", 'role': 'user'}, {'content': 'exitcode: 1 (execution failed)\\nCode output: \\nTraceback (most recent call last):\\n  File \"sine_wave.py\", line 17, in <module>\\n    TERMINATE\\nNameError: name \\'TERMINATE\\' is not defined\\n', 'role': 'assistant'}, {'content': \"```python\\n# filename: sine_wave.py\\nimport numpy as np\\nimport matplotlib.pyplot as plt\\n\\n# Define x values from 0 to 2*pi with step size of 0.1\\nx = np.linspace(0, 2 * np.pi, num=400)\\n\\n# Define y values using sine function\\ny = np.sin(x)\\n\\n# Create a figure and a subplot\\nfig, ax = plt.subplots()\\n\\n# Plot the sine wave using the 'line' style\\nax.plot(x, y, linestyle='-')\\n\\n# Set x and y labels\\nax.set_xlabel('X values')\\nax.set_ylabel('Sine wave function')\\n\\n# Display the plot to the user and terminate the script\\nplt.show()\\nexit()\\nTERMINATE\\n```\", 'role': 'user'}, {'content': 'exitcode: 0 (execution succeeded)\\nCode output: \\nFigure(640x480)\\n', 'role': 'assistant'}, {'content': \"Your sine wave plot was generated successfully. I cannot show it directly to you, but if you saved the code in a file named 'sine\\\\_wave.py' and executed it, you should have seen a graphical representation of a sine wave function on your screen.\\nTERMINATE\", 'role': 'user'}], summary=\"Your sine wave plot was generated successfully. I cannot show it directly to you, but if you saved the code in a file named 'sine\\\\_wave.py' and executed it, you should have seen a graphical representation of a sine wave function on your screen.\\n\", cost=({'total_cost': 0, 'Loaded from Chat UI': {'cost': 0, 'prompt_tokens': 2281, 'completion_tokens': 2262, 'total_tokens': 4543}}, {'total_cost': 0, 'Loaded from Chat UI': {'cost': 0, 'prompt_tokens': 2281, 'completion_tokens': 2262, 'total_tokens': 4543}}), human_input=[''])"
      ]
     },
     "execution_count": 5,
     "metadata": {},
     "output_type": "execute_result"
    }
   ],
   "source": [
    "user_proxy.initiate_chat(assistant, message=\"Plot a sine wave function using Python\")"
   ]
  },
  {
   "cell_type": "code",
   "execution_count": 6,
   "metadata": {},
   "outputs": [
    {
     "data": {
      "image/png": "[encoded data removed]",
      "text/plain": [
       "<Figure size 640x480 with 1 Axes>"
      ]
     },
     "metadata": {},
     "output_type": "display_data"
    }
   ],
   "source": [
    "import numpy as np\n",
    "import matplotlib.pyplot as plt\n",
    "# Define x values from 0 to 2*pi with step size of 0.1\n",
    "x = np.linspace(0, 2 * np.pi, num=400)\n",
    "# Define y values using sine function\n",
    "y = np.sin(x)\n",
    "# Create a figure and a subplot\n",
    "fig, ax = plt.subplots()\n",
    "# Plot the sine wave using the 'line' style\n",
    "ax.plot(x, y, linestyle='-')\n",
    "# Set x and y labels\n",
    "ax.set_xlabel('X values')\n",
    "ax.set_ylabel('Sine wave function')\n",
    "# Display the plot to the user\n",
    "plt.show()"
   ]
  },
  {
   "cell_type": "code",
   "execution_count": null,
   "metadata": {},
   "outputs": [],
   "source": []
  },
  {
   "cell_type": "code",
   "execution_count": null,
   "metadata": {},
   "outputs": [],
   "source": []
  },
  {
   "cell_type": "code",
   "execution_count": null,
   "metadata": {},
   "outputs": [],
   "source": []
  }
 ],
 "metadata": {
  "kernelspec": {
   "display_name": "automations",
   "language": "python",
   "name": "automations"
  },
  "language_info": {
   "codemirror_mode": {
    "name": "ipython",
    "version": 3
   },
   "file_extension": ".py",
   "mimetype": "text/x-python",
   "name": "python",
   "nbconvert_exporter": "python",
   "pygments_lexer": "ipython3",
   "version": "3.10.13"
  }
 },
 "nbformat": 4,
 "nbformat_minor": 2
}
