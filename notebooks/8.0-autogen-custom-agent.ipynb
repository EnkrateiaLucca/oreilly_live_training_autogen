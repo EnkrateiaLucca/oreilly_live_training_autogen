{
 "cells": [
  {
   "cell_type": "markdown",
   "id": "c4272e55",
   "metadata": {},
   "source": [
    "# Creating Custom Agents with AutoGen\n",
    "\n",
    "This lesson explores how to create custom agents in AutoGen by implementing the `BaseChatAgent` class. We'll create two interesting examples: a Dice Rolling Agent and a Temperature Conversion Agent.\n",
    "\n",
    "First, let's set up our environment:"
   ]
  },
  {
   "cell_type": "code",
   "execution_count": 4,
   "id": "1d950b91",
   "metadata": {},
   "outputs": [],
   "source": [
    "import os\n",
    "import getpass\n",
    "\n",
    "def _set_env(var: str):\n",
    "    if not os.environ.get(var):\n",
    "        os.environ[var] = getpass.getpass(f\"{var}: \")\n",
    "\n",
    "_set_env(\"OPENAI_API_KEY\")"
   ]
  },
  {
   "cell_type": "code",
   "execution_count": 5,
   "id": "5a8955a1",
   "metadata": {},
   "outputs": [
    {
     "name": "stdout",
     "output_type": "stream",
     "text": [
      "Async environment configured for Jupyter.\n"
     ]
    }
   ],
   "source": [
    "try:\n",
    "    import nest_asyncio\n",
    "    nest_asyncio.apply()\n",
    "    print(\"Async environment configured for Jupyter.\")\n",
    "except ImportError:\n",
    "    print(\"Please install nest_asyncio with `pip install nest_asyncio`\")"
   ]
  },
  {
   "cell_type": "code",
   "execution_count": 6,
   "id": "e188cefd",
   "metadata": {},
   "outputs": [],
   "source": [
    "import os\n",
    "import getpass\n",
    "from typing import AsyncGenerator, List, Sequence, Tuple\n",
    "from autogen_agentchat.agents import BaseChatAgent\n",
    "from autogen_agentchat.base import Response\n",
    "from autogen_agentchat.messages import AgentEvent, ChatMessage, TextMessage\n",
    "from autogen_core import CancellationToken"
   ]
  },
  {
   "cell_type": "markdown",
   "id": "9da001f9",
   "metadata": {},
   "source": [
    "## 1. Creating a Dice Rolling Agent\n",
    "\n",
    "Let's create a custom agent that simulates rolling different types of dice (d4, d6, d8, d20):"
   ]
  },
  {
   "cell_type": "code",
   "execution_count": 7,
   "id": "05dd568b",
   "metadata": {},
   "outputs": [],
   "source": [
    "import random\n",
    "\n",
    "class DiceRollingAgent(BaseChatAgent):\n",
    "    def __init__(self, name: str):\n",
    "        super().__init__(name, \"An agent that simulates rolling different types of dice.\")\n",
    "        self.valid_dice = [4, 6, 8, 20]\n",
    "        \n",
    "    @property\n",
    "    def produced_message_types(self) -> Sequence[type[ChatMessage]]:\n",
    "        return (TextMessage,)\n",
    "        \n",
    "    async def on_messages(self, messages: Sequence[ChatMessage], cancellation_token: CancellationToken) -> Response:\n",
    "        response: Response | None = None\n",
    "        async for message in self.on_messages_stream(messages, cancellation_token):\n",
    "            if isinstance(message, Response):\n",
    "                response = message\n",
    "        assert response is not None\n",
    "        return response\n",
    "        \n",
    "    async def on_messages_stream(\n",
    "        self, messages: Sequence[ChatMessage], cancellation_token: CancellationToken\n",
    "    ) -> AsyncGenerator[AgentEvent | ChatMessage | Response, None]:\n",
    "        inner_messages: List[AgentEvent | ChatMessage] = []\n",
    "        \n",
    "        for dice in self.valid_dice:\n",
    "            result = random.randint(1, dice)\n",
    "            msg = TextMessage(content=f\"Rolling d{dice}: {result}\", source=self.name)\n",
    "            inner_messages.append(msg)\n",
    "            yield msg\n",
    "            \n",
    "        yield Response(\n",
    "            chat_message=TextMessage(content=\"All dice have been rolled!\", source=self.name),\n",
    "            inner_messages=inner_messages\n",
    "        )\n",
    "        \n",
    "    async def on_reset(self, cancellation_token: CancellationToken) -> None:\n",
    "        pass\n",
    "\n",
    "async def run_dice_agent():\n",
    "    dice_agent = DiceRollingAgent(\"dice_master\")\n",
    "    async for message in dice_agent.on_messages_stream([], CancellationToken()):\n",
    "        if isinstance(message, Response):\n",
    "            print(message.chat_message.content)\n",
    "        else:\n",
    "            print(message.content)"
   ]
  },
  {
   "cell_type": "code",
   "execution_count": 12,
   "id": "9f2c13be",
   "metadata": {},
   "outputs": [
    {
     "name": "stdout",
     "output_type": "stream",
     "text": [
      "Rolling d4: 1\n",
      "Rolling d6: 5\n",
      "Rolling d8: 4\n",
      "Rolling d20: 7\n",
      "All dice have been rolled!\n"
     ]
    }
   ],
   "source": [
    "# Use this when running in a script:\n",
    "# asyncio.run(run_dice_agent())\n",
    "\n",
    "await run_dice_agent()"
   ]
  },
  {
   "cell_type": "markdown",
   "id": "f5bd2494",
   "metadata": {},
   "source": [
    "## 2. Creating a Temperature Conversion Agent\n",
    "\n",
    "Now let's create an agent that converts temperatures between Celsius and Fahrenheit:"
   ]
  },
  {
   "cell_type": "code",
   "execution_count": 13,
   "id": "59f85267",
   "metadata": {},
   "outputs": [],
   "source": [
    "class TemperatureAgent(BaseChatAgent):\n",
    "    def __init__(self, name: str, description: str, convert_func):\n",
    "        super().__init__(name, description)\n",
    "        self._convert_func = convert_func\n",
    "        self._message_history: List[ChatMessage] = []\n",
    "        \n",
    "    @property\n",
    "    def produced_message_types(self) -> Sequence[type[ChatMessage]]:\n",
    "        return (TextMessage,)\n",
    "        \n",
    "    async def on_messages(self, messages: Sequence[ChatMessage], cancellation_token: CancellationToken) -> Response:\n",
    "        self._message_history.extend(messages)\n",
    "        \n",
    "        try:\n",
    "            assert isinstance(self._message_history[-1], TextMessage)\n",
    "            temp = float(self._message_history[-1].content)\n",
    "            result = self._convert_func(temp)\n",
    "            response_message = TextMessage(\n",
    "                content=f\"{temp:.1f} converts to {result:.1f}\",\n",
    "                source=self.name\n",
    "            )\n",
    "            self._message_history.append(response_message)\n",
    "            return Response(chat_message=response_message)\n",
    "        except (ValueError, AssertionError):\n",
    "            error_message = TextMessage(\n",
    "                content=\"Please provide a valid temperature number.\",\n",
    "                source=self.name\n",
    "            )\n",
    "            return Response(chat_message=error_message)\n",
    "            \n",
    "    async def on_reset(self, cancellation_token: CancellationToken) -> None:\n",
    "        self._message_history = []\n",
    "\n",
    "async def run_temperature_agents():\n",
    "    # Create conversion agents\n",
    "    to_celsius = TemperatureAgent(\n",
    "        \"celsius_converter\",\n",
    "        \"Converts Fahrenheit to Celsius\",\n",
    "        lambda f: (f - 32) * 5/9\n",
    "    )\n",
    "    \n",
    "    to_fahrenheit = TemperatureAgent(\n",
    "        \"fahrenheit_converter\",\n",
    "        \"Converts Celsius to Fahrenheit\",\n",
    "        lambda c: (c * 9/5) + 32\n",
    "    )\n",
    "    \n",
    "    # Test conversions\n",
    "    test_temps = [\"98.6\", \"37\", \"0\", \"100\"]\n",
    "    \n",
    "    for temp in test_temps:\n",
    "        msg = [TextMessage(content=temp, source=\"user\")]\n",
    "        response = await to_celsius.on_messages(msg, CancellationToken())\n",
    "        print(f\"F to C: {response.chat_message.content}\")\n",
    "        \n",
    "        response = await to_fahrenheit.on_messages(msg, CancellationToken())\n",
    "        print(f\"C to F: {response.chat_message.content}\")\n",
    "        print()\n",
    "\n",
    "# Use this when running in a script:\n",
    "# asyncio.run(run_temperature_agents())"
   ]
  },
  {
   "cell_type": "code",
   "execution_count": 14,
   "id": "b0aab483",
   "metadata": {},
   "outputs": [
    {
     "name": "stdout",
     "output_type": "stream",
     "text": [
      "F to C: 98.6 converts to 37.0\n",
      "C to F: 98.6 converts to 209.5\n",
      "\n",
      "F to C: 37.0 converts to 2.8\n",
      "C to F: 37.0 converts to 98.6\n",
      "\n",
      "F to C: 0.0 converts to -17.8\n",
      "C to F: 0.0 converts to 32.0\n",
      "\n",
      "F to C: 100.0 converts to 37.8\n",
      "C to F: 100.0 converts to 212.0\n",
      "\n"
     ]
    }
   ],
   "source": [
    "await run_temperature_agents()"
   ]
  },
  {
   "cell_type": "markdown",
   "id": "5a9fdd8c",
   "metadata": {},
   "source": [
    "These examples demonstrate how to create custom agents by implementing the required methods from `BaseChatAgent`:\n",
    "\n",
    "1. `__init__`: Initialize the agent with a name and description\n",
    "2. `produced_message_types`: Define what types of messages the agent can produce\n",
    "3. `on_messages`: Handle incoming messages and generate responses\n",
    "4. `on_messages_stream`: (Optional) Stream responses as they're generated\n",
    "5. `on_reset`: Reset the agent's state\n",
    "\n",
    "The DiceRollingAgent shows how to create a streaming response with multiple messages, while the TemperatureAgent demonstrates how to handle specific calculations and maintain message history.\n",
    "\n",
    "To use these agents, you would typically run them in an async context. The example code includes commented-out `asyncio.run()` calls that you would use in a regular Python script. In a Jupyter notebook, you can use the await keyword directly as shown in the example functions."
   ]
  }
 ],
 "metadata": {
  "kernelspec": {
   "display_name": "oreilly-autogen",
   "language": "python",
   "name": "oreilly-autogen"
  },
  "language_info": {
   "codemirror_mode": {
    "name": "ipython",
    "version": 3
   },
   "file_extension": ".py",
   "mimetype": "text/x-python",
   "name": "python",
   "nbconvert_exporter": "python",
   "pygments_lexer": "ipython3",
   "version": "3.11.9"
  }
 },
 "nbformat": 4,
 "nbformat_minor": 5
}
