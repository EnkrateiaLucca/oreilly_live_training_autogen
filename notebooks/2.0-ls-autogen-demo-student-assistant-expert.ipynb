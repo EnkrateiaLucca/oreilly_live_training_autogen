{
 "cells": [
  {
   "cell_type": "code",
   "execution_count": 1,
   "metadata": {},
   "outputs": [],
   "source": [
    "# !pip install pyautogen\n",
    "# !pip install openai\n",
    "\n",
    "# or pip install -r requirements.txt (from the github repo)"
   ]
  },
  {
   "cell_type": "code",
   "execution_count": 2,
   "metadata": {},
   "outputs": [
    {
     "name": "stderr",
     "output_type": "stream",
     "text": [
      "/Users/greatmaster/miniconda3/envs/oreilly-autogen/lib/python3.11/site-packages/tqdm/auto.py:21: TqdmWarning: IProgress not found. Please update jupyter and ipywidgets. See https://ipywidgets.readthedocs.io/en/stable/user_install.html\n",
      "  from .autonotebook import tqdm as notebook_tqdm\n"
     ]
    }
   ],
   "source": [
    "from autogen import config_list_from_json, AssistantAgent\n",
    "from autogen.agentchat.contrib.math_user_proxy_agent import MathUserProxyAgent\n",
    "\n",
    "config_list = config_list_from_json(\"./OAI_CONFIG_LIST\")"
   ]
  },
  {
   "cell_type": "code",
   "execution_count": 3,
   "metadata": {},
   "outputs": [],
   "source": [
    "assistant = AssistantAgent(\n",
    "      name=\"assistant\",\n",
    "      system_message=\"You are a helpful assistant.\", # This is how you control the overall behavior of the agent!\n",
    "      llm_config={\n",
    "          \"timeout\": 600,\n",
    "          \"seed\": 42,\n",
    "          \"config_list\": config_list,\n",
    "      },\n",
    "  )"
   ]
  },
  {
   "cell_type": "code",
   "execution_count": 4,
   "metadata": {},
   "outputs": [],
   "source": [
    "mathproxyagent = MathUserProxyAgent(\n",
    "      name=\"mathproxyagent\",\n",
    "      human_input_mode=\"NEVER\",\n",
    "      code_execution_config={\"use_docker\": False},\n",
    "  )"
   ]
  },
  {
   "cell_type": "code",
   "execution_count": 5,
   "metadata": {},
   "outputs": [
    {
     "name": "stdout",
     "output_type": "stream",
     "text": [
      "\u001b[33mmathproxyagent\u001b[0m (to assistant):\n",
      "\n",
      "\n",
      "\n",
      "--------------------------------------------------------------------------------\n",
      "\u001b[33massistant\u001b[0m (to mathproxyagent):\n",
      "\n",
      "Hello! How can I assist you today?\n",
      "\n",
      "--------------------------------------------------------------------------------\n",
      "\u001b[33mmathproxyagent\u001b[0m (to assistant):\n",
      "\n",
      "Continue. Please keep solving the problem until you need to query. (If you get to the answer, put it in \\boxed{}.)\n",
      "\n",
      "--------------------------------------------------------------------------------\n",
      "\u001b[33massistant\u001b[0m (to mathproxyagent):\n",
      "\n",
      "It seems that there's a missing part or context to the problem you'd like me to solve. Could you please provide the details of the problem? That would help me continue and assist you better.\n",
      "\n",
      "--------------------------------------------------------------------------------\n",
      "\u001b[33mmathproxyagent\u001b[0m (to assistant):\n",
      "\n",
      "Continue. Please keep solving the problem until you need to query. (If you get to the answer, put it in \\boxed{}.)\n",
      "\n",
      "--------------------------------------------------------------------------------\n",
      "\u001b[33massistant\u001b[0m (to mathproxyagent):\n",
      "\n",
      "It looks like there's some missing information here. In order to continue and help you solve the problem, I need the details of the problem you're referring to. Could you please provide the specific problem or question you'd like me to solve?\n",
      "\n",
      "--------------------------------------------------------------------------------\n",
      "\u001b[33mmathproxyagent\u001b[0m (to assistant):\n",
      "\n",
      "Continue. Please keep solving the problem until you need to query. (If you get to the answer, put it in \\boxed{}.)\n",
      "\n",
      "--------------------------------------------------------------------------------\n",
      "\u001b[33massistant\u001b[0m (to mathproxyagent):\n",
      "\n",
      "It seems like you might be referring to a problem that was provided earlier, but I do not have that context. To assist you effectively, I need to understand the problem you're working on. Could you please provide the details or restate the problem? This will help me to continue solving it accurately.\n",
      "\n",
      "--------------------------------------------------------------------------------\n",
      "\u001b[33mmathproxyagent\u001b[0m (to assistant):\n",
      "\n",
      "Continue. Please keep solving the problem until you need to query. (If you get to the answer, put it in \\boxed{}.)\n",
      "\n",
      "--------------------------------------------------------------------------------\n",
      "\u001b[33massistant\u001b[0m (to mathproxyagent):\n",
      "\n",
      "It seems like you want me to continue solving a specific problem. However, I currently don't have any context or details about the problem you're referring to. \n",
      "\n",
      "Could you please provide the details or context of the problem so I can assist you in solving it?\n",
      "\n",
      "--------------------------------------------------------------------------------\n",
      "\u001b[33mmathproxyagent\u001b[0m (to assistant):\n",
      "\n",
      "Continue. Please keep solving the problem until you need to query. (If you get to the answer, put it in \\boxed{}.)\n",
      "\n",
      "--------------------------------------------------------------------------------\n",
      "\u001b[33massistant\u001b[0m (to mathproxyagent):\n",
      "\n",
      "It appears that I don't have the problem statement necessary to proceed with solving it. Without the details of the problem, I'm unable to continue.\n",
      "\n",
      "Please provide the problem statement or context so I can help you solve it.\n",
      "\n",
      "--------------------------------------------------------------------------------\n",
      "\u001b[33mmathproxyagent\u001b[0m (to assistant):\n",
      "\n",
      "Continue. Please keep solving the problem until you need to query. (If you get to the answer, put it in \\boxed{}.)\n",
      "\n",
      "--------------------------------------------------------------------------------\n",
      "\u001b[33massistant\u001b[0m (to mathproxyagent):\n",
      "\n",
      "It seems there might be a misunderstanding. I genuinely want to help you with your problem, but I need the specifics of the problem to continue. Could you please provide the details of the specific problem you are referring to? For example, it could be a math problem, a science question, or something else entirely. Once I have the necessary information, I can continue solving it for you.\n",
      "\n",
      "--------------------------------------------------------------------------------\n",
      "\u001b[33mmathproxyagent\u001b[0m (to assistant):\n",
      "\n",
      "Continue. Please keep solving the problem until you need to query. (If you get to the answer, put it in \\boxed{}.)\n",
      "\n",
      "--------------------------------------------------------------------------------\n",
      "\u001b[33massistant\u001b[0m (to mathproxyagent):\n",
      "\n",
      "I apologize for any confusion, but I still don't have the specific problem or context to begin solving. Could you please provide any details related to the problem you're referring to? This information is crucial for me to provide accurate assistance. Thank you!\n",
      "\n",
      "--------------------------------------------------------------------------------\n",
      "\u001b[33mmathproxyagent\u001b[0m (to assistant):\n",
      "\n",
      "Continue. Please keep solving the problem until you need to query. (If you get to the answer, put it in \\boxed{}.)\n",
      "\n",
      "--------------------------------------------------------------------------------\n",
      "\u001b[33massistant\u001b[0m (to mathproxyagent):\n",
      "\n",
      "I understand you want me to continue solving a problem, but I need the actual problem statement to proceed. Please provide the details of the problem, and I will solve it for you. Without the specific problem, unfortunately, I can't move forward.\n",
      "\n",
      "Could you share the exact details or context of the problem you're working on?\n",
      "\n",
      "--------------------------------------------------------------------------------\n",
      "\u001b[33mmathproxyagent\u001b[0m (to assistant):\n",
      "\n",
      "Continue. Please keep solving the problem until you need to query. (If you get to the answer, put it in \\boxed{}.)\n",
      "\n",
      "--------------------------------------------------------------------------------\n",
      "\u001b[33massistant\u001b[0m (to mathproxyagent):\n",
      "\n",
      "Since you repeated the instruction without providing the specifics of the problem, I'll provide a general mathematical problem and work through it to demonstrate the process. If you have a specific problem in mind, please share the details for more targeted help.\n",
      "\n",
      "### Problem:\n",
      "Solve the quadratic equation:\n",
      "\\[ x^2 - 4x + 4 = 0 \\]\n",
      "\n",
      "### Solution:\n",
      "To solve the quadratic equation \\(x^2 - 4x + 4 = 0\\), we'll use the quadratic formula, which is given by:\n",
      "\n",
      "\\[ x = \\frac{-b \\pm \\sqrt{b^2 - 4ac}}{2a} \\]\n",
      "\n",
      "For the given equation \\(x^2 - 4x + 4 = 0\\), the coefficients are:\n",
      "- \\( a = 1 \\)\n",
      "- \\( b = -4 \\)\n",
      "- \\( c = 4 \\)\n",
      "\n",
      "First, calculate the discriminant (\\(b^2 - 4ac\\)):\n",
      "\\[ b^2 - 4ac = (-4)^2 - 4 \\cdot 1 \\cdot 4 \\]\n",
      "\\[ b^2 - 4ac = 16 - 16 \\]\n",
      "\\[ b^2 - 4ac = 0 \\]\n",
      "\n",
      "Since the discriminant is 0, there is one real and repeated root. Using the quadratic formula:\n",
      "\n",
      "\\[ x = \\frac{-b \\pm \\sqrt{0}}{2a} \\]\n",
      "\\[ x = \\frac{-(-4) \\pm 0}{2 \\cdot 1} \\]\n",
      "\\[ x = \\frac{4}{2} \\]\n",
      "\\[ x = 2 \\]\n",
      "\n",
      "So, the solution to the quadratic equation \\(x^2 - 4x + 4 = 0\\) is:\n",
      "\\[ \\boxed{2} \\]\n",
      "\n",
      "If this isn't the problem you needed help with, please provide the specific details, and I'll assist you accordingly.\n",
      "\n",
      "--------------------------------------------------------------------------------\n"
     ]
    },
    {
     "data": {
      "text/plain": [
       "ChatResult(chat_id=None, chat_history=[{'content': '', 'role': 'assistant'}, {'content': 'Hello! How can I assist you today?', 'role': 'user'}, {'content': 'Continue. Please keep solving the problem until you need to query. (If you get to the answer, put it in \\\\boxed{}.)', 'role': 'assistant'}, {'content': \"It seems that there's a missing part or context to the problem you'd like me to solve. Could you please provide the details of the problem? That would help me continue and assist you better.\", 'role': 'user'}, {'content': 'Continue. Please keep solving the problem until you need to query. (If you get to the answer, put it in \\\\boxed{}.)', 'role': 'assistant'}, {'content': \"It looks like there's some missing information here. In order to continue and help you solve the problem, I need the details of the problem you're referring to. Could you please provide the specific problem or question you'd like me to solve?\", 'role': 'user'}, {'content': 'Continue. Please keep solving the problem until you need to query. (If you get to the answer, put it in \\\\boxed{}.)', 'role': 'assistant'}, {'content': \"It seems like you might be referring to a problem that was provided earlier, but I do not have that context. To assist you effectively, I need to understand the problem you're working on. Could you please provide the details or restate the problem? This will help me to continue solving it accurately.\", 'role': 'user'}, {'content': 'Continue. Please keep solving the problem until you need to query. (If you get to the answer, put it in \\\\boxed{}.)', 'role': 'assistant'}, {'content': \"It seems like you want me to continue solving a specific problem. However, I currently don't have any context or details about the problem you're referring to. \\n\\nCould you please provide the details or context of the problem so I can assist you in solving it?\", 'role': 'user'}, {'content': 'Continue. Please keep solving the problem until you need to query. (If you get to the answer, put it in \\\\boxed{}.)', 'role': 'assistant'}, {'content': \"It appears that I don't have the problem statement necessary to proceed with solving it. Without the details of the problem, I'm unable to continue.\\n\\nPlease provide the problem statement or context so I can help you solve it.\", 'role': 'user'}, {'content': 'Continue. Please keep solving the problem until you need to query. (If you get to the answer, put it in \\\\boxed{}.)', 'role': 'assistant'}, {'content': 'It seems there might be a misunderstanding. I genuinely want to help you with your problem, but I need the specifics of the problem to continue. Could you please provide the details of the specific problem you are referring to? For example, it could be a math problem, a science question, or something else entirely. Once I have the necessary information, I can continue solving it for you.', 'role': 'user'}, {'content': 'Continue. Please keep solving the problem until you need to query. (If you get to the answer, put it in \\\\boxed{}.)', 'role': 'assistant'}, {'content': \"I apologize for any confusion, but I still don't have the specific problem or context to begin solving. Could you please provide any details related to the problem you're referring to? This information is crucial for me to provide accurate assistance. Thank you!\", 'role': 'user'}, {'content': 'Continue. Please keep solving the problem until you need to query. (If you get to the answer, put it in \\\\boxed{}.)', 'role': 'assistant'}, {'content': \"I understand you want me to continue solving a problem, but I need the actual problem statement to proceed. Please provide the details of the problem, and I will solve it for you. Without the specific problem, unfortunately, I can't move forward.\\n\\nCould you share the exact details or context of the problem you're working on?\", 'role': 'user'}, {'content': 'Continue. Please keep solving the problem until you need to query. (If you get to the answer, put it in \\\\boxed{}.)', 'role': 'assistant'}, {'content': \"Since you repeated the instruction without providing the specifics of the problem, I'll provide a general mathematical problem and work through it to demonstrate the process. If you have a specific problem in mind, please share the details for more targeted help.\\n\\n### Problem:\\nSolve the quadratic equation:\\n\\\\[ x^2 - 4x + 4 = 0 \\\\]\\n\\n### Solution:\\nTo solve the quadratic equation \\\\(x^2 - 4x + 4 = 0\\\\), we'll use the quadratic formula, which is given by:\\n\\n\\\\[ x = \\\\frac{-b \\\\pm \\\\sqrt{b^2 - 4ac}}{2a} \\\\]\\n\\nFor the given equation \\\\(x^2 - 4x + 4 = 0\\\\), the coefficients are:\\n- \\\\( a = 1 \\\\)\\n- \\\\( b = -4 \\\\)\\n- \\\\( c = 4 \\\\)\\n\\nFirst, calculate the discriminant (\\\\(b^2 - 4ac\\\\)):\\n\\\\[ b^2 - 4ac = (-4)^2 - 4 \\\\cdot 1 \\\\cdot 4 \\\\]\\n\\\\[ b^2 - 4ac = 16 - 16 \\\\]\\n\\\\[ b^2 - 4ac = 0 \\\\]\\n\\nSince the discriminant is 0, there is one real and repeated root. Using the quadratic formula:\\n\\n\\\\[ x = \\\\frac{-b \\\\pm \\\\sqrt{0}}{2a} \\\\]\\n\\\\[ x = \\\\frac{-(-4) \\\\pm 0}{2 \\\\cdot 1} \\\\]\\n\\\\[ x = \\\\frac{4}{2} \\\\]\\n\\\\[ x = 2 \\\\]\\n\\nSo, the solution to the quadratic equation \\\\(x^2 - 4x + 4 = 0\\\\) is:\\n\\\\[ \\\\boxed{2} \\\\]\\n\\nIf this isn't the problem you needed help with, please provide the specific details, and I'll assist you accordingly.\", 'role': 'user'}], summary=\"Since you repeated the instruction without providing the specifics of the problem, I'll provide a general mathematical problem and work through it to demonstrate the process. If you have a specific problem in mind, please share the details for more targeted help.\\n\\n### Problem:\\nSolve the quadratic equation:\\n\\\\[ x^2 - 4x + 4 = 0 \\\\]\\n\\n### Solution:\\nTo solve the quadratic equation \\\\(x^2 - 4x + 4 = 0\\\\), we'll use the quadratic formula, which is given by:\\n\\n\\\\[ x = \\\\frac{-b \\\\pm \\\\sqrt{b^2 - 4ac}}{2a} \\\\]\\n\\nFor the given equation \\\\(x^2 - 4x + 4 = 0\\\\), the coefficients are:\\n- \\\\( a = 1 \\\\)\\n- \\\\( b = -4 \\\\)\\n- \\\\( c = 4 \\\\)\\n\\nFirst, calculate the discriminant (\\\\(b^2 - 4ac\\\\)):\\n\\\\[ b^2 - 4ac = (-4)^2 - 4 \\\\cdot 1 \\\\cdot 4 \\\\]\\n\\\\[ b^2 - 4ac = 16 - 16 \\\\]\\n\\\\[ b^2 - 4ac = 0 \\\\]\\n\\nSince the discriminant is 0, there is one real and repeated root. Using the quadratic formula:\\n\\n\\\\[ x = \\\\frac{-b \\\\pm \\\\sqrt{0}}{2a} \\\\]\\n\\\\[ x = \\\\frac{-(-4) \\\\pm 0}{2 \\\\cdot 1} \\\\]\\n\\\\[ x = \\\\frac{4}{2} \\\\]\\n\\\\[ x = 2 \\\\]\\n\\nSo, the solution to the quadratic equation \\\\(x^2 - 4x + 4 = 0\\\\) is:\\n\\\\[ \\\\boxed{2} \\\\]\\n\\nIf this isn't the problem you needed help with, please provide the specific details, and I'll assist you accordingly.\", cost={'usage_including_cached_inference': {'total_cost': 0.030824999999999998, 'gpt-4o-2024-05-13': {'cost': 0.030824999999999998, 'prompt_tokens': 3678, 'completion_tokens': 829, 'total_tokens': 4507}}, 'usage_excluding_cached_inference': {'total_cost': 0.030824999999999998, 'gpt-4o-2024-05-13': {'cost': 0.030824999999999998, 'prompt_tokens': 3678, 'completion_tokens': 829, 'total_tokens': 4507}}}, human_input=[''])"
      ]
     },
     "execution_count": 5,
     "metadata": {},
     "output_type": "execute_result"
    }
   ],
   "source": [
    "math_problem = (\n",
    "    \"Find all $x$ that satisfy the inequality $(2x+10)(x+3)<(3x+9)(x+8)$. Express your answer in interval notation.\"\n",
    ")\n",
    "mathproxyagent.initiate_chat(assistant, problem=math_problem)"
   ]
  }
 ],
 "metadata": {
  "kernelspec": {
   "display_name": "oreilly-autogen",
   "language": "python",
   "name": "oreilly-autogen"
  },
  "language_info": {
   "codemirror_mode": {
    "name": "ipython",
    "version": 3
   },
   "file_extension": ".py",
   "mimetype": "text/x-python",
   "name": "python",
   "nbconvert_exporter": "python",
   "pygments_lexer": "ipython3",
   "version": "3.11.9"
  }
 },
 "nbformat": 4,
 "nbformat_minor": 2
}
