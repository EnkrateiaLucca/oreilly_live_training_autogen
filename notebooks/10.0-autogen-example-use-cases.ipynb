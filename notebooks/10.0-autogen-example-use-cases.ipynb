{
 "cells": [
  {
   "cell_type": "markdown",
   "id": "dffd68b9",
   "metadata": {},
   "source": [
    "# Company Research with AutoGen\n",
    "\n",
    "In this lesson, we'll learn how to create a team of AI agents to perform company research and analysis using AutoGen. We'll build a system that combines web search, stock analysis, and report generation capabilities.\n",
    "\n",
    "First, let's set up our environment with the required dependencies:"
   ]
  },
  {
   "cell_type": "code",
   "execution_count": 1,
   "id": "143ccbdc",
   "metadata": {},
   "outputs": [],
   "source": [
    "import os\n",
    "import getpass\n",
    "\n",
    "def _set_env(var: str):\n",
    "    if not os.environ.get(var):\n",
    "        os.environ[var] = getpass.getpass(f\"{var}: \")\n",
    "\n",
    "# Set required API keys\n",
    "# _set_env(\"GOOGLE_SEARCH_ENGINE_ID\")\n",
    "# _set_env(\"GOOGLE_API_KEY\")\n",
    "_set_env(\"OPENAI_API_KEY\")"
   ]
  },
  {
   "cell_type": "code",
   "execution_count": 2,
   "id": "424eabbc",
   "metadata": {},
   "outputs": [
    {
     "name": "stdout",
     "output_type": "stream",
     "text": [
      "Async environment configured for Jupyter.\n"
     ]
    }
   ],
   "source": [
    "try:\n",
    "    import nest_asyncio\n",
    "    nest_asyncio.apply()\n",
    "    print(\"Async environment configured for Jupyter.\")\n",
    "except ImportError:\n",
    "    print(\"Please install nest_asyncio with `pip install nest_asyncio`\")"
   ]
  },
  {
   "cell_type": "code",
   "execution_count": null,
   "id": "c9034bc1",
   "metadata": {},
   "outputs": [],
   "source": [
    "# Import required libraries\n",
    "from autogen_agentchat.agents import AssistantAgent\n",
    "from autogen_agentchat.conditions import TextMentionTermination\n",
    "from autogen_agentchat.teams import RoundRobinGroupChat\n",
    "from autogen_agentchat.ui import Console\n",
    "from autogen_core.tools import FunctionTool\n",
    "from autogen_ext.models.openai import OpenAIChatCompletionClient"
   ]
  },
  {
   "cell_type": "markdown",
   "id": "8cfcddfb",
   "metadata": {},
   "source": [
    "Let's create our research tools. First, a web search function using Google's Custom Search API:"
   ]
  },
  {
   "cell_type": "code",
   "execution_count": null,
   "id": "8b16fdc3",
   "metadata": {},
   "outputs": [],
   "source": [
    "def google_search(query: str, num_results: int = 2, max_chars: int = 500) -> list:\n",
    "    import requests\n",
    "    from bs4 import BeautifulSoup\n",
    "    import time\n",
    "    \n",
    "    url = \"https://customsearch.googleapis.com/customsearch/v1\"\n",
    "    params = {\n",
    "        \"key\": os.environ[\"GOOGLE_API_KEY\"],\n",
    "        \"cx\": os.environ[\"GOOGLE_SEARCH_ENGINE_ID\"],\n",
    "        \"q\": query,\n",
    "        \"num\": num_results\n",
    "    }\n",
    "    \n",
    "    response = requests.get(url, params=params)\n",
    "    \n",
    "    if response.status_code != 200:\n",
    "        raise Exception(f\"Error in API request: {response.status_code}\")\n",
    "        \n",
    "    results = response.json().get(\"items\", [])\n",
    "    \n",
    "    def get_page_content(url: str) -> str:\n",
    "        try:\n",
    "            response = requests.get(url, timeout=10)\n",
    "            soup = BeautifulSoup(response.content, \"html.parser\")\n",
    "            text = soup.get_text(separator=\" \", strip=True)\n",
    "            return text[:max_chars]\n",
    "        except Exception as e:\n",
    "            print(f\"Error fetching {url}: {str(e)}\")\n",
    "            return \"\"\n",
    "            \n",
    "    enriched_results = []\n",
    "    for item in results:\n",
    "        body = get_page_content(item[\"link\"])\n",
    "        enriched_results.append({\n",
    "            \"title\": item[\"title\"],\n",
    "            \"link\": item[\"link\"], \n",
    "            \"snippet\": item[\"snippet\"],\n",
    "            \"body\": body\n",
    "        })\n",
    "        time.sleep(1)\n",
    "        \n",
    "    return enriched_results"
   ]
  },
  {
   "cell_type": "markdown",
   "id": "7c443bc2",
   "metadata": {},
   "source": [
    "Next, let's create a stock analysis function using yfinance:"
   ]
  },
  {
   "cell_type": "code",
   "execution_count": null,
   "id": "56b45d0f",
   "metadata": {},
   "outputs": [],
   "source": [
    "def analyze_stock(ticker: str) -> dict:\n",
    "    import yfinance as yf\n",
    "    import matplotlib.pyplot as plt\n",
    "    import numpy as np\n",
    "    from datetime import datetime, timedelta\n",
    "    from pytz import timezone\n",
    "    \n",
    "    stock = yf.Ticker(ticker)\n",
    "    \n",
    "    # Get 1 year of historical data\n",
    "    end_date = datetime.now(timezone(\"UTC\"))\n",
    "    start_date = end_date - timedelta(days=365)\n",
    "    hist = stock.history(start=start_date, end=end_date)\n",
    "    \n",
    "    if hist.empty:\n",
    "        return {\"error\": \"No data available\"}\n",
    "        \n",
    "    # Calculate metrics\n",
    "    current_price = hist[\"Close\"].iloc[-1]\n",
    "    year_high = hist[\"High\"].max()\n",
    "    year_low = hist[\"Low\"].min()\n",
    "    ma_50 = hist[\"Close\"].rolling(window=50).mean().iloc[-1]\n",
    "    ma_200 = hist[\"Close\"].rolling(window=200).mean().iloc[-1]\n",
    "    \n",
    "    # Calculate YTD metrics\n",
    "    ytd_start = datetime(end_date.year, 1, 1, tzinfo=timezone(\"UTC\"))\n",
    "    ytd_data = hist.loc[ytd_start:]\n",
    "    if not ytd_data.empty:\n",
    "        price_change = ytd_data[\"Close\"].iloc[-1] - ytd_data[\"Close\"].iloc[0]\n",
    "        percent_change = (price_change / ytd_data[\"Close\"].iloc[0]) * 100\n",
    "    \n",
    "    # Generate plot\n",
    "    plt.figure(figsize=(12, 6))\n",
    "    plt.plot(hist.index, hist[\"Close\"], label=\"Price\")\n",
    "    plt.plot(hist.index, hist[\"Close\"].rolling(50).mean(), label=\"50-day MA\")\n",
    "    plt.plot(hist.index, hist[\"Close\"].rolling(200).mean(), label=\"200-day MA\")\n",
    "    plt.title(f\"{ticker} Stock Price\")\n",
    "    plt.xlabel(\"Date\")\n",
    "    plt.ylabel(\"Price ($)\")\n",
    "    plt.legend()\n",
    "    \n",
    "    plot_path = f\"stock_{ticker}.png\"\n",
    "    plt.savefig(plot_path)\n",
    "    plt.close()\n",
    "    \n",
    "    return {\n",
    "        \"current_price\": current_price,\n",
    "        \"52_week_high\": year_high,\n",
    "        \"52_week_low\": year_low,\n",
    "        \"50_day_ma\": ma_50,\n",
    "        \"200_day_ma\": ma_200,\n",
    "        \"ytd_change\": percent_change,\n",
    "        \"plot_path\": plot_path\n",
    "    }"
   ]
  },
  {
   "cell_type": "markdown",
   "id": "5ddada57",
   "metadata": {},
   "source": [
    "Now let's create our team of agents:"
   ]
  },
  {
   "cell_type": "code",
   "execution_count": null,
   "id": "04d5c3cc",
   "metadata": {},
   "outputs": [],
   "source": [
    "# Create function tools\n",
    "search_tool = FunctionTool(google_search, \n",
    "                          description=\"Search Google for company information\")\n",
    "stock_tool = FunctionTool(analyze_stock,\n",
    "                         description=\"Analyze stock data and create price chart\")\n",
    "\n",
    "# Create agents\n",
    "search_agent = AssistantAgent(\n",
    "    name=\"Search_Agent\",\n",
    "    model_client=OpenAIChatCompletionClient(model=\"gpt-4\"),\n",
    "    tools=[search_tool],\n",
    "    system_message=\"You search for company information and summarize findings.\"\n",
    ")\n",
    "\n",
    "stock_agent = AssistantAgent(\n",
    "    name=\"Stock_Agent\", \n",
    "    model_client=OpenAIChatCompletionClient(model=\"gpt-4\"),\n",
    "    tools=[stock_tool],\n",
    "    system_message=\"You analyze stock data and interpret technical indicators.\"\n",
    ")\n",
    "\n",
    "report_agent = AssistantAgent(\n",
    "    name=\"Report_Agent\",\n",
    "    model_client=OpenAIChatCompletionClient(model=\"gpt-4\"),\n",
    "    system_message=\"You compile information into comprehensive research reports.\"\n",
    ")\n",
    "\n",
    "# Create team\n",
    "team = RoundRobinGroupChat(\n",
    "    agents=[search_agent, stock_agent, report_agent],\n",
    "    max_turns=3\n",
    ")"
   ]
  },
  {
   "cell_type": "markdown",
   "id": "e7251f7c",
   "metadata": {},
   "source": [
    "Let's run our research team:"
   ]
  },
  {
   "cell_type": "code",
   "execution_count": null,
   "id": "0548f0f2",
   "metadata": {},
   "outputs": [],
   "source": [
    "# Run the research team\n",
    "async def research_company(company_name: str):\n",
    "    stream = team.run_stream(\n",
    "        task=f\"Research and create a report on {company_name}\"\n",
    "    )\n",
    "    await Console(stream)\n",
    "\n",
    "# Example usage\n",
    "await research_company(\"Tesla\")"
   ]
  },
  {
   "cell_type": "markdown",
   "id": "8550dc1d",
   "metadata": {},
   "source": [
    "This will generate a comprehensive report including:\n",
    "- Company overview from web search\n",
    "- Stock analysis with technical indicators\n",
    "- Price chart visualization\n",
    "- Summary of recent developments\n",
    "- Key financial metrics\n",
    "\n",
    "The agents work sequentially:\n",
    "1. Search Agent gathers information\n",
    "2. Stock Agent analyzes market data\n",
    "3. Report Agent compiles everything into a final report\n",
    "\n",
    "This demonstrates how AutoGen can be used to create specialized agent teams that work together to accomplish complex research tasks."
   ]
  }
 ],
 "metadata": {
  "kernelspec": {
   "display_name": "oreilly-autogen",
   "language": "python",
   "name": "oreilly-autogen"
  },
  "language_info": {
   "codemirror_mode": {
    "name": "ipython",
    "version": 3
   },
   "file_extension": ".py",
   "mimetype": "text/x-python",
   "name": "python",
   "nbconvert_exporter": "python",
   "pygments_lexer": "ipython3",
   "version": "3.11.9"
  }
 },
 "nbformat": 4,
 "nbformat_minor": 5
}
