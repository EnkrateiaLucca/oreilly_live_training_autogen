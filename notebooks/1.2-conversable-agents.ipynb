{
 "cells": [
  {
   "cell_type": "markdown",
   "metadata": {},
   "source": [
    "# Conversable Agents"
   ]
  },
  {
   "cell_type": "code",
   "execution_count": 1,
   "metadata": {},
   "outputs": [
    {
     "name": "stdout",
     "output_type": "stream",
     "text": [
      "<autogen.agentchat.conversable_agent.ConversableAgent object at 0x3501780d0>\n"
     ]
    }
   ],
   "source": [
    "import os\n",
    "\n",
    "from autogen import ConversableAgent\n",
    "\n",
    "agent = ConversableAgent(\n",
    "    \"chatbot\",\n",
    "    llm_config={\"config_list\": [{\"model\": \"gpt-4\", \"api_key\": os.environ.get(\"OPENAI_API_KEY\")}]},\n",
    "    code_execution_config=False,  # Turn off code execution, by default it is off.\n",
    "    function_map=None,  # No registered functions, by default it is None.\n",
    "    human_input_mode=\"NEVER\",  # Never ask for human input.\n",
    ")\n",
    "\n",
    "print(agent)"
   ]
  },
  {
   "cell_type": "code",
   "execution_count": 2,
   "metadata": {},
   "outputs": [
    {
     "name": "stdout",
     "output_type": "stream",
     "text": [
      "Sure, here's a classic one for you:\n",
      "\n",
      "Why don't scientists trust atoms?\n",
      "\n",
      "Because they make up everything!\n"
     ]
    }
   ],
   "source": [
    "reply = agent.generate_reply(messages=[{\"content\": \"Tell me a joke.\", \"role\": \"user\"}])\n",
    "print(reply)"
   ]
  },
  {
   "cell_type": "code",
   "execution_count": 6,
   "metadata": {},
   "outputs": [
    {
     "name": "stdout",
     "output_type": "stream",
     "text": [
      "\u001b[33mAI-buddy\u001b[0m (to lucas):\n",
      "\n",
      "Lucas, write an essay about how LLM agents work.\n",
      "\n",
      "--------------------------------------------------------------------------------\n",
      "\u001b[33mlucas\u001b[0m (to AI-buddy):\n",
      "\n",
      "Title: Understanding the Mechanisms of LLM Agents\n",
      "\n",
      "In the exponentially evolving world of machine learning, one predominant concept is the Language Model (LLM) agents. LLM agents are a type of artificial intelligence that have been trained to understand and generate human-like text based on the input they receive. \n",
      "\n",
      "One of the prime examples of an LLM agent is OpenAI’s GPT-3 model. It is a third-generation model that is formed on the theoretical paradigm of the transformer architecture, which uses a deep learning model predominantly for handling sequence data. LLM agents have revolutionized the interaction between humans and machines, transcending barriers of mutual comprehension and enabling machines to comprehend and replicate human language more effectively and efficiently.\n",
      "\n",
      "To understand how LLM agents work, it is essential to first comprehend the essence of machine learning. Machine learning is a system of algorithms and statistical models utilized by a computer to perform tasks without explicit programming, relying instead on patterns and inference. Within this sphere, LLMs are based on supervised learning, where a model is trained on a large amount of labelled data.\n",
      "\n",
      "LLM agents, like GPT-3, are pre-trained on a diverse range of internet text. However, it's crucial to note, while GPT-3 absorbs the text, it doesn't know the specifics of the documents utilized in its training. The concept of 'knowledge' for such models is statistical and not explicit.\n",
      "\n",
      "The working of LLM agents is designed around mechanisms of prediction. The core idea is to predict the subsequent words in a given sequence of words. The agent is 'fed' a sequence of tokens (words, for instance) and it generates the following token. Each token's generation is dependent on the preceding ones. This prediction chain continues until it reaches a token signifying the 'end.'\n",
      "\n",
      "This process is what facilitates the interaction where a user can input a series of tokens and the model generates a response by predicting the next in sequence. Thus, LLM agents could generate narratives, answer questions, translate languages, and even write code to a certain degree. \n",
      "\n",
      "However, it's important to note that while LLMs can generate impressively human-like text, they are not perfect. They can often produce nonsensical or biased outputs because their understanding is fundamentally based on predicting what comes next in a sequence, rather than truly understanding human language.\n",
      "\n",
      "In conclusion, LLM agents epitomize the remarkable strides artificial intelligence has made in the sphere of natural language processing. They mark the culmination of years of research and development, transfiguring our interaction with machines. However, while the technology is impressive, it is not without flaws and challenges, particularly in understanding and mitigating biases learnt from the training data. The onus lies in harnessing and fine-tuning these LLMs to understand and generate language in a way that is ethical, unbiased, and beneficial to humanity.\n",
      "\n",
      "\n",
      "--------------------------------------------------------------------------------\n",
      "\u001b[33mAI-buddy\u001b[0m (to lucas):\n",
      "\n",
      "Great job, Lucas! Your essay is well-structured and provides a comprehensive understanding of LLM agents. Here are a few areas where you can improve:\n",
      "\n",
      "1. **Thesis Statement**: The introduction could benefit from a more explicit thesis statement. A clear thesis statement will tell readers what to expect from the rest of the essay.\n",
      "\n",
      "2. **Technical Terminology**: You've used a good amount of technical terminology, which is excellent for readers familiar with the subject. However, for those who aren't, it may be beneficial to define terms like \"transformer architecture\", \"supervised learning\", and \"token\". \n",
      "\n",
      "3. **Examples and Analogies**: Your essay is rich in information, but could use more examples or analogies to help illustrate the points you're making, especially when explaining complex concepts like how LLM agents work. \n",
      "\n",
      "4. **Conclusion**: Your conclusion nicely sums up the points made in your essay, but it would be good to revisit your thesis statement here. This would help to reinforce your argument and give your essay a sense of closure.\n",
      "\n",
      "5. **Proofreading**: Finally, ensure to proofread your work to avoid minor grammatical errors. For instance, \"The concept of 'knowledge' for such models is statistical and not explicit.\" could be better phrased as \"For such models, the concept of 'knowledge' is statistical, not explicit.\"\n",
      "\n",
      "Remember, writing is a process and every revision makes your work better. Keep it up!\n",
      "\n",
      "--------------------------------------------------------------------------------\n",
      "\u001b[33mlucas\u001b[0m (to AI-buddy):\n",
      "\n",
      "Thank you for providing such detailed feedback! I appreciate your suggestions and will work on incorporating them into my future writing. Your comments on adding more examples or analogies and enhancing the clarity of my thesis statement are particularly insightful. The point about proofreading is duly noted. Thanks again for your guidance!\n",
      "\n",
      "--------------------------------------------------------------------------------\n"
     ]
    }
   ],
   "source": [
    "lucas_ai = ConversableAgent(\n",
    "    \"lucas\",\n",
    "    system_message=\"Your name is lucas and you are a writer.\",\n",
    "    llm_config={\"config_list\": [{\"model\": \"gpt-4\", \"temperature\": 0.9, \"api_key\": os.environ.get(\"OPENAI_API_KEY\")}]},\n",
    "    human_input_mode=\"NEVER\",  # Never ask for human input.\n",
    ")\n",
    "\n",
    "ai_buddy = ConversableAgent(\n",
    "    \"AI-buddy\",\n",
    "    system_message=\"Your name is AI-buddy and you are a helpful assistant that gives constructive criticism to the user to improve their writing.\",\n",
    "    llm_config={\"config_list\": [{\"model\": \"gpt-4\", \"temperature\": 0.7, \"api_key\": os.environ.get(\"OPENAI_API_KEY\")}]},\n",
    "    human_input_mode=\"NEVER\",  # Never ask for human input.\n",
    ")\n",
    "\n",
    "result = ai_buddy.initiate_chat(lucas_ai, message=\"Lucas, write an essay about how LLM agents work.\", max_turns=3)"
   ]
  },
  {
   "cell_type": "code",
   "execution_count": null,
   "metadata": {},
   "outputs": [],
   "source": []
  }
 ],
 "metadata": {
  "kernelspec": {
   "display_name": "oreilly-autogen",
   "language": "python",
   "name": "oreilly-autogen"
  },
  "language_info": {
   "codemirror_mode": {
    "name": "ipython",
    "version": 3
   },
   "file_extension": ".py",
   "mimetype": "text/x-python",
   "name": "python",
   "nbconvert_exporter": "python",
   "pygments_lexer": "ipython3",
   "version": "3.11.9"
  }
 },
 "nbformat": 4,
 "nbformat_minor": 2
}
