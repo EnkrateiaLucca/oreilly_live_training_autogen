{
 "cells": [
  {
   "cell_type": "markdown",
   "id": "af6912e9",
   "metadata": {},
   "source": [
    "# Working with Termination Conditions in AutoGen\n",
    "\n",
    "In this lesson, we'll explore how to control and manage conversations between AI agents using AutoGen's termination conditions. We'll learn about different types of termination conditions and how to combine them for more complex control flow."
   ]
  },
  {
   "cell_type": "code",
   "execution_count": null,
   "id": "641e5784",
   "metadata": {},
   "outputs": [],
   "source": [
    "import os\n",
    "import getpass\n",
    "\n",
    "def _set_env(var: str):\n",
    "    if not os.environ.get(var):\n",
    "        os.environ[var] = getpass.getpass(f\"{var}: \")\n",
    "\n",
    "_set_env(\"OPENAI_API_KEY\")\n",
    "\n",
    "from autogen import AssistantAgent, UserProxyAgent\n",
    "from autogen.agentchat.contrib.text_analyzer_agent import TextAnalyzerAgent\n",
    "from autogen.agentchat.contrib.math_agent import MathAgent\n",
    "from autogen.agentchat.conditions import (\n",
    "    MaxMessageTermination,\n",
    "    TextMentionTermination,\n",
    "    TimeoutTermination\n",
    ")"
   ]
  },
  {
   "cell_type": "markdown",
   "id": "23956a8f",
   "metadata": {},
   "source": [
    "## Basic Termination Setup\n",
    "\n",
    "Let's create a simple scenario where we have a writer agent and an editor agent collaborating on creating and refining poetry:"
   ]
  },
  {
   "cell_type": "code",
   "execution_count": null,
   "id": "5c641e32",
   "metadata": {},
   "outputs": [],
   "source": [
    "# Create our agents\n",
    "writer = AssistantAgent(\n",
    "    name=\"poet\",\n",
    "    system_message=\"You are a creative poet who writes modern poetry. You accept feedback and improve your work.\",\n",
    "    llm_config={\"temperature\": 0.7}\n",
    ")\n",
    "\n",
    "editor = AssistantAgent(\n",
    "    name=\"editor\",\n",
    "    system_message=\"You are a poetry editor. Review poems and provide constructive feedback. Use 'APPROVED' when satisfied.\",\n",
    "    llm_config={\"temperature\": 0.3}\n",
    ")\n",
    "\n",
    "# Create a simple max message termination\n",
    "max_messages = MaxMessageTermination(max_messages=6)"
   ]
  },
  {
   "cell_type": "markdown",
   "id": "af7a6612",
   "metadata": {},
   "source": [
    "## Using Basic Termination Conditions\n",
    "\n",
    "Let's demonstrate how to use a simple termination condition:"
   ]
  },
  {
   "cell_type": "code",
   "execution_count": null,
   "id": "7f851bed",
   "metadata": {},
   "outputs": [],
   "source": [
    "# Initialize the chat\n",
    "user_proxy = UserProxyAgent(\n",
    "    name=\"user\",\n",
    "    system_message=\"A poetry enthusiast looking for original poems.\",\n",
    "    code_execution_config=False\n",
    ")\n",
    "\n",
    "# Start a conversation with max message termination\n",
    "chat_messages = user_proxy.initiate_chat(\n",
    "    writer,\n",
    "    message=\"Write a short poem about artificial intelligence\",\n",
    "    termination_condition=max_messages\n",
    ")"
   ]
  },
  {
   "cell_type": "markdown",
   "id": "059326b9",
   "metadata": {},
   "source": [
    "## Combining Termination Conditions\n",
    "\n",
    "We can create more sophisticated termination logic by combining conditions:"
   ]
  },
  {
   "cell_type": "code",
   "execution_count": null,
   "id": "da4710cd",
   "metadata": {},
   "outputs": [],
   "source": [
    "# Create multiple termination conditions\n",
    "max_time = TimeoutTermination(timeout=300)  # 5 minutes\n",
    "approval = TextMentionTermination(\"APPROVED\")\n",
    "max_rounds = MaxMessageTermination(max_messages=10)\n",
    "\n",
    "# Combine conditions using OR operator\n",
    "termination_or = max_rounds | approval  # Stops if either condition is met\n",
    "\n",
    "# Combine conditions using AND operator\n",
    "termination_and = max_time & approval  # Stops only if both conditions are met\n",
    "\n",
    "# Example usage with combined conditions\n",
    "def poetry_review_session(prompt: str, termination: any):\n",
    "    return user_proxy.initiate_chat(\n",
    "        writer,\n",
    "        message=prompt,\n",
    "        termination_condition=termination\n",
    "    )"
   ]
  },
  {
   "cell_type": "markdown",
   "id": "2543e4dd",
   "metadata": {},
   "source": [
    "## Practical Example: Poetry Workshop\n",
    "\n",
    "Let's create a more complex example where we use termination conditions in a poetry workshop scenario:"
   ]
  },
  {
   "cell_type": "code",
   "execution_count": null,
   "id": "78f6bade",
   "metadata": {},
   "outputs": [],
   "source": [
    "def run_poetry_workshop(theme: str):\n",
    "    # Create a termination condition that stops when:\n",
    "    # 1. Editor approves OR\n",
    "    # 2. Maximum of 8 messages have been exchanged AND 5 minutes have passed\n",
    "    approval = TextMentionTermination(\"APPROVED\")\n",
    "    max_messages = MaxMessageTermination(max_messages=8)\n",
    "    timeout = TimeoutTermination(timeout=300)\n",
    "    \n",
    "    termination_condition = approval | (max_messages & timeout)\n",
    "    \n",
    "    # Initial prompt\n",
    "    prompt = f\"\"\"Please write a poem about {theme}. \n",
    "    The poem should be modern and thought-provoking.\"\"\"\n",
    "    \n",
    "    # Start the workshop session\n",
    "    chat_result = user_proxy.initiate_chat(\n",
    "        writer,\n",
    "        message=prompt,\n",
    "        termination_condition=termination_condition\n",
    "    )\n",
    "    \n",
    "    return chat_result\n",
    "\n",
    "# Example usage\n",
    "workshop_result = run_poetry_workshop(\"the future of technology\")"
   ]
  },
  {
   "cell_type": "markdown",
   "id": "08ab6384",
   "metadata": {},
   "source": [
    "## Handling Termination Results\n",
    "\n",
    "We can analyze the results of our terminated conversations:"
   ]
  },
  {
   "cell_type": "code",
   "execution_count": null,
   "id": "75a48968",
   "metadata": {},
   "outputs": [],
   "source": [
    "def analyze_workshop_results(chat_result):\n",
    "    # Extract relevant information\n",
    "    message_count = len(chat_result)\n",
    "    final_message = chat_result[-1]\n",
    "    \n",
    "    # Check termination reason\n",
    "    if \"APPROVED\" in final_message.content:\n",
    "        status = \"Approved\"\n",
    "    elif len(chat_result) >= 8:\n",
    "        status = \"Max messages reached\"\n",
    "    else:\n",
    "        status = \"Timeout\"\n",
    "    \n",
    "    return {\n",
    "        \"status\": status,\n",
    "        \"message_count\": message_count,\n",
    "        \"final_message\": final_message.content\n",
    "    }"
   ]
  },
  {
   "cell_type": "markdown",
   "id": "620cde44",
   "metadata": {},
   "source": [
    "This lesson covered the basics of termination conditions in AutoGen, showing how to:\n",
    "1. Create basic termination conditions\n",
    "2. Combine conditions using logical operators\n",
    "3. Implement practical scenarios with termination conditions\n",
    "4. Handle and analyze termination results\n",
    "\n",
    "Remember that termination conditions are essential for controlling the flow of agent conversations and ensuring they conclude appropriately based on your specific requirements."
   ]
  }
 ],
 "metadata": {},
 "nbformat": 4,
 "nbformat_minor": 5
}
