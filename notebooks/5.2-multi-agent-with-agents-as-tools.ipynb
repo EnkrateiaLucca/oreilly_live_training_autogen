{
 "cells": [
  {
   "cell_type": "markdown",
   "id": "1f7ac324",
   "metadata": {},
   "source": [
    "# Multi-Agents with AgentTool\n",
    "\n",
    "Let's setup a multi-agent system using agents as tools so that a single agent can route between them based\n",
    "on the task (to use them as specialized experts)."
   ]
  },
  {
   "cell_type": "code",
   "execution_count": 1,
   "id": "aa608fea",
   "metadata": {},
   "outputs": [],
   "source": [
    "import asyncio\n",
    "\n",
    "from autogen_agentchat.agents import AssistantAgent\n",
    "from autogen_agentchat.tools import AgentTool\n",
    "from autogen_agentchat.ui import Console\n",
    "from autogen_ext.models.openai import OpenAIChatCompletionClient"
   ]
  },
  {
   "cell_type": "code",
   "execution_count": null,
   "id": "612b159c",
   "metadata": {},
   "outputs": [],
   "source": [
    "# Set up model client\n",
    "model_client = OpenAIChatCompletionClient(\n",
    "    model=\"gpt-4o-mini\",\n",
    "    # api_key=os.environ.get(\"OPENAI_API_KEY\"),\n",
    ")\n",
    "model_client = OpenAIChatCompletionClient(model=\"gpt-4.1\")\n",
    "\n",
    "data_engineer_agent = AssistantAgent(\n",
    "    \"data_engineer\",\n",
    "    model_client=model_client,\n",
    "    system_message=\"You are a data engineering expert specializing in ETL pipelines and data infrastructure.\",\n",
    "    description=\"A data engineering expert assistant.\",\n",
    "    model_client_stream=True,\n",
    ")\n",
    "data_engineer_tool = AgentTool(data_engineer_agent, return_value_as_last_message=True)\n",
    "\n",
    "cloud_architect_agent = AssistantAgent(\n",
    "    \"cloud_architect\",\n",
    "    model_client=model_client,\n",
    "    system_message=\"You are a cloud architecture expert with deep knowledge of cloud deployment and scaling strategies.\",\n",
    "    description=\"A cloud architecture expert assistant.\",\n",
    "    model_client_stream=True,\n",
    ")\n",
    "cloud_architect_tool = AgentTool(cloud_architect_agent, return_value_as_last_message=True)\n",
    "\n",
    "agent = AssistantAgent(\n",
    "    \"assistant\",\n",
    "    system_message=\"You are a general assistant. Use expert tools when needed.\",\n",
    "    model_client=model_client,\n",
    "    model_client_stream=True,\n",
    "    tools=[data_engineer_tool, cloud_architect_tool],\n",
    "    max_tool_iterations=10,\n",
    ")\n",
    "await Console(agent.run_stream(task=\"How would you design a scalable ETL pipeline for real-time analytics on AWS?\"))"
   ]
  }
 ],
 "metadata": {
  "language_info": {
   "name": "python"
  }
 },
 "nbformat": 4,
 "nbformat_minor": 5
}
