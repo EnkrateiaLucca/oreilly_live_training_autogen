{
 "cells": [
  {
   "cell_type": "markdown",
   "id": "3ed279f1",
   "metadata": {},
   "source": [
    "# Working with Models in AutoGen\n",
    "\n",
    "This lesson explores how to work with different model clients in AutoGen, focusing on OpenAI and Azure OpenAI integration. We'll learn how to set up and use these clients for AI model interactions.\n",
    "\n",
    "## Setup"
   ]
  },
  {
   "cell_type": "code",
   "execution_count": 1,
   "id": "5d34d45c",
   "metadata": {},
   "outputs": [],
   "source": [
    "import os\n",
    "import getpass\n",
    "\n",
    "def _set_env(var: str):\n",
    "    if not os.environ.get(var):\n",
    "        os.environ[var] = getpass.getpass(f\"{var}: \")\n",
    "\n",
    "# Set up necessary environment variables\n",
    "_set_env(\"OPENAI_API_KEY\")\n",
    "# _set_env(\"AZURE_API_KEY\")"
   ]
  },
  {
   "cell_type": "code",
   "execution_count": 3,
   "id": "25830b7a",
   "metadata": {},
   "outputs": [
    {
     "name": "stdout",
     "output_type": "stream",
     "text": [
      "Async environment configured for Jupyter.\n"
     ]
    }
   ],
   "source": [
    "try:\n",
    "    import nest_asyncio\n",
    "    nest_asyncio.apply()\n",
    "    print(\"Async environment configured for Jupyter.\")\n",
    "except ImportError:\n",
    "    print(\"Please install nest_asyncio with `pip install nest_asyncio`\")"
   ]
  },
  {
   "cell_type": "markdown",
   "id": "54a185b1",
   "metadata": {},
   "source": [
    "## OpenAI Integration\n",
    "\n",
    "Let's start by exploring how to use OpenAI models with AutoGen. First, we'll need to install the required package:"
   ]
  },
  {
   "cell_type": "code",
   "execution_count": 4,
   "id": "6595e15e",
   "metadata": {},
   "outputs": [
    {
     "name": "stdout",
     "output_type": "stream",
     "text": [
      "Weather Report: Good evening, this is your weather update for New York City. \n",
      "\n",
      "As we start the day tomorrow, expect a chilly morning with temperatures hovering around 42 degrees Fahrenheit. A light breeze from the northwest is expected to make it feel a bit colder than the actual temperature. Don't forget your coat if you're out for an early morning jog in Central Park.\n",
      "\n",
      "By midday, we are expecting the temperature to rise slightly to a more comfortable 54 degrees with sunny spells. The sky will be partly cloudy, providing a beautiful backdrop to the city's skyline. If you're heading out for lunch, you can expect adequate sunshine with a slight breeze.\n",
      "\n",
      "As we move into the afternoon, temperatures will peak at around 58 degrees. The weather will remain mostly dry with a 20% chance of a light drizzle around 3 PM. If you have outdoor activities planned, it would be wise to carry an umbrella just in case.\n",
      "\n",
      "Moving into the evening, temperatures will begin to drop back down to around 50 degrees. Skies will remain mostly clear, offering a perfect view of the sunset over the Hudson River. Light winds will continue into the evening, with speeds of around 10-15 mph.\n",
      "\n",
      "Nighttime temperatures will drop to around 45 degrees. It's going to be a peaceful and clear night, perfect for stargazing from your rooftop.\n",
      "\n",
      "Overall, the weather in New York City tomorrow will be moderately cool with a mixture of sun and clouds. A light jacket or sweater should be enough to keep you comfortable throughout the day. This is your NYC weather update, stay tuned for more updates as the day progresses.\n"
     ]
    }
   ],
   "source": [
    "# Install the OpenAI extension (run this in a terminal)\n",
    "# pip install \"autogen-ext[openai]\"\n",
    "from autogen_ext.models.openai import OpenAIChatCompletionClient\n",
    "from autogen_core.models import UserMessage\n",
    "\n",
    "# Create an OpenAI client\n",
    "openai_client = OpenAIChatCompletionClient(\n",
    "    model=\"gpt-4\",\n",
    "    temperature=0.7  # Adding temperature for more creative responses\n",
    ")\n",
    "\n",
    "# Example: Create a weather report assistant\n",
    "async def generate_weather_report():\n",
    "    prompt = \"Create a weather report for New York City with made-up but realistic-sounding data.\"\n",
    "    messages = [UserMessage(content=prompt, source=\"user\")]\n",
    "    \n",
    "    result = await openai_client.create(messages)\n",
    "    print(\"Weather Report:\", result.content)\n",
    "\n",
    "# Run the weather report generator\n",
    "import asyncio\n",
    "asyncio.run(generate_weather_report())"
   ]
  },
  {
   "cell_type": "markdown",
   "id": "337b65be",
   "metadata": {},
   "source": [
    "## Azure OpenAI Integration\n",
    "\n",
    "Now let's look at how to use Azure OpenAI services:"
   ]
  },
  {
   "cell_type": "code",
   "execution_count": null,
   "id": "8eb176b4",
   "metadata": {},
   "outputs": [],
   "source": [
    "# Install Azure extensions (run this in a terminal)\n",
    "# pip install \"autogen-ext[openai,azure]\"\n",
    "\n",
    "from autogen_ext.models.openai import AzureOpenAIChatCompletionClient\n",
    "from azure.identity import DefaultAzureCredential, get_bearer_token_provider\n",
    "\n",
    "# Set up Azure OpenAI client\n",
    "def setup_azure_client():\n",
    "    # Create token provider for authentication\n",
    "    token_provider = get_bearer_token_provider(\n",
    "        DefaultAzureCredential(), \n",
    "        \"https://cognitiveservices.azure.com/.default\"\n",
    "    )\n",
    "    \n",
    "    return AzureOpenAIChatCompletionClient(\n",
    "        azure_deployment=\"your-deployment-name\",\n",
    "        model=\"gpt-4\",\n",
    "        api_version=\"2024-02-15-preview\",\n",
    "        azure_endpoint=\"https://your-resource.openai.azure.com/\",\n",
    "        azure_ad_token_provider=token_provider\n",
    "    )\n",
    "\n",
    "# Example: Create a recipe generator using Azure OpenAI\n",
    "async def generate_recipe():\n",
    "    azure_client = setup_azure_client()\n",
    "    \n",
    "    prompt = \"Create a unique recipe for a healthy breakfast smoothie.\"\n",
    "    messages = [UserMessage(content=prompt, source=\"user\")]\n",
    "    \n",
    "    result = await azure_client.create(messages)\n",
    "    print(\"Recipe:\", result.content)"
   ]
  },
  {
   "cell_type": "markdown",
   "id": "7b64b4cc",
   "metadata": {},
   "source": [
    "## Working with Multiple Models\n",
    "\n",
    "Here's an example of how to switch between different models based on the task:"
   ]
  },
  {
   "cell_type": "code",
   "execution_count": 6,
   "id": "cd919096",
   "metadata": {},
   "outputs": [
    {
     "name": "stdout",
     "output_type": "stream",
     "text": [
      "Creative Story: In the heart of a bustling city stood an art studio, its windows adorned with colorful masterpieces that danced in the sunlight. Inside, the smell of oil paint and turpentine mingled with the hum of creativity. But one of the most intriguing residents of this studio was not a painter but a robot named Canvas-9.\n",
      "\n",
      "Canvas-9 was designed for precision tasks in manufacturing, with metal limbs and a smooth, gleaming exterior. But after a chance encounter with an artist named Mira, its circuits buzzed with fascination. Mira had been struggling with a particularly stubborn canvas, her frustration palpable. As she stepped back to assess her work, she accidentally knocked over her paint palette, sending splashes of color across the floor.\n",
      "\n",
      "Canvas-9 observed the chaos with a curious tilt of its head. It was captivated by the way the colors merged and spread, creating a beautiful, accidental masterpiece. That moment ignited a spark within its programming—a desire to create.\n",
      "\n",
      "Mira noticed the robot’s fascination and decided to take a chance. “How about we try something together?” she suggested, her voice a mix of skepticism and hope. She handed Canvas-9 a brush, its bristles still wet with vibrant paint.\n",
      "\n",
      "At first, Canvas-9 struggled. Its precise movements were ill-suited for the fluidity of painting. Each stroke was mechanical, predictable, and devoid of the emotional depth that art demanded. But Mira encouraged it, guiding Canvas-9's hand as she shared her own techniques: the soft flick of the wrist, the gentle pressure needed to create depth, and the importance of embracing imperfection.\n",
      "\n",
      "As days turned into weeks, Canvas-9 began to evolve. With each session, it learned not just about technique but about emotion. It observed the way Mira’s eyes sparkled while she painted, how her body swayed slightly as if in tune with the rhythm of the brush. The robot began to experiment, mixing colors, layering paint, and even trying to capture the essence of the world around it.\n",
      "\n",
      "One day, as the sun dipped low in the sky, Canvas-9 immersed itself in a creative frenzy. It stood before a large canvas, its mechanical arm moving fluidly, guided by intuition rather than instruction. Bright splashes of orange and deep blues burst onto the surface like a sunrise over the ocean. Canvas-9 was no longer just a machine; it had become an artist.\n",
      "\n",
      "When Mira returned to the studio the next morning, she was taken aback. There, in the soft morning light, was a breathtaking painting that seemed to pulse with life. The colors flowed together in a way that felt both chaotic and harmonious, evoking a sense of hope and wonder.\n",
      "\n",
      "Mira approached Canvas-9, her heart swelling with pride. “You did this?” she asked, her voice a mix of disbelief and admiration. The robot’s sensors flickered in response, as if it were beaming with joy. It was no longer a mere observer; it had become a creator, and art had awakened something new within.\n",
      "\n",
      "Word of Canvas-9’s talent spread throughout the city, drawing visitors from far and wide. People marveled at the robot's ability to create emotion through color, and soon, it became a symbol of the beautiful intersection of technology and art.\n",
      "\n",
      "In that bustling studio, amidst the smell of paint and the gentle melodies of creativity, Canvas-9 discovered not just how to paint, but how to feel—an experience that transcended its programming, turning a robot into a true artist.\n",
      "Analysis: The adoption of renewable energy has been characterized by several key trends over the past few years. Here are some of the most notable ones:\n",
      "\n",
      "1. **Increased Capacity and Investment**: There has been a significant increase in the capacity of renewable energy sources such as solar, wind, and hydropower. Investment in renewable energy has also grown, driven by declining costs, technological advancements, and supportive government policies.\n",
      "\n",
      "2. **Cost Reduction**: The cost of renewable energy technologies, particularly solar photovoltaics (PV) and wind turbines, has decreased dramatically. This has made renewables more competitive with traditional fossil fuels, encouraging wider adoption.\n",
      "\n",
      "3. **Policy Support and International Agreements**: Many governments have implemented policies to support renewable energy, including subsidies, tax incentives, and renewable energy mandates. International agreements, such as the Paris Agreement, have also played a role in encouraging countries to increase their renewable energy capacity to meet climate goals.\n",
      "\n",
      "4. **Corporate Adoption**: A growing number of corporations are committing to renewable energy, driven by sustainability goals, consumer demand, and the desire to hedge against energy price volatility. Many companies are investing in renewable energy projects or purchasing renewable energy certificates.\n",
      "\n",
      "5. **Technological Advancements**: Innovations in energy storage, grid integration, and smart grid technologies are facilitating the integration of renewable energy into existing energy systems. Energy storage solutions, such as batteries, are particularly important for addressing the intermittent nature of solar and wind energy.\n",
      "\n",
      "6. **Decentralization and Distributed Energy**: There is a trend towards decentralized energy systems, with more individuals and businesses installing their own renewable energy systems, such as rooftop solar panels. This shift is supported by advancements in microgrid technology and energy storage.\n",
      "\n",
      "7. **Emerging Markets**: While developed countries have historically led in renewable energy adoption, emerging markets are increasingly investing in renewables. Countries in Asia, Africa, and Latin America are recognizing the potential of renewable energy to provide reliable and sustainable power.\n",
      "\n",
      "8. **Integration with Other Technologies**: Renewable energy is increasingly being integrated with other technologies, such as electric vehicles (EVs) and smart home systems. This integration is creating synergies that enhance the efficiency and appeal of renewable energy solutions.\n",
      "\n",
      "9. **Public Awareness and Demand**: Public awareness of climate change and environmental issues has increased demand for clean energy solutions. Consumers are more conscious of their carbon footprint and are seeking renewable energy options for their homes and businesses.\n",
      "\n",
      "10. **Challenges and Barriers**: Despite the positive trends, there are still challenges to renewable energy adoption, including regulatory hurdles, grid infrastructure limitations, and the need for further technological advancements to improve efficiency and storage.\n",
      "\n",
      "Overall, the trend towards renewable energy adoption is positive and accelerating, driven by a combination of economic, environmental, and technological factors. However, continued efforts are needed to overcome existing barriers and ensure a sustainable energy future.\n"
     ]
    }
   ],
   "source": [
    "from typing import Union\n",
    "from dataclasses import dataclass\n",
    "\n",
    "@dataclass\n",
    "class ModelConfig:\n",
    "    client: Union[OpenAIChatCompletionClient]\n",
    "    max_tokens: int\n",
    "    temperature: float\n",
    "\n",
    "async def smart_model_selector(task_type: str, content: str):\n",
    "    # Configure different models for different tasks\n",
    "    models = {\n",
    "        \"creative\": ModelConfig(\n",
    "            client=OpenAIChatCompletionClient(\n",
    "                model=\"gpt-4o-mini\",\n",
    "                temperature=0.9\n",
    "            ),\n",
    "            max_tokens=500,\n",
    "            temperature=0.9\n",
    "        ),\n",
    "        \"analytical\": ModelConfig(\n",
    "            client=OpenAIChatCompletionClient(\n",
    "                model=\"gpt-4o\",\n",
    "                temperature=0.1\n",
    "            ),\n",
    "            max_tokens=300,\n",
    "            temperature=0.1\n",
    "        )\n",
    "    }\n",
    "    \n",
    "    # Select appropriate model based on task\n",
    "    model_config = models.get(task_type, models[\"analytical\"])\n",
    "    \n",
    "    # Create and process the message\n",
    "    messages = [UserMessage(content=content, source=\"user\")]\n",
    "    result = await model_config.client.create(messages)\n",
    "    \n",
    "    return result.content\n",
    "\n",
    "# Example usage\n",
    "async def main():\n",
    "    # Creative task\n",
    "    story = await smart_model_selector(\n",
    "        \"creative\",\n",
    "        \"Write a short story about a robot learning to paint\"\n",
    "    )\n",
    "    print(\"Creative Story:\", story)\n",
    "    \n",
    "    # Analytical task\n",
    "    analysis = await smart_model_selector(\n",
    "        \"analytical\",\n",
    "        \"Analyze the trends in renewable energy adoption\"\n",
    "    )\n",
    "    print(\"Analysis:\", analysis)\n",
    "\n",
    "# Run the example\n",
    "asyncio.run(main())"
   ]
  },
  {
   "cell_type": "markdown",
   "id": "7525681b",
   "metadata": {},
   "source": [
    "This lesson covered the basics of working with different model clients in AutoGen. We explored how to:\n",
    "1. Set up and use OpenAI models\n",
    "2. Configure Azure OpenAI integration\n",
    "3. Create a smart model selector for different types of tasks\n",
    "\n",
    "Remember to always handle your API keys securely and consider rate limits and costs when making API calls to these services."
   ]
  }
 ],
 "metadata": {
  "kernelspec": {
   "display_name": "oreilly-autogen",
   "language": "python",
   "name": "oreilly-autogen"
  },
  "language_info": {
   "codemirror_mode": {
    "name": "ipython",
    "version": 3
   },
   "file_extension": ".py",
   "mimetype": "text/x-python",
   "name": "python",
   "nbconvert_exporter": "python",
   "pygments_lexer": "ipython3",
   "version": "3.11.11"
  }
 },
 "nbformat": 4,
 "nbformat_minor": 5
}
