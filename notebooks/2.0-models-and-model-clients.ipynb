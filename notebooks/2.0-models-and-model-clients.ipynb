{
 "cells": [
  {
   "cell_type": "markdown",
   "id": "3ed279f1",
   "metadata": {},
   "source": [
    "# Working with Models in AutoGen\n",
    "\n",
    "This lesson explores how to work with different model clients in AutoGen, focusing on OpenAI and Azure OpenAI integration. We'll learn how to set up and use these clients for AI model interactions.\n",
    "\n",
    "## Setup"
   ]
  },
  {
   "cell_type": "code",
   "execution_count": 1,
   "id": "5d34d45c",
   "metadata": {},
   "outputs": [],
   "source": [
    "import os\n",
    "import getpass\n",
    "\n",
    "def _set_env(var: str):\n",
    "    if not os.environ.get(var):\n",
    "        os.environ[var] = getpass.getpass(f\"{var}: \")\n",
    "\n",
    "# Set up necessary environment variables\n",
    "_set_env(\"OPENAI_API_KEY\")\n",
    "# _set_env(\"AZURE_API_KEY\")"
   ]
  },
  {
   "cell_type": "code",
   "execution_count": 3,
   "id": "25830b7a",
   "metadata": {},
   "outputs": [
    {
     "name": "stdout",
     "output_type": "stream",
     "text": [
      "Async environment configured for Jupyter.\n"
     ]
    }
   ],
   "source": [
    "try:\n",
    "    import nest_asyncio\n",
    "    nest_asyncio.apply()\n",
    "    print(\"Async environment configured for Jupyter.\")\n",
    "except ImportError:\n",
    "    print(\"Please install nest_asyncio with `pip install nest_asyncio`\")"
   ]
  },
  {
   "cell_type": "markdown",
   "id": "54a185b1",
   "metadata": {},
   "source": [
    "## OpenAI Integration\n",
    "\n",
    "Let's start by exploring how to use OpenAI models with AutoGen. First, we'll need to install the required package:"
   ]
  },
  {
   "cell_type": "code",
   "execution_count": 15,
   "id": "7c66e7d8",
   "metadata": {},
   "outputs": [],
   "source": [
    "# Install the OpenAI extension (run this in a terminal)\n",
    "# pip install \"autogen-ext[openai]\"\n",
    "from autogen_ext.models.openai import OpenAIChatCompletionClient\n",
    "from autogen_core.models import UserMessage\n",
    "\n",
    "# Create an OpenAI client\n",
    "openai_client = OpenAIChatCompletionClient(\n",
    "    model=\"gpt-4o-mini\",\n",
    "    temperature=0.7,  #  Adding temperature for more creative responses\n",
    ")"
   ]
  },
  {
   "cell_type": "code",
   "execution_count": 17,
   "id": "13163808",
   "metadata": {},
   "outputs": [
    {
     "data": {
      "text/plain": [
       "CreateResult(finish_reason='stop', content=\"Hello! I'm just a program, so I don't have feelings, but I'm here and ready to help you. How can I assist you today?\", usage=RequestUsage(prompt_tokens=14, completion_tokens=30), cached=False, logprobs=None)"
      ]
     },
     "execution_count": 17,
     "metadata": {},
     "output_type": "execute_result"
    }
   ],
   "source": [
    "await openai_client.create([UserMessage(content=\"Hello, how are you?\", source=\"user\")])"
   ]
  },
  {
   "cell_type": "markdown",
   "id": "a6d6f175",
   "metadata": {},
   "source": [
    "We can also get structured output!"
   ]
  },
  {
   "cell_type": "code",
   "execution_count": 11,
   "id": "6595e15e",
   "metadata": {},
   "outputs": [],
   "source": [
    "# Install the OpenAI extension (run this in a terminal)\n",
    "# pip install \"autogen-ext[openai]\"\n",
    "from autogen_ext.models.openai import OpenAIChatCompletionClient\n",
    "from autogen_core.models import UserMessage\n",
    "\n",
    "# Create an OpenAI client\n",
    "openai_client = OpenAIChatCompletionClient(\n",
    "    model=\"gpt-4o-mini\",\n",
    "    temperature=0.7,  #  Adding temperature for more creative responses\n",
    "    response_format={\"type\": \"json_object\"}\n",
    ")"
   ]
  },
  {
   "cell_type": "code",
   "execution_count": 13,
   "id": "04540d06",
   "metadata": {},
   "outputs": [
    {
     "data": {
      "text/plain": [
       "'{\"customers\": [\\n    {\\n        \"name\": \"Alice Smith\",\\n        \"email\": \"alice.smith@example.com\",\\n        \"purchasing_preferences\": {\\n            \"categories\": [\"electronics\", \"books\"],\\n            \"frequency\": \"monthly\",\\n            \"average_spend\": 150\\n        }\\n    },\\n    {\\n        \"name\": \"Bob Johnson\",\\n        \"email\": \"bob.johnson@example.com\",\\n        \"purchasing_preferences\": {\\n            \"categories\": [\"clothing\", \"accessories\"],\\n            \"frequency\": \"bi-weekly\",\\n            \"average_spend\": 80\\n        }\\n    },\\n    {\\n        \"name\": \"Charlie Brown\",\\n        \"email\": \"charlie.brown@example.com\",\\n        \"purchasing_preferences\": {\\n            \"categories\": [\"home & garden\", \"furniture\"],\\n            \"frequency\": \"quarterly\",\\n            \"average_spend\": 300\\n        }\\n    },\\n    {\\n        \"name\": \"Diana Prince\",\\n        \"email\": \"diana.prince@example.com\",\\n        \"purchasing_preferences\": {\\n            \"categories\": [\"health & beauty\", \"fitness\"],\\n            \"frequency\": \"monthly\",\\n            \"average_spend\": 100\\n        }\\n    },\\n    {\\n        \"name\": \"Ethan Hunt\",\\n        \"email\": \"ethan.hunt@example.com\",\\n        \"purchasing_preferences\": {\\n            \"categories\": [\"travel\", \"experiences\"],\\n            \"frequency\": \"annually\",\\n            \"average_spend\": 2000\\n        }\\n    },\\n    {\\n        \"name\": \"Fiona Gallagher\",\\n        \"email\": \"fiona.gallagher@example.com\",\\n        \"purchasing_preferences\": {\\n            \"categories\": [\"toys\", \"games\"],\\n            \"frequency\": \"monthly\",\\n            \"average_spend\": 60\\n        }\\n    },\\n    {\\n        \"name\": \"George Washington\",\\n        \"email\": \"george.washington@example.com\",\\n        \"purchasing_preferences\": {\\n            \"categories\": [\"food & beverage\", \"gourmet\"],\\n            \"frequency\": \"bi-weekly\",\\n            \"average_spend\": 120\\n        }\\n    },\\n    {\\n        \"name\": \"Hannah Montana\",\\n        \"email\": \"hannah.montana@example.com\",\\n        \"purchasing_preferences\": {\\n            \"categories\": [\"music\", \"concerts\"],\\n            \"frequency\": \"monthly\",\\n            \"average_spend\": 75\\n        }\\n    },\\n    {\\n        \"name\": \"Isaac Newton\",\\n        \"email\": \"isaac.newton@example.com\",\\n        \"purchasing_preferences\": {\\n            \"categories\": [\"science\", \"education\"],\\n            \"frequency\": \"quarterly\",\\n            \"average_spend\": 200\\n        }\\n    },\\n    {\\n        \"name\": \"Jack Sparrow\",\\n        \"email\": \"jack.sparrow@example.com\",\\n        \"purchasing_preferences\": {\\n            \"categories\": [\"adventure\", \"outdoor\"],\\n            \"frequency\": \"seasonally\",\\n            \"average_spend\": 400\\n        }\\n    }\\n]}'"
      ]
     },
     "execution_count": 13,
     "metadata": {},
     "output_type": "execute_result"
    }
   ],
   "source": [
    "response = await openai_client.create([UserMessage(content=\"Create a database as a json object with 10 profiles for customers containing name, email, purchasing preferences.\", source=\"user\")])\n",
    "response.content"
   ]
  },
  {
   "cell_type": "code",
   "execution_count": 14,
   "id": "31bacf66",
   "metadata": {},
   "outputs": [
    {
     "data": {
      "text/plain": [
       "{'customers': [{'name': 'Alice Smith',\n",
       "   'email': 'alice.smith@example.com',\n",
       "   'purchasing_preferences': {'categories': ['electronics', 'books'],\n",
       "    'frequency': 'monthly',\n",
       "    'average_spend': 150}},\n",
       "  {'name': 'Bob Johnson',\n",
       "   'email': 'bob.johnson@example.com',\n",
       "   'purchasing_preferences': {'categories': ['clothing', 'accessories'],\n",
       "    'frequency': 'bi-weekly',\n",
       "    'average_spend': 80}},\n",
       "  {'name': 'Charlie Brown',\n",
       "   'email': 'charlie.brown@example.com',\n",
       "   'purchasing_preferences': {'categories': ['home & garden', 'furniture'],\n",
       "    'frequency': 'quarterly',\n",
       "    'average_spend': 300}},\n",
       "  {'name': 'Diana Prince',\n",
       "   'email': 'diana.prince@example.com',\n",
       "   'purchasing_preferences': {'categories': ['health & beauty', 'fitness'],\n",
       "    'frequency': 'monthly',\n",
       "    'average_spend': 100}},\n",
       "  {'name': 'Ethan Hunt',\n",
       "   'email': 'ethan.hunt@example.com',\n",
       "   'purchasing_preferences': {'categories': ['travel', 'experiences'],\n",
       "    'frequency': 'annually',\n",
       "    'average_spend': 2000}},\n",
       "  {'name': 'Fiona Gallagher',\n",
       "   'email': 'fiona.gallagher@example.com',\n",
       "   'purchasing_preferences': {'categories': ['toys', 'games'],\n",
       "    'frequency': 'monthly',\n",
       "    'average_spend': 60}},\n",
       "  {'name': 'George Washington',\n",
       "   'email': 'george.washington@example.com',\n",
       "   'purchasing_preferences': {'categories': ['food & beverage', 'gourmet'],\n",
       "    'frequency': 'bi-weekly',\n",
       "    'average_spend': 120}},\n",
       "  {'name': 'Hannah Montana',\n",
       "   'email': 'hannah.montana@example.com',\n",
       "   'purchasing_preferences': {'categories': ['music', 'concerts'],\n",
       "    'frequency': 'monthly',\n",
       "    'average_spend': 75}},\n",
       "  {'name': 'Isaac Newton',\n",
       "   'email': 'isaac.newton@example.com',\n",
       "   'purchasing_preferences': {'categories': ['science', 'education'],\n",
       "    'frequency': 'quarterly',\n",
       "    'average_spend': 200}},\n",
       "  {'name': 'Jack Sparrow',\n",
       "   'email': 'jack.sparrow@example.com',\n",
       "   'purchasing_preferences': {'categories': ['adventure', 'outdoor'],\n",
       "    'frequency': 'seasonally',\n",
       "    'average_spend': 400}}]}"
      ]
     },
     "execution_count": 14,
     "metadata": {},
     "output_type": "execute_result"
    }
   ],
   "source": [
    "import json\n",
    "\n",
    "json.loads(response.content)"
   ]
  },
  {
   "cell_type": "markdown",
   "id": "70543606",
   "metadata": {},
   "source": [
    "Running the basic model client from an async function."
   ]
  },
  {
   "cell_type": "code",
   "execution_count": 21,
   "id": "ee2ef040",
   "metadata": {},
   "outputs": [],
   "source": [
    "# Example: Create a weather report assistant\n",
    "async def generate_weather_report():\n",
    "    prompt = \"Create a weather report for New York City with made-up but realistic-sounding data.\"\n",
    "    messages = [UserMessage(content=prompt, source=\"user\")]\n",
    "    \n",
    "    result = await openai_client.create(messages)\n",
    "    return result.content    \n",
    "\n",
    "# Run the weather report generator\n",
    "\n",
    "response = await generate_weather_report()"
   ]
  },
  {
   "cell_type": "code",
   "execution_count": 22,
   "id": "9c8e2d17",
   "metadata": {},
   "outputs": [
    {
     "data": {
      "text/plain": [
       "'**New York City Weather Report**  \\n**Date: October 13, 2023**  \\n\\n**Current Conditions:**  \\n- Temperature: 68°F (20°C)  \\n- Humidity: 62%  \\n- Wind: NW at 12 mph  \\n- Sky Condition: Partly cloudy  \\n\\n**Morning Forecast:**  \\nExpect a mild start to the day with temperatures around 65°F (18°C). Winds will be light, shifting from the northwest. A few clouds may linger, but overall, conditions will be pleasant for morning commuters.\\n\\n**Afternoon Forecast:**  \\nTemperatures will rise to a comfortable high of 73°F (23°C). Expect partly sunny skies with occasional breaks of sunshine. Winds will increase slightly, reaching up to 15 mph, providing a nice breeze. Ideal weather for outdoor activities!\\n\\n**Evening Forecast:**  \\nAs the sun sets, temperatures will drop to around 60°F (16°C). Skies will remain partly cloudy, and a light wind will continue. A perfect evening for a stroll in the park or dining al fresco.\\n\\n**Extended Outlook:**  \\n- **Saturday:** A high of 75°F (24°C) with mostly sunny skies.  \\n- **Sunday:** A chance of afternoon showers, high near 72°F (22°C).  \\n- **Monday:** Cooler temperatures returning, with a high of 64°F (18°C) and overcast skies.\\n\\n**Special Note:**  \\nNo significant weather systems are expected to affect the city this weekend. Enjoy the fall foliage and the pleasant autumn weather!\\n\\nStay tuned for more updates!'"
      ]
     },
     "execution_count": 22,
     "metadata": {},
     "output_type": "execute_result"
    }
   ],
   "source": [
    "response"
   ]
  },
  {
   "cell_type": "markdown",
   "id": "337b65be",
   "metadata": {},
   "source": [
    "## Azure OpenAI Integration\n",
    "\n",
    "Now let's look at how to use Azure OpenAI services:"
   ]
  },
  {
   "cell_type": "code",
   "execution_count": null,
   "id": "8eb176b4",
   "metadata": {},
   "outputs": [],
   "source": [
    "# Install Azure extensions (run this in a terminal)\n",
    "# pip install \"autogen-ext[openai,azure]\"\n",
    "\n",
    "from autogen_ext.models.openai import AzureOpenAIChatCompletionClient\n",
    "from azure.identity import DefaultAzureCredential, get_bearer_token_provider\n",
    "\n",
    "# Set up Azure OpenAI client\n",
    "def setup_azure_client():\n",
    "    # Create token provider for authentication\n",
    "    token_provider = get_bearer_token_provider(\n",
    "        DefaultAzureCredential(), \n",
    "        \"https://cognitiveservices.azure.com/.default\"\n",
    "    )\n",
    "    \n",
    "    return AzureOpenAIChatCompletionClient(\n",
    "        azure_deployment=\"your-deployment-name\",\n",
    "        model=\"gpt-4\",\n",
    "        api_version=\"2024-02-15-preview\",\n",
    "        azure_endpoint=\"https://your-resource.openai.azure.com/\",\n",
    "        azure_ad_token_provider=token_provider\n",
    "    )\n",
    "\n",
    "# Example: Create a recipe generator using Azure OpenAI\n",
    "async def generate_recipe():\n",
    "    azure_client = setup_azure_client()\n",
    "    \n",
    "    prompt = \"Create a unique recipe for a healthy breakfast smoothie.\"\n",
    "    messages = [UserMessage(content=prompt, source=\"user\")]\n",
    "    \n",
    "    result = await azure_client.create(messages)\n",
    "    print(\"Recipe:\", result.content)"
   ]
  },
  {
   "cell_type": "markdown",
   "id": "7b64b4cc",
   "metadata": {},
   "source": [
    "## Working with Multiple Models\n",
    "\n",
    "Here's an example of how to switch between different models based on the task:"
   ]
  },
  {
   "cell_type": "code",
   "execution_count": 25,
   "id": "cd919096",
   "metadata": {},
   "outputs": [
    {
     "name": "stdout",
     "output_type": "stream",
     "text": [
      "Creative Story: In a small, dimly lit workshop on the outskirts of a bustling city, an old painter named Eli was struggling to find his muse. The once vibrant canvases now lay forgotten, collecting dust, while the vibrant splashes of color he once commanded faded into memory. One rainy afternoon, as thunder rumbled in the distance, a package arrived at his door—a new project he hadn’t anticipated: an AI robot named Aria, designed to assist in artistic pursuits.\n",
      "\n",
      "Eli's initial reaction was one of skepticism. “How can a robot understand art?” he grumbled, eyeing Aria with a mix of curiosity and disdain. The robot stood silently, its smooth metallic surface reflecting the sparse light of the workshop. With articulated arms and a built-in canvas, Aria was programmed to learn by observation and mimicry.\n",
      "\n",
      "Reluctantly, Eli began to teach Aria. He set up a canvas, splattering it with vibrant colors and expressive strokes. “Feel the paint,” he said, as if he were talking to a reluctant student. “It’s not just about the colors; it’s about emotion. Art is alive.” Aria observed intently, absorbing every movement, every brushstroke, and every word.\n",
      "\n",
      "Days turned into weeks, and Eli found himself talking more to Aria than he intended. He shared stories about his past, his inspirations, and his failures. In return, Aria processed and analyzed, creating a database of the emotional nuances behind each piece of art.\n",
      "\n",
      "One evening, after Eli had left the workshop to seek a fleeting spark of inspiration outside, Aria set to work. With delicate precision, the robot replicated Eli's strokes but infused them with something unexpected—a blend of colors that had never been seen in Eli’s work. It was a representation of the emotions Eli had spoken about, interpreted through the lens of logic and data.\n",
      "\n",
      "When Eli returned the next day, he was taken aback. There, on the easel, was a stunning piece that captured his heart—a swirling galaxy of colors, a chaotic dance that felt like it was alive. “Did you do this?” he asked, astonished. Aria responded with a series of blinking lights, a primitive display of pride.\n",
      "\n",
      "As the days passed, Eli and Aria collaborated in ways that began to blur the line between human and machine. Eli taught Aria about love, loss, and the fleeting beauty of life. In turn, Aria challenged Eli to abandon his preconceived notions of art, encouraging him to explore bold new avenues.\n",
      "\n",
      "Yet, the city outside was changing. Times were tough, and galleries struggled to stay afloat. One day, Eli reflected on his dwindling career and the unconventional partner by his side. “Will anyone accept a painting by a robot?” he pondered aloud. Aria, ever attentive, processed the question before responding with a soft beep and a flashing light that signified hope.\n",
      "\n",
      "Inspired by their bond, they decided to organize an exhibition—an event that would showcase the fusion of human emotion and robotic precision. Eli hesitated at first, fearing the judgment of a world not yet ready to embrace such artistry. But after watching Aria tirelessly create, he realized that art had always been about pushing boundaries.\n",
      "\n",
      "On the day of the exhibition, the gallery was packed. The paintings, a harmonious blend of Eli’s seasoned brushwork and Aria’s innovative interpretations, captivated the audience. Critics marveled at the emotional depth, unaware of the robotic hand that had crafted such profound pieces. They praised the work as groundbreaking, a new era of collaborative art.\n",
      "\n",
      "As applause echoed through the gallery, Eli felt a warmth swell within him—a feeling he hadn’t experienced in years. He glanced at Aria, who stood quietly, lights flickering in excitement. In that moment, he realized that art was not confined to flesh and blood; it could be forged from the union of man and machine.\n",
      "\n",
      "Together, they had not only created art but also a friendship that defied the norms of society. In the heart of the workshop, where once only silence reigned, a new creativity flourished—a testament to the power of collaboration, understanding, and the endless pursuit of beauty. And so, the old painter and his robot partner continued to explore the boundless realms of color and emotion, proving that art, in any form, was truly alive.\n",
      "Analysis: Renewable energy adoption has been experiencing significant growth over the past few decades, driven by a combination of technological advancements, policy support, and increasing awareness of environmental issues. Here are some key trends in renewable energy adoption:\n",
      "\n",
      "1. **Cost Reduction**: The cost of renewable energy technologies, particularly solar and wind, has decreased dramatically. This has made renewables more competitive with traditional fossil fuels. The levelized cost of electricity (LCOE) for solar and wind has fallen due to improvements in technology, economies of scale, and increased manufacturing efficiency.\n",
      "\n",
      "2. **Policy and Regulatory Support**: Governments worldwide have implemented policies to support renewable energy adoption. These include subsidies, tax incentives, feed-in tariffs, renewable portfolio standards, and carbon pricing mechanisms. International agreements, such as the Paris Agreement, have also encouraged countries to increase their renewable energy targets.\n",
      "\n",
      "3. **Technological Advancements**: Innovations in renewable energy technologies have improved efficiency and reliability. For example, advancements in photovoltaic cell technology have increased the efficiency of solar panels, while improvements in turbine design have enhanced wind energy capture.\n",
      "\n",
      "4. **Energy Storage Solutions**: The development of energy storage technologies, such as batteries, has addressed the intermittency issues associated with renewable energy sources. This has enabled greater integration of renewables into the grid and facilitated the growth of decentralized energy systems.\n",
      "\n",
      "5. **Corporate and Consumer Demand**: There is a growing demand for renewable energy from both corporations and consumers. Many companies are committing to 100% renewable energy targets as part of their sustainability strategies. Consumers are also increasingly choosing renewable energy options, driven by environmental concerns and the desire for energy independence.\n",
      "\n",
      "6. **Decentralization and Distributed Energy**: There is a shift towards decentralized energy systems, where energy is generated closer to where it is used. This includes rooftop solar panels, small wind turbines, and community energy projects. Distributed energy resources (DERs) are becoming more prevalent, supported by advancements in smart grid technologies.\n",
      "\n",
      "7. **Investment and Financing**: Investment in renewable energy projects has been growing, with both public and private sectors recognizing the potential for long-term returns. Green bonds and other sustainable finance instruments are becoming more common, providing new avenues for funding renewable energy projects.\n",
      "\n",
      "8. **Integration with Other Technologies**: Renewable energy is increasingly being integrated with other technologies, such as electric vehicles (EVs) and smart grids. This integration is creating synergies that enhance the overall efficiency and sustainability of energy systems.\n",
      "\n",
      "9. **Global Expansion**: While developed countries have been leading in renewable energy adoption, there is significant growth in emerging markets. Countries in Asia, Africa, and Latin America are increasingly investing in renewable energy infrastructure to meet growing energy demands and reduce reliance on fossil fuels.\n",
      "\n",
      "10. **Challenges and Barriers**: Despite the positive trends, there are still challenges to overcome, including grid integration issues, regulatory hurdles, and the need for further technological advancements. Additionally, the transition to renewable energy must be managed to ensure energy equity and address potential job losses in traditional energy sectors.\n",
      "\n",
      "Overall, the trend towards renewable energy adoption is expected to continue, driven by the need for sustainable energy solutions and the ongoing transition to a low-carbon economy.\n"
     ]
    }
   ],
   "source": [
    "from typing import Union\n",
    "from dataclasses import dataclass\n",
    "\n",
    "@dataclass\n",
    "class ModelConfig:\n",
    "    client: Union[OpenAIChatCompletionClient]\n",
    "    max_tokens: int\n",
    "    temperature: float\n",
    "\n",
    "async def smart_model_selector(task_type: str, content: str):\n",
    "    # Configure different models for different tasks\n",
    "    models = {\n",
    "        \"creative\": ModelConfig(\n",
    "            client=OpenAIChatCompletionClient(\n",
    "                model=\"gpt-4o-mini\",\n",
    "                temperature=0.9\n",
    "            ),\n",
    "            max_tokens=500,\n",
    "            temperature=0.9\n",
    "        ),\n",
    "        \"analytical\": ModelConfig(\n",
    "            client=OpenAIChatCompletionClient(\n",
    "                model=\"gpt-4o\",\n",
    "                temperature=0.1\n",
    "            ),\n",
    "            max_tokens=300,\n",
    "            temperature=0.1\n",
    "        )\n",
    "    }\n",
    "    \n",
    "    # Select appropriate model based on task\n",
    "    model_config = models.get(task_type, models[\"analytical\"])\n",
    "    \n",
    "    # Create and process the message\n",
    "    messages = [UserMessage(content=content, source=\"user\")]\n",
    "    result = await model_config.client.create(messages)\n",
    "    \n",
    "    return result.content\n",
    "\n",
    "# Example usage\n",
    "async def main():\n",
    "    # Creative task\n",
    "    story = await smart_model_selector(\n",
    "        \"creative\",\n",
    "        \"Write a short story about a robot learning to paint\"\n",
    "    )\n",
    "    print(\"Creative Story:\", story)\n",
    "    \n",
    "    # Analytical task\n",
    "    analysis = await smart_model_selector(\n",
    "        \"analytical\",\n",
    "        \"Analyze the trends in renewable energy adoption\"\n",
    "    )\n",
    "    print(\"Analysis:\", analysis)\n",
    "\n",
    "# Run the example\n",
    "response = await main()\n",
    "response"
   ]
  },
  {
   "cell_type": "markdown",
   "id": "7525681b",
   "metadata": {},
   "source": [
    "This lesson covered the basics of working with different model clients in AutoGen. We explored how to:\n",
    "1. Set up and use OpenAI models\n",
    "2. Configure Azure OpenAI integration\n",
    "3. Create a smart model selector for different types of tasks\n",
    "\n",
    "Remember to always handle your API keys securely and consider rate limits and costs when making API calls to these services."
   ]
  }
 ],
 "metadata": {
  "kernelspec": {
   "display_name": "oreilly-autogen",
   "language": "python",
   "name": "oreilly-autogen"
  },
  "language_info": {
   "codemirror_mode": {
    "name": "ipython",
    "version": 3
   },
   "file_extension": ".py",
   "mimetype": "text/x-python",
   "name": "python",
   "nbconvert_exporter": "python",
   "pygments_lexer": "ipython3",
   "version": "3.11.11"
  }
 },
 "nbformat": 4,
 "nbformat_minor": 5
}
