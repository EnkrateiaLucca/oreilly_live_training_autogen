{
 "cells": [
  {
   "cell_type": "markdown",
   "id": "67a80c8a",
   "metadata": {},
   "source": [
    "# Working with AutoGen Agents\n",
    "\n",
    "This lesson explores how to work with AutoGen's agent system, focusing on creating and using different types of agents for various tasks.\n",
    "\n",
    "## Setup"
   ]
  },
  {
   "cell_type": "code",
   "execution_count": null,
   "id": "30f88091",
   "metadata": {},
   "outputs": [],
   "source": [
    "import os\n",
    "import getpass\n",
    "import asyncio\n",
    "from autogen_agentchat.agents import AssistantAgent\n",
    "from autogen_agentchat.messages import TextMessage\n",
    "from autogen_agentchat.ui import Console\n",
    "from autogen_core import CancellationToken\n",
    "from autogen_ext.models.openai import OpenAIChatCompletionClient\n",
    "\n",
    "def _set_env(var: str):\n",
    "    if not os.environ.get(var):\n",
    "        os.environ[var] = getpass.getpass(f\"{var}: \")\n",
    "\n",
    "_set_env(\"OPENAI_API_KEY\")"
   ]
  },
  {
   "cell_type": "markdown",
   "id": "4db19239",
   "metadata": {},
   "source": [
    "## Creating a Basic Assistant Agent\n",
    "\n",
    "Let's create a simple assistant agent that can analyze data and provide insights:"
   ]
  },
  {
   "cell_type": "code",
   "execution_count": null,
   "id": "5faddc97",
   "metadata": {},
   "outputs": [],
   "source": [
    "# Create a custom tool for data analysis\n",
    "async def analyze_numbers(numbers: str) -> str:\n",
    "    \"\"\"Analyze a list of numbers and return basic statistics\"\"\"\n",
    "    nums = [float(n) for n in numbers.split(',')]\n",
    "    mean = sum(nums) / len(nums)\n",
    "    maximum = max(nums)\n",
    "    minimum = min(nums)\n",
    "    return f\"Analysis Results:\\nMean: {mean:.2f}\\nMax: {maximum}\\nMin: {minimum}\"\n",
    "\n",
    "# Initialize the OpenAI client\n",
    "model_client = OpenAIChatCompletionClient(\n",
    "    model=\"gpt-4\",\n",
    ")\n",
    "\n",
    "# Create the assistant agent\n",
    "data_analyst = AssistantAgent(\n",
    "    name=\"data_analyst\",\n",
    "    model_client=model_client,\n",
    "    tools=[analyze_numbers],\n",
    "    system_message=\"You are a data analysis assistant. Use the analyze_numbers tool to help users understand their numerical data.\"\n",
    ")"
   ]
  },
  {
   "cell_type": "markdown",
   "id": "87337a7f",
   "metadata": {},
   "source": [
    "## Using the Assistant Agent\n",
    "\n",
    "Let's demonstrate how to interact with the agent:"
   ]
  },
  {
   "cell_type": "code",
   "execution_count": null,
   "id": "f621ab80",
   "metadata": {},
   "outputs": [],
   "source": [
    "async def run_analysis():\n",
    "    # Create a message asking for analysis\n",
    "    message = TextMessage(\n",
    "        content=\"Can you analyze these numbers: 10,15,20,25,30\",\n",
    "        source=\"user\"\n",
    "    )\n",
    "    \n",
    "    # Get the response using streaming\n",
    "    await Console(\n",
    "        data_analyst.on_messages_stream(\n",
    "            [message],\n",
    "            cancellation_token=CancellationToken()\n",
    "        )\n",
    "    )\n",
    "\n",
    "# Run the analysis\n",
    "await run_analysis()"
   ]
  },
  {
   "cell_type": "markdown",
   "id": "d9f1df54",
   "metadata": {},
   "source": [
    "## Creating an Agent with Context Management\n",
    "\n",
    "Here's how to create an agent with limited context memory:"
   ]
  },
  {
   "cell_type": "code",
   "execution_count": null,
   "id": "c7f25179",
   "metadata": {},
   "outputs": [],
   "source": [
    "from autogen_core.model_context import BufferedChatCompletionContext\n",
    "\n",
    "# Create an agent with limited context memory\n",
    "memory_efficient_agent = AssistantAgent(\n",
    "    name=\"efficient_assistant\",\n",
    "    model_client=model_client,\n",
    "    tools=[analyze_numbers],\n",
    "    system_message=\"You are a helpful assistant with limited memory.\",\n",
    "    model_context=BufferedChatCompletionContext(buffer_size=3)  # Only remember last 3 messages\n",
    ")\n",
    "\n",
    "async def test_memory_agent():\n",
    "    messages = [\n",
    "        TextMessage(content=\"What is 2+2?\", source=\"user\"),\n",
    "        TextMessage(content=\"Can you multiply 5 by 6?\", source=\"user\"),\n",
    "        TextMessage(content=\"What was my first question?\", source=\"user\")\n",
    "    ]\n",
    "    \n",
    "    for msg in messages:\n",
    "        await Console(\n",
    "            memory_efficient_agent.on_messages_stream(\n",
    "                [msg],\n",
    "                cancellation_token=CancellationToken()\n",
    "            )\n",
    "        )\n",
    "\n",
    "await test_memory_agent()"
   ]
  },
  {
   "cell_type": "markdown",
   "id": "5697c451",
   "metadata": {},
   "source": [
    "## Working with Tools and External Data\n",
    "\n",
    "Let's create an agent that can work with pandas dataframes:"
   ]
  },
  {
   "cell_type": "code",
   "execution_count": null,
   "id": "e7f699f5",
   "metadata": {},
   "outputs": [],
   "source": [
    "import pandas as pd\n",
    "from autogen_ext.tools.langchain import LangChainToolAdapter\n",
    "from langchain_experimental.tools.python.tool import PythonAstREPLTool\n",
    "\n",
    "# Create a sample dataset\n",
    "data = {\n",
    "    'name': ['Alice', 'Bob', 'Charlie', 'David'],\n",
    "    'age': [25, 30, 35, 40],\n",
    "    'salary': [50000, 60000, 75000, 80000]\n",
    "}\n",
    "df = pd.DataFrame(data)\n",
    "\n",
    "# Create a tool for pandas operations\n",
    "pandas_tool = LangChainToolAdapter(\n",
    "    PythonAstREPLTool(locals={\"df\": df})\n",
    ")\n",
    "\n",
    "# Create an agent that can analyze the dataframe\n",
    "data_agent = AssistantAgent(\n",
    "    name=\"data_analyst\",\n",
    "    tools=[pandas_tool],\n",
    "    model_client=model_client,\n",
    "    system_message=\"You are a data analyst. Use pandas to analyze the dataframe 'df'.\"\n",
    ")\n",
    "\n",
    "async def analyze_dataframe():\n",
    "    questions = [\n",
    "        \"What is the average age in the dataset?\",\n",
    "        \"Who has the highest salary?\",\n",
    "        \"Calculate the total salary for all employees.\"\n",
    "    ]\n",
    "    \n",
    "    for question in questions:\n",
    "        await Console(\n",
    "            data_agent.on_messages_stream(\n",
    "                [TextMessage(content=question, source=\"user\")],\n",
    "                cancellation_token=CancellationToken()\n",
    "            )\n",
    "        )\n",
    "\n",
    "await analyze_dataframe()"
   ]
  },
  {
   "cell_type": "markdown",
   "id": "65705cfd",
   "metadata": {},
   "source": [
    "This lesson demonstrates the key concepts of working with AutoGen agents, including:\n",
    "- Basic agent creation and interaction\n",
    "- Using tools and external functions\n",
    "- Managing context and memory\n",
    "- Working with data analysis capabilities\n",
    "\n",
    "The examples show how to create specialized agents for different purposes while maintaining a clean and efficient implementation."
   ]
  }
 ],
 "metadata": {},
 "nbformat": 4,
 "nbformat_minor": 5
}
