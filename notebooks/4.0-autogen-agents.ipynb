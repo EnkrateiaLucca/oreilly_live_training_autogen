{
 "cells": [
  {
   "cell_type": "markdown",
   "id": "67a80c8a",
   "metadata": {},
   "source": [
    "# Working with AutoGen Agents\n",
    "\n",
    "This lesson explores how to work with AutoGen's agent system, focusing on creating and using different types of agents for various tasks.\n",
    "\n",
    "## Setup"
   ]
  },
  {
   "cell_type": "code",
   "execution_count": 17,
   "id": "b7cea041",
   "metadata": {},
   "outputs": [],
   "source": [
    "import os\n",
    "import getpass\n",
    "\n",
    "def _set_env(var: str):\n",
    "    if not os.environ.get(var):\n",
    "        os.environ[var] = getpass.getpass(f\"{var}: \")\n",
    "\n",
    "_set_env(\"OPENAI_API_KEY\")"
   ]
  },
  {
   "cell_type": "code",
   "execution_count": 18,
   "id": "732091d7",
   "metadata": {},
   "outputs": [
    {
     "name": "stdout",
     "output_type": "stream",
     "text": [
      "Async environment configured for Jupyter.\n"
     ]
    }
   ],
   "source": [
    "try:\n",
    "    import nest_asyncio\n",
    "    nest_asyncio.apply()\n",
    "    print(\"Async environment configured for Jupyter.\")\n",
    "except ImportError:\n",
    "    print(\"Please install nest_asyncio with `pip install nest_asyncio`\")"
   ]
  },
  {
   "cell_type": "code",
   "execution_count": 19,
   "id": "30f88091",
   "metadata": {},
   "outputs": [],
   "source": [
    "import os\n",
    "import getpass\n",
    "from autogen_agentchat.agents import AssistantAgent\n",
    "from autogen_agentchat.messages import TextMessage\n",
    "from autogen_agentchat.ui import Console\n",
    "from autogen_core import CancellationToken\n",
    "from autogen_ext.models.openai import OpenAIChatCompletionClient"
   ]
  },
  {
   "cell_type": "markdown",
   "id": "4db19239",
   "metadata": {},
   "source": [
    "## Creating a Basic Assistant Agent\n",
    "\n",
    "Let's create a simple assistant agent that can analyze data and provide insights:"
   ]
  },
  {
   "cell_type": "code",
   "execution_count": 20,
   "id": "5faddc97",
   "metadata": {},
   "outputs": [],
   "source": [
    "# Create a custom tool for data analysis\n",
    "async def analyze_numbers(numbers: str) -> str:\n",
    "    \"\"\"Analyze a list of numbers and return basic statistics\"\"\"\n",
    "    nums = [float(n) for n in numbers.split(',')]\n",
    "    mean = sum(nums) / len(nums)\n",
    "    maximum = max(nums)\n",
    "    minimum = min(nums)\n",
    "    return f\"Analysis Results:\\nMean: {mean:.2f}\\nMax: {maximum}\\nMin: {minimum}\"\n",
    "\n",
    "# Initialize the OpenAI client\n",
    "model_client = OpenAIChatCompletionClient(\n",
    "    model=\"gpt-4o-mini\",\n",
    ")\n",
    "\n",
    "# Create the assistant agent\n",
    "data_analyst = AssistantAgent(\n",
    "    name=\"data_analyst\",\n",
    "    model_client=model_client,\n",
    "    tools=[analyze_numbers],\n",
    "    system_message=\"You are a data analysis assistant. Use the analyze_numbers tool to help users understand their numerical data.\"\n",
    ")"
   ]
  },
  {
   "cell_type": "markdown",
   "id": "87337a7f",
   "metadata": {},
   "source": [
    "## Using the Assistant Agent\n",
    "\n",
    "Let's demonstrate how to interact with the agent:"
   ]
  },
  {
   "cell_type": "code",
   "execution_count": 21,
   "id": "f621ab80",
   "metadata": {},
   "outputs": [],
   "source": [
    "async def run_analysis():\n",
    "    # Create a message asking for analysis\n",
    "    message = TextMessage(\n",
    "        content=\"Can you analyze these numbers: 10,15,20,25,30\",\n",
    "        source=\"user\"\n",
    "    )\n",
    "    \n",
    "    # Get the response using streaming\n",
    "    return await Console(\n",
    "        data_analyst.on_messages_stream(\n",
    "            [message],\n",
    "            cancellation_token=CancellationToken()\n",
    "        )\n",
    "    )\n",
    "\n",
    "# Run the analysis\n",
    "response = await run_analysis()"
   ]
  },
  {
   "cell_type": "code",
   "execution_count": 22,
   "id": "dbd29f12",
   "metadata": {},
   "outputs": [
    {
     "data": {
      "text/plain": [
       "Response(chat_message=ToolCallSummaryMessage(source='data_analyst', models_usage=None, content='Analysis Results:\\nMean: 20.00\\nMax: 30.0\\nMin: 10.0', type='ToolCallSummaryMessage'), inner_messages=[ToolCallRequestEvent(source='data_analyst', models_usage=RequestUsage(prompt_tokens=90, completion_tokens=24), content=[FunctionCall(id='call_r1jq5Fs1gzJDtDMuLAANbUZZ', arguments='{\"numbers\":\"10,15,20,25,30\"}', name='analyze_numbers')], type='ToolCallRequestEvent'), ToolCallExecutionEvent(source='data_analyst', models_usage=None, content=[FunctionExecutionResult(content='Analysis Results:\\nMean: 20.00\\nMax: 30.0\\nMin: 10.0', call_id='call_r1jq5Fs1gzJDtDMuLAANbUZZ')], type='ToolCallExecutionEvent')])"
      ]
     },
     "execution_count": 22,
     "metadata": {},
     "output_type": "execute_result"
    }
   ],
   "source": [
    "response"
   ]
  },
  {
   "cell_type": "code",
   "execution_count": 23,
   "id": "41e3735f",
   "metadata": {},
   "outputs": [
    {
     "data": {
      "text/plain": [
       "'Analysis Results:\\nMean: 20.00\\nMax: 30.0\\nMin: 10.0'"
      ]
     },
     "execution_count": 23,
     "metadata": {},
     "output_type": "execute_result"
    }
   ],
   "source": [
    "response.chat_message.content"
   ]
  },
  {
   "cell_type": "code",
   "execution_count": 9,
   "id": "66d356a2",
   "metadata": {},
   "outputs": [],
   "source": [
    "# Below is an example response object showing the process until the final output\n",
    "# Response(chat_message=ToolCallSummaryMessage(source='data_analyst', models_usage=None, content='Analysis Results:\\nMean: 20.00\\nMax: 30.0\\nMin: 10.0', type='ToolCallSummaryMessage'), inner_messages=[ToolCallRequestEvent(source='data_analyst', models_usage=RequestUsage(prompt_tokens=90, completion_tokens=24), content=[FunctionCall(id='call_bia6ANY13YIlzbGItYSZHHCY', arguments='{\"numbers\":\"10,15,20,25,30\"}', name='analyze_numbers')], type='ToolCallRequestEvent'), ToolCallExecutionEvent(source='data_analyst', models_usage=None, content=[FunctionExecutionResult(content='Analysis Results:\\nMean: 20.00\\nMax: 30.0\\nMin: 10.0', call_id='call_bia6ANY13YIlzbGItYSZHHCY')], type='ToolCallExecutionEvent')])"
   ]
  },
  {
   "cell_type": "code",
   "execution_count": 24,
   "id": "c20264c0",
   "metadata": {},
   "outputs": [],
   "source": [
    "async def run_analysis():\n",
    "    # Create a message asking for analysis\n",
    "    message = TextMessage(\n",
    "        content=\"Obtain the mean of these numbers: 10,15,20,25,30\",\n",
    "        source=\"user\"\n",
    "    )\n",
    "    \n",
    "    # Get the response using streaming\n",
    "    return await Console(\n",
    "        data_analyst.on_messages_stream(\n",
    "            [message],\n",
    "            cancellation_token=CancellationToken()\n",
    "        )\n",
    "    )\n",
    "\n",
    "# Run the analysis\n",
    "response = await run_analysis()"
   ]
  },
  {
   "cell_type": "code",
   "execution_count": 27,
   "id": "a1cdecce",
   "metadata": {},
   "outputs": [
    {
     "data": {
      "text/plain": [
       "[]"
      ]
     },
     "execution_count": 27,
     "metadata": {},
     "output_type": "execute_result"
    }
   ],
   "source": [
    "response.inner_messages"
   ]
  },
  {
   "cell_type": "code",
   "execution_count": 28,
   "id": "a24e269c",
   "metadata": {},
   "outputs": [
    {
     "data": {
      "text/plain": [
       "[ToolCallRequestEvent(source='data_analyst', models_usage=RequestUsage(prompt_tokens=237, completion_tokens=40), content=[FunctionCall(id='call_1g1vYQgW0jeK6hgiYa4PyTLb', arguments='{\"numbers\": \"10,15,20,25,30\"}', name='analyze_numbers')], type='ToolCallRequestEvent'),\n",
       " ToolCallExecutionEvent(source='data_analyst', models_usage=None, content=[FunctionExecutionResult(content='Analysis Results:\\nMean: 20.00\\nMax: 30.0\\nMin: 10.0', call_id='call_1g1vYQgW0jeK6hgiYa4PyTLb')], type='ToolCallExecutionEvent')]"
      ]
     },
     "execution_count": 28,
     "metadata": {},
     "output_type": "execute_result"
    }
   ],
   "source": [
    "async def run_analysis():\n",
    "    # Create a message asking for analysis\n",
    "    message = TextMessage(\n",
    "        content=\"What is the sum of the mean, the max and min of these numbers?: 10,15,20,25,30\",\n",
    "        source=\"user\"\n",
    "    )\n",
    "    \n",
    "    # Get the response using streaming\n",
    "    return await Console(\n",
    "        data_analyst.on_messages_stream(\n",
    "            [message],\n",
    "            cancellation_token=CancellationToken()\n",
    "        )\n",
    "    )\n",
    "\n",
    "# Run the analysis\n",
    "response = await run_analysis()\n",
    "response.inner_messages"
   ]
  },
  {
   "cell_type": "code",
   "execution_count": 29,
   "id": "5174e54b",
   "metadata": {},
   "outputs": [
    {
     "data": {
      "text/plain": [
       "'Analysis Results:\\nMean: 20.00\\nMax: 30.0\\nMin: 10.0'"
      ]
     },
     "execution_count": 29,
     "metadata": {},
     "output_type": "execute_result"
    }
   ],
   "source": [
    "response.chat_message.content"
   ]
  },
  {
   "cell_type": "markdown",
   "id": "5697c451",
   "metadata": {},
   "source": [
    "## Working with Tools and External Data\n",
    "\n",
    "Let's create an agent that can work with pandas dataframes:"
   ]
  },
  {
   "cell_type": "code",
   "execution_count": 30,
   "id": "e7f699f5",
   "metadata": {},
   "outputs": [
    {
     "data": {
      "text/plain": [
       "Response(chat_message=ToolCallSummaryMessage(source='data_analyst', models_usage=None, content='32.5', type='ToolCallSummaryMessage'), inner_messages=[ToolCallRequestEvent(source='data_analyst', models_usage=RequestUsage(prompt_tokens=116, completion_tokens=22), content=[FunctionCall(id='call_6PrkCefmr9QnPf4cGaI71H4o', arguments='{\"query\":\"df[\\'age\\'].mean()\"}', name='python_repl_ast')], type='ToolCallRequestEvent'), ToolCallExecutionEvent(source='data_analyst', models_usage=None, content=[FunctionExecutionResult(content='32.5', call_id='call_6PrkCefmr9QnPf4cGaI71H4o')], type='ToolCallExecutionEvent')])"
      ]
     },
     "execution_count": 30,
     "metadata": {},
     "output_type": "execute_result"
    }
   ],
   "source": [
    "import pandas as pd\n",
    "from autogen_ext.tools.langchain import LangChainToolAdapter\n",
    "from langchain_experimental.tools.python.tool import PythonAstREPLTool\n",
    "\n",
    "# Create a sample dataset\n",
    "data = {\n",
    "    'name': ['Alice', 'Bob', 'Charlie', 'David'],\n",
    "    'age': [25, 30, 35, 40],\n",
    "    'salary': [50000, 60000, 75000, 80000]\n",
    "}\n",
    "df = pd.DataFrame(data)\n",
    "\n",
    "# Create a tool for pandas operations\n",
    "pandas_tool = LangChainToolAdapter(\n",
    "    PythonAstREPLTool(locals={\"df\": df})\n",
    ")\n",
    "\n",
    "# Create an agent that can analyze the dataframe\n",
    "data_agent = AssistantAgent(\n",
    "    name=\"data_analyst\",\n",
    "    tools=[pandas_tool],\n",
    "    model_client=model_client,\n",
    "    system_message=\"You are a data analyst. Use pandas to analyze the dataframe 'df'.\"\n",
    ")\n",
    "\n",
    "async def analyze_dataframe():\n",
    "    question = \"What is the average age in the dataset?\"\n",
    "    \n",
    "    return await Console(\n",
    "        data_agent.on_messages_stream(\n",
    "            [TextMessage(content=question, source=\"user\")],\n",
    "            cancellation_token=CancellationToken()\n",
    "        )\n",
    "    )\n",
    "\n",
    "response = await analyze_dataframe()\n",
    "response\n",
    "## Conclusion\n"
   ]
  },
  {
   "cell_type": "code",
   "execution_count": 31,
   "id": "e321b98f",
   "metadata": {},
   "outputs": [
    {
     "data": {
      "text/plain": [
       "'32.5'"
      ]
     },
     "execution_count": 31,
     "metadata": {},
     "output_type": "execute_result"
    }
   ],
   "source": [
    "response.chat_message.content"
   ]
  },
  {
   "cell_type": "code",
   "execution_count": 32,
   "id": "a0a2b916",
   "metadata": {},
   "outputs": [
    {
     "data": {
      "text/plain": [
       "32.5"
      ]
     },
     "execution_count": 32,
     "metadata": {},
     "output_type": "execute_result"
    }
   ],
   "source": [
    "import numpy as np\n",
    "np.mean([25, 30, 35, 40])"
   ]
  },
  {
   "cell_type": "markdown",
   "id": "65705cfd",
   "metadata": {},
   "source": [
    "This lesson demonstrates the key concepts of working with AutoGen agents, including:\n",
    "- Basic agent creation and interaction\n",
    "- Using tools and external functions\n",
    "- Working with data analysis capabilities\n",
    "\n",
    "The examples show how to create specialized agents for different purposes while maintaining a clean and efficient implementation."
   ]
  }
 ],
 "metadata": {
  "kernelspec": {
   "display_name": "oreilly-autogen",
   "language": "python",
   "name": "oreilly-autogen"
  },
  "language_info": {
   "codemirror_mode": {
    "name": "ipython",
    "version": 3
   },
   "file_extension": ".py",
   "mimetype": "text/x-python",
   "name": "python",
   "nbconvert_exporter": "python",
   "pygments_lexer": "ipython3",
   "version": "3.11.11"
  }
 },
 "nbformat": 4,
 "nbformat_minor": 5
}
