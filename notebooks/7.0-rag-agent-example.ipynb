{
 "cells": [
  {
   "cell_type": "markdown",
   "id": "cbec5bc2",
   "metadata": {},
   "source": [
    "# RAG Agent\n",
    "\n",
    "The RAG (Retrieval Augmented Generation):\n",
    "\n",
    "1. Indexing: Loading documents, chunking them, and storing them in a vector database\n",
    "\n",
    "2. Retrieval: Finding and using relevant chunks during conversation runtime\n",
    "\n",
    "Note: The quality of a RAG system depends on factors like chunking and retrieval (models, embeddings, etc.). You may have to experiment with those to get the best results."
   ]
  },
  {
   "cell_type": "markdown",
   "id": "a21d23e4",
   "metadata": {},
   "source": [
    "## Simple RAG Agent"
   ]
  },
  {
   "cell_type": "code",
   "execution_count": 1,
   "id": "7de7dfc9",
   "metadata": {},
   "outputs": [],
   "source": [
    "# source: https://microsoft.github.io/autogen/stable/user-guide/agentchat-user-guide/memory.html#:~:text=To%20begin%2C%20let%E2%80%99s%20create%20a%20simple%20document%20indexer%20that%20we%20will%20used%20to%20load%20documents%2C%20chunk%20them%2C%20and%20store%20them%20in%20a%20ChromaDBVectorMemory%20memory%20store.\n",
    "import re\n",
    "from typing import List\n",
    "\n",
    "import aiofiles\n",
    "import aiohttp\n",
    "from autogen_core.memory import Memory, MemoryContent, MemoryMimeType"
   ]
  },
  {
   "cell_type": "code",
   "execution_count": 2,
   "id": "a8f5fe71",
   "metadata": {},
   "outputs": [],
   "source": [
    "class SimpleDocumentIndexer:\n",
    "    \"\"\"Basic document indexer for AutoGen Memory.\"\"\"\n",
    "\n",
    "    def __init__(self, memory: Memory, chunk_size: int = 1500) -> None:\n",
    "        self.memory = memory\n",
    "        self.chunk_size = chunk_size\n",
    "\n",
    "    async def _fetch_content(self, source: str) -> str:\n",
    "        \"\"\"Fetch content from URL or file.\"\"\"\n",
    "        if source.startswith((\"http://\", \"https://\")):\n",
    "            async with aiohttp.ClientSession() as session:\n",
    "                async with session.get(source) as response:\n",
    "                    return await response.text()\n",
    "        else:\n",
    "            async with aiofiles.open(source, \"r\", encoding=\"utf-8\") as f:\n",
    "                return await f.read()\n",
    "\n",
    "    def _strip_html(self, text: str) -> str:\n",
    "        \"\"\"Remove HTML tags and normalize whitespace.\"\"\"\n",
    "        text = re.sub(r\"<[^>]*>\", \" \", text)\n",
    "        text = re.sub(r\"\\s+\", \" \", text)\n",
    "        return text.strip()\n",
    "\n",
    "    def _split_text(self, text: str) -> List[str]:\n",
    "        \"\"\"Split text into fixed-size chunks.\"\"\"\n",
    "        chunks: list[str] = []\n",
    "        # Just split text into fixed-size chunks\n",
    "        for i in range(0, len(text), self.chunk_size):\n",
    "            chunk = text[i : i + self.chunk_size]\n",
    "            chunks.append(chunk.strip())\n",
    "        return chunks\n",
    "\n",
    "    async def index_documents(self, sources: List[str]) -> int:\n",
    "        \"\"\"Index documents into memory.\"\"\"\n",
    "        total_chunks = 0\n",
    "\n",
    "        for source in sources:\n",
    "            try:\n",
    "                content = await self._fetch_content(source)\n",
    "\n",
    "                # Strip HTML if content appears to be HTML\n",
    "                if \"<\" in content and \">\" in content:\n",
    "                    content = self._strip_html(content)\n",
    "\n",
    "                chunks = self._split_text(content)\n",
    "\n",
    "                for i, chunk in enumerate(chunks):\n",
    "                    await self.memory.add(\n",
    "                        MemoryContent(\n",
    "                            content=chunk, mime_type=MemoryMimeType.TEXT, metadata={\"source\": source, \"chunk_index\": i}\n",
    "                        )\n",
    "                    )\n",
    "\n",
    "                total_chunks += len(chunks)\n",
    "\n",
    "            except Exception as e:\n",
    "                print(f\"Error indexing {source}: {str(e)}\")\n",
    "\n",
    "        return total_chunks\n"
   ]
  },
  {
   "cell_type": "code",
   "execution_count": 3,
   "id": "bb7d05e7",
   "metadata": {},
   "outputs": [
    {
     "name": "stdout",
     "output_type": "stream",
     "text": [
      "Indexed 40 chunks from 9 AutoGen documents\n"
     ]
    }
   ],
   "source": [
    "import os\n",
    "from pathlib import Path\n",
    "\n",
    "from autogen_agentchat.agents import AssistantAgent\n",
    "from autogen_agentchat.ui import Console\n",
    "from autogen_ext.memory.chromadb import ChromaDBVectorMemory, PersistentChromaDBVectorMemoryConfig\n",
    "from autogen_ext.models.openai import OpenAIChatCompletionClient\n",
    "\n",
    "# Initialize vector memory\n",
    "\n",
    "rag_memory = ChromaDBVectorMemory(\n",
    "    config=PersistentChromaDBVectorMemoryConfig(\n",
    "        collection_name=\"autogen_docs\",\n",
    "        persistence_path=os.path.join(str(Path.home()), \".chromadb_autogen\"),\n",
    "        k=3,  # Return top 3 results\n",
    "        score_threshold=0.4,  # Minimum similarity score\n",
    "    )\n",
    ")\n",
    "\n",
    "await rag_memory.clear()  # Clear existing memory\n",
    "\n",
    "\n",
    "# Index AutoGen documentation\n",
    "indexer = SimpleDocumentIndexer(memory=rag_memory)\n",
    "sources = [\n",
    "    \"https://microsoft.github.io/autogen/stable/user-guide/agentchat-user-guide/memory.html\",\n",
    "    \"https://microsoft.github.io/autogen/autogen/user-guide/autogenstudio-user-guide/index.html\",\n",
    "    \"https://microsoft.github.io/autogen/autogen/user-guide/agentchat-user-guide/index.html\",\n",
    "    \"https://microsoft.github.io/autogen/autogen/user-guide/core-user-guide/index.html\",\n",
    "    \"https://microsoft.github.io/autogen/autogen/user-guide/extensions-user-guide/index.html\",\n",
    "    \"https://microsoft.github.io/autogen/autogen/reference/index.html\",\n",
    "    \"https://microsoft.github.io/autogen/autogen/user-guide/agentchat-user-guide/migration-guide.html\",\n",
    "    \"https://microsoft.github.io/autogen/autogen/user-guide/agentchat-user-guide/quickstart.html\",\n",
    "    \"https://microsoft.github.io/autogen/autogen/user-guide/core-user-guide/quickstart.html\",\n",
    "]\n",
    "chunks: int = await indexer.index_documents(sources)\n",
    "print(f\"Indexed {chunks} chunks from {len(sources)} AutoGen documents\")"
   ]
  },
  {
   "cell_type": "code",
   "execution_count": null,
   "id": "efa99bdc",
   "metadata": {},
   "outputs": [
    {
     "name": "stdout",
     "output_type": "stream",
     "text": [
      "---------- TextMessage (user) ----------\n",
      "What is autogen in simple terms?\n"
     ]
    }
   ],
   "source": [
    "# Create our RAG assistant agent\n",
    "rag_assistant = AssistantAgent(\n",
    "    name=\"rag_assistant\", model_client=OpenAIChatCompletionClient(model=\"gpt-4o\"), memory=[rag_memory]\n",
    ")\n",
    "\n",
    "# Ask questions about AutoGen\n",
    "stream = rag_assistant.run_stream(task=\"What is autogen in simple terms?\")\n",
    "await Console(stream)\n",
    "\n",
    "# Remember to close the memory when done\n",
    "await rag_memory.close()"
   ]
  },
  {
   "cell_type": "code",
   "execution_count": null,
   "id": "9376e7cb",
   "metadata": {},
   "outputs": [],
   "source": []
  },
  {
   "cell_type": "code",
   "execution_count": null,
   "id": "ebb0ec3b",
   "metadata": {},
   "outputs": [],
   "source": []
  }
 ],
 "metadata": {
  "language_info": {
   "name": "python"
  }
 },
 "nbformat": 4,
 "nbformat_minor": 5
}
