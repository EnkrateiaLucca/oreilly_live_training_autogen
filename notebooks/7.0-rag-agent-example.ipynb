{
 "cells": [
  {
   "cell_type": "markdown",
   "id": "cbec5bc2",
   "metadata": {},
   "source": [
    "# RAG Agent\n",
    "\n",
    "The RAG (Retrieval Augmented Generation):\n",
    "\n",
    "1. Indexing: Loading documents, chunking them, and storing them in a vector database\n",
    "\n",
    "2. Retrieval: Finding and using relevant chunks during conversation runtime\n",
    "\n",
    "Note: The quality of a RAG system depends on factors like chunking and retrieval (models, embeddings, etc.). You may have to experiment with those to get the best results."
   ]
  },
  {
   "cell_type": "markdown",
   "id": "a21d23e4",
   "metadata": {},
   "source": [
    "## Simple RAG Agent"
   ]
  },
  {
   "cell_type": "code",
   "execution_count": 2,
   "id": "7de7dfc9",
   "metadata": {},
   "outputs": [],
   "source": [
    "# source: https://microsoft.github.io/autogen/stable/user-guide/agentchat-user-guide/memory.html#:~:text=To%20begin%2C%20let%E2%80%99s%20create%20a%20simple%20document%20indexer%20that%20we%20will%20used%20to%20load%20documents%2C%20chunk%20them%2C%20and%20store%20them%20in%20a%20ChromaDBVectorMemory%20memory%20store.\n",
    "import re\n",
    "from typing import List\n",
    "\n",
    "import aiofiles\n",
    "import aiohttp\n",
    "from autogen_core.memory import Memory, MemoryContent, MemoryMimeType\n",
    "\n",
    "\n",
    "class SimpleDocumentIndexer:\n",
    "    \"\"\"Basic document indexer for AutoGen Memory.\"\"\"\n",
    "\n",
    "    def __init__(self, memory: Memory, chunk_size: int = 1500) -> None:\n",
    "        self.memory = memory\n",
    "        self.chunk_size = chunk_size\n",
    "\n",
    "    async def _fetch_content(self, source: str) -> str:\n",
    "        \"\"\"Fetch content from URL or file.\"\"\"\n",
    "        if source.startswith((\"http://\", \"https://\")):\n",
    "            async with aiohttp.ClientSession() as session:\n",
    "                async with session.get(source) as response:\n",
    "                    return await response.text()\n",
    "        else:\n",
    "            async with aiofiles.open(source, \"r\", encoding=\"utf-8\") as f:\n",
    "                return await f.read()\n",
    "\n",
    "    def _strip_html(self, text: str) -> str:\n",
    "        \"\"\"Remove HTML tags and normalize whitespace.\"\"\"\n",
    "        text = re.sub(r\"<[^>]*>\", \" \", text)\n",
    "        text = re.sub(r\"\\s+\", \" \", text)\n",
    "        return text.strip()\n",
    "\n",
    "    def _split_text(self, text: str) -> List[str]:\n",
    "        \"\"\"Split text into fixed-size chunks.\"\"\"\n",
    "        chunks: list[str] = []\n",
    "        # Just split text into fixed-size chunks\n",
    "        for i in range(0, len(text), self.chunk_size):\n",
    "            chunk = text[i : i + self.chunk_size]\n",
    "            chunks.append(chunk.strip())\n",
    "        return chunks\n",
    "\n",
    "    async def index_documents(self, sources: List[str]) -> int:\n",
    "        \"\"\"Index documents into memory.\"\"\"\n",
    "        total_chunks = 0\n",
    "\n",
    "        for source in sources:\n",
    "            try:\n",
    "                content = await self._fetch_content(source)\n",
    "\n",
    "                # Strip HTML if content appears to be HTML\n",
    "                if \"<\" in content and \">\" in content:\n",
    "                    content = self._strip_html(content)\n",
    "\n",
    "                chunks = self._split_text(content)\n",
    "\n",
    "                for i, chunk in enumerate(chunks):\n",
    "                    await self.memory.add(\n",
    "                        MemoryContent(\n",
    "                            content=chunk, mime_type=MemoryMimeType.TEXT, metadata={\"source\": source, \"chunk_index\": i}\n",
    "                        )\n",
    "                    )\n",
    "\n",
    "                total_chunks += len(chunks)\n",
    "\n",
    "            except Exception as e:\n",
    "                print(f\"Error indexing {source}: {str(e)}\")\n",
    "\n",
    "        return total_chunks\n"
   ]
  },
  {
   "cell_type": "code",
   "execution_count": 6,
   "id": "bb7d05e7",
   "metadata": {},
   "outputs": [
    {
     "name": "stdout",
     "output_type": "stream",
     "text": [
      "Indexed 72 chunks from 14 AutoGen documents\n"
     ]
    }
   ],
   "source": [
    "import os\n",
    "from pathlib import Path\n",
    "\n",
    "from autogen_agentchat.agents import AssistantAgent\n",
    "from autogen_agentchat.ui import Console\n",
    "from autogen_ext.memory.chromadb import ChromaDBVectorMemory, PersistentChromaDBVectorMemoryConfig\n",
    "from autogen_ext.models.openai import OpenAIChatCompletionClient\n",
    "\n",
    "# Initialize vector memory\n",
    "\n",
    "rag_memory = ChromaDBVectorMemory(\n",
    "    config=PersistentChromaDBVectorMemoryConfig(\n",
    "        collection_name=\"autogen_docs\",\n",
    "        persistence_path=os.path.join(str(Path.home()), \".chromadb_autogen\"),\n",
    "        k=3,  # Return top 3 results\n",
    "        score_threshold=0.4,  # Minimum similarity score\n",
    "    )\n",
    ")\n",
    "\n",
    "await rag_memory.clear()  # Clear existing memory\n",
    "\n",
    "\n",
    "# Index AutoGen documentation\n",
    "indexer = SimpleDocumentIndexer(memory=rag_memory)\n",
    "sources = [\n",
    "    \"https://microsoft.github.io/autogen/stable/user-guide/agentchat-user-guide/memory.html\",\n",
    "    \"https://pypi.org/project/autogenstudio/\",\n",
    "    \"https://pypi.org/project/autogen-agentchat/\",\n",
    "    \"https://pypi.org/project/autogen-core/\",\n",
    "    \"https://pypi.org/project/autogen-ext/\",\n",
    "    \"https://microsoft.github.io/autogen/0.2/\",\n",
    "    \"https://microsoft.github.io/autogen/autogen/user-guide/autogenstudio-user-guide/index.html\",\n",
    "    \"https://microsoft.github.io/autogen/autogen/user-guide/agentchat-user-guide/index.html\",\n",
    "    \"https://microsoft.github.io/autogen/autogen/user-guide/core-user-guide/index.html\",\n",
    "    \"https://microsoft.github.io/autogen/autogen/user-guide/extensions-user-guide/index.html\",\n",
    "    \"https://microsoft.github.io/autogen/autogen/reference/index.html\",\n",
    "    \"https://microsoft.github.io/autogen/autogen/user-guide/agentchat-user-guide/migration-guide.html\",\n",
    "    \"https://microsoft.github.io/autogen/autogen/user-guide/agentchat-user-guide/quickstart.html\",\n",
    "    \"https://microsoft.github.io/autogen/autogen/user-guide/core-user-guide/quickstart.html\",\n",
    "]\n",
    "chunks: int = await indexer.index_documents(sources)\n",
    "print(f\"Indexed {chunks} chunks from {len(sources)} AutoGen documents\")"
   ]
  },
  {
   "cell_type": "code",
   "execution_count": null,
   "id": "efa99bdc",
   "metadata": {},
   "outputs": [
    {
     "name": "stdout",
     "output_type": "stream",
     "text": [
      "---------- TextMessage (user) ----------\n",
      "Basic RAG agent in autogen?\n",
      "---------- MemoryQueryEvent (rag_assistant) ----------\n",
      "[MemoryContent(content='rom 4 AutoGen documents # Create our RAG assistant agent rag_assistant = AssistantAgent ( name = &quot;rag_assistant&quot; , model_client = OpenAIChatCompletionClient ( model = &quot;gpt-4o&quot; ), memory = [ rag_memory ] ) # Ask questions about AutoGen stream = rag_assistant . run_stream ( task = &quot;What is AgentChat?&quot; ) await Console ( stream ) # Remember to close the memory when done await rag_memory . close () ---------- TextMessage (user) ---------- What is AgentChat? ---------- MemoryQueryEvent (rag_assistant) ---------- [MemoryContent(content=&#39;e of the AssistantAgent , we can now proceed to the next section to learn about the teams feature in AgentChat. previous Messages next Teams On this page Assistant Agent Getting Result Multi-Modal Input Streaming Messages Using Tools and Workbench Built-in Tools and Workbench Function Tool Model Context Protocol (MCP) Workbench Agent as a Tool Parallel Tool Calls Tool Iterations Structured Output Streaming Tokens Using Model Context Other Preset Agents Next Step Edit on GitHub Show Source so the DOM is not blocked --&gt; © Copyright 2024, Microsoft. Privacy Policy | Consumer Health Privacy Built with the PyData Sphinx Theme 0.16.0.&#39;, mime_type=&#39;MemoryMimeType.TEXT&#39;, metadata={&#39;chunk_index&#39;: 16, &#39;mime_type&#39;: &#39;MemoryMimeType.TEXT&#39;, &#39;source&#39;: &#39;https://microsoft.github.io/autogen/dev/user-guide/agentchat-user-guide/tutorial/agents.html&#39;, &#39;score&#39;: 0.6237251460552', mime_type='MemoryMimeType.TEXT', metadata={'mime_type': 'MemoryMimeType.TEXT', 'chunk_index': 17, 'source': 'https://microsoft.github.io/autogen/stable/user-guide/agentchat-user-guide/memory.html', 'score': 0.4777238368988037, 'id': '70e06741-81e6-4ebd-afc1-14edc45830b1'}), MemoryContent(content='0.7.4.tar.gz . File metadata Download URL: autogen_agentchat-0.7.4.tar.gz Upload date: Aug 19, 2025 Size: 147.0 kB Tags: Source Uploaded using Trusted Publishing? Yes Uploaded via: twine/6.1.0 CPython/3.12.9 File hashes Hashes for autogen_agentchat-0.7.4.tar.gz Algorithm Hash digest SHA256 9e9f0362c70d110479de351f8fc6afd497d9c926bd833f1bfafc118d993734c4 Copy MD5 961e48de4990949a2b841ec0783b3fe4 Copy BLAKE2b-256 f112a191a1b0dcb45a341e7a044fca82e71883a3cf8671fe7ad67e6d5d6f2a46 Copy See more details on using hashes here. Provenance The following attestation bundles were made for autogen_agentchat-0.7.4.tar.gz : Publisher: single-python-package.yml on microsoft/autogen Attestations: Values shown here reflect the state when the release was signed and may no longer be current. Statement: Statement type: https://in-toto.io/Statement/v1 Predicate type: https://docs.pypi.org/attestations/publish/v1 Subject name: autogen_agentchat-0.7.4.tar.gz Subject digest: 9e9f0362c70d110479de351f8fc6afd497d9c926bd833f1bfafc118d993734c4 Sigstore transparency entry: 410135528 Sigstore integration time: Aug 19, 2025 Source repository: Permalink: microsoft/autogen@00d6e78313f53a8430189c58d301d533a917c9c6 Branch / Tag: refs/heads/main Owner: https://github.com/microsoft Access: public Publication detail: Token Issuer: https://token.actions.githubusercontent.com Runner Environment: github-hosted Publication workflow: single-python-package.yml@00d6e78313f53a8430189c58d301d533a917c9c6 Trigger Event: workfl', mime_type='MemoryMimeType.TEXT', metadata={'source': 'https://pypi.org/project/autogen-agentchat/', 'chunk_index': 3, 'mime_type': 'MemoryMimeType.TEXT', 'score': 0.45191049575805664, 'id': '4ac27b7d-23c1-4d21-9c03-b521a5ab88ef'}), MemoryContent(content='our indexer with ChromaDBVectorMemory to build a complete RAG agent: import os from pathlib import Path from autogen_agentchat.agents import AssistantAgent from autogen_agentchat.ui import Console from autogen_ext.memory.chromadb import ChromaDBVectorMemory , PersistentChromaDBVectorMemoryConfig from autogen_ext.models.openai import OpenAIChatCompletionClient # Initialize vector memory rag_memory = ChromaDBVectorMemory ( config = PersistentChromaDBVectorMemoryConfig ( collection_name = &quot;autogen_docs&quot; , persistence_path = os . path . join ( str ( Path . home ()), &quot;.chromadb_autogen&quot; ), k = 3 , # Return top 3 results score_threshold = 0.4 , # Minimum similarity score ) ) await rag_memory . clear () # Clear existing memory # Index AutoGen documentation async def index_autogen_docs () -&gt; None : indexer = SimpleDocumentIndexer ( memory = rag_memory ) sources = [ &quot;https://raw.githubusercontent.com/microsoft/autogen/main/README.md&quot; , &quot;https://microsoft.github.io/autogen/dev/user-guide/agentchat-user-guide/tutorial/agents.html&quot; , &quot;https://microsoft.github.io/autogen/dev/user-guide/agentchat-user-guide/tutorial/teams.html&quot; , &quot;https://microsoft.github.io/autogen/dev/user-guide/agentchat-user-guide/tutorial/termination.html&quot; , ] chunks : int = await indexer . index_documents ( sources ) print ( f &quot;Indexed { chunks } chunks from { len ( sources ) } AutoGen documents&quot; ) await index_autogen_docs () Indexed 70 chunks f', mime_type='MemoryMimeType.TEXT', metadata={'mime_type': 'MemoryMimeType.TEXT', 'source': 'https://microsoft.github.io/autogen/stable/user-guide/agentchat-user-guide/memory.html', 'chunk_index': 16, 'score': 0.4305061101913452, 'id': 'd0437a6a-0def-40e8-9885-1ec60351236c'})]\n"
     ]
    }
   ],
   "source": [
    "# Create our RAG assistant agent\n",
    "rag_assistant = AssistantAgent(\n",
    "    name=\"rag_assistant\", model_client=OpenAIChatCompletionClient(model=\"gpt-5\"), memory=[rag_memory]\n",
    ")\n",
    "\n",
    "# Ask questions about AutoGen\n",
    "stream = rag_assistant.run_stream(task=\"Basic RAG agent in autogen?\")\n",
    "await Console(stream)\n",
    "\n",
    "# Remember to close the memory when done\n",
    "await rag_memory.close()"
   ]
  },
  {
   "cell_type": "code",
   "execution_count": null,
   "id": "9376e7cb",
   "metadata": {},
   "outputs": [],
   "source": []
  },
  {
   "cell_type": "code",
   "execution_count": null,
   "id": "ebb0ec3b",
   "metadata": {},
   "outputs": [],
   "source": []
  }
 ],
 "metadata": {
  "language_info": {
   "name": "python"
  }
 },
 "nbformat": 4,
 "nbformat_minor": 5
}
