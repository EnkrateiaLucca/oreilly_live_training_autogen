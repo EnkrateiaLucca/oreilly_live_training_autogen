{
 "cells": [
  {
   "cell_type": "markdown",
   "id": "788087c8",
   "metadata": {},
   "source": [
    "# Managing State in Autogen: Saving and Loading Agent Conversations\n",
    "\n",
    "## Setup and Requirements"
   ]
  },
  {
   "cell_type": "code",
   "execution_count": 1,
   "id": "e59ff147",
   "metadata": {},
   "outputs": [],
   "source": [
    "import os\n",
    "import getpass\n",
    "\n",
    "def _set_env(var: str):\n",
    "    if not os.environ.get(var):\n",
    "        os.environ[var] = getpass.getpass(f\"{var}: \")\n",
    "\n",
    "_set_env(\"OPENAI_API_KEY\")"
   ]
  },
  {
   "cell_type": "code",
   "execution_count": 2,
   "id": "4a75eccc",
   "metadata": {},
   "outputs": [],
   "source": [
    "import json\n",
    "from autogen_agentchat.agents import AssistantAgent\n",
    "from autogen_agentchat.conditions import MaxMessageTermination\n",
    "from autogen_agentchat.messages import TextMessage\n",
    "from autogen_agentchat.teams import RoundRobinGroupChat\n",
    "from autogen_agentchat.ui import Console\n",
    "from autogen_core import CancellationToken\n",
    "from autogen_ext.models.openai import OpenAIChatCompletionClient"
   ]
  },
  {
   "cell_type": "markdown",
   "id": "6d60cd9c",
   "metadata": {},
   "source": [
    "## Introduction to State Management\n",
    "In multi-agent applications, preserving the context and history of conversations is crucial. State management in Autogen allows us to save and restore agent memories, team configurations, and conversation histories.\n",
    "\n",
    "## Managing Individual Agent State"
   ]
  },
  {
   "cell_type": "code",
   "execution_count": 3,
   "id": "10c27d6f",
   "metadata": {},
   "outputs": [],
   "source": [
    "# Create a movie critic agent\n",
    "critic_agent = AssistantAgent(\n",
    "    name=\"critic_agent\",\n",
    "    system_message=\"You are a passionate movie critic who analyzes films deeply\",\n",
    "    model_client=OpenAIChatCompletionClient(\n",
    "        model=\"gpt-4o-mini\",\n",
    "    ),\n",
    ")\n",
    "\n",
    "# Have a conversation about a movie\n",
    "response = await critic_agent.on_messages(\n",
    "    [TextMessage(content=\"Review the cinematography of Blade Runner 2049\", source=\"user\")], \n",
    "    CancellationToken()\n",
    ")\n",
    "\n",
    "# Save the agent's state after the review\n",
    "agent_state = await critic_agent.save_state()\n",
    "\n",
    "# Create a new instance of the critic agent\n",
    "new_critic_agent = AssistantAgent(\n",
    "    name=\"critic_agent\",\n",
    "    system_message=\"You are a passionate movie critic who analyzes films deeply\",\n",
    "    model_client=OpenAIChatCompletionClient(\n",
    "        model=\"gpt-4o-mini\",\n",
    "    ),\n",
    ")\n",
    "\n",
    "# Load the previous conversation state\n",
    "await new_critic_agent.load_state(agent_state)\n",
    "\n",
    "# Ask about the previous review\n",
    "response = await new_critic_agent.on_messages(\n",
    "    [TextMessage(content=\"What were the main points of your previous cinematography analysis?\", source=\"user\")], \n",
    "    CancellationToken()\n",
    ")"
   ]
  },
  {
   "cell_type": "code",
   "execution_count": 4,
   "id": "ba6e4b7f",
   "metadata": {},
   "outputs": [
    {
     "data": {
      "text/plain": [
       "Response(chat_message=TextMessage(source='critic_agent', models_usage=RequestUsage(prompt_tokens=730, completion_tokens=259), content='The main points of the cinematography analysis of \"Blade Runner 2049\" include:\\n\\n1. **Masterful Atmosphere Creation**: Roger Deakins\\' cinematography crafts immersive environments that reflect the film\\'s themes of isolation and existential inquiry, particularly through vast and oppressive urban landscapes.\\n\\n2. **Dynamic Use of Color**: The film\\'s palette showcases a range of hues from muted earth tones to vibrant neon colors, establishing emotional depth and mirroring the film’s exploration of artificiality versus authenticity.\\n\\n3. **Meticulous Framing**: Every shot is composed with great care, achieving harmonious or tense visual narratives that underscore the duality of human and replicant experiences.\\n\\n4. **Innovative Lighting Techniques**: Deakins utilizes a blend of natural and artificial lighting to sculpt mood and atmosphere, creating effective shadows and silhouettes that enhance character dynamics.\\n\\n5. **Pacing Through Cinematic Choices**: Long takes and slow movements invite viewers to engage deeply with the visuals and themes, reinforcing the film’s meditative storytelling approach.\\n\\n6. **Overall Artistic Achievement**: The cinematography elevates the film’s thematic ambitions, resulting in a visually arresting experience that complements its exploration of identity, memory, and the passage of time, making it a significant work in contemporary cinema.', type='TextMessage'), inner_messages=[])"
      ]
     },
     "execution_count": 4,
     "metadata": {},
     "output_type": "execute_result"
    }
   ],
   "source": [
    "response"
   ]
  },
  {
   "cell_type": "markdown",
   "id": "42898156",
   "metadata": {},
   "source": [
    "## Managing Team State"
   ]
  },
  {
   "cell_type": "code",
   "execution_count": 5,
   "id": "f9cdfd9c",
   "metadata": {},
   "outputs": [
    {
     "data": {
      "text/plain": [
       "TaskResult(messages=[TextMessage(source='user', models_usage=None, content='What was your main conclusion about isolation in the previous analysis?', type='TextMessage'), TextMessage(source='critic_agent', models_usage=RequestUsage(prompt_tokens=780, completion_tokens=167), content='In the analysis of \"Taxi Driver,\" the main conclusion about isolation is that it is portrayed as a deeply pervasive and destructive force that significantly impacts the protagonist, Travis Bickle. Isolation is not only a personal affliction for Travis but also a symptom of the broader societal and urban condition. This profound sense of alienation drives him into a dangerous downward spiral, culminating in violence and delusion. The film meticulously dissects how isolation can distort an individual\\'s reality, pushing them towards drastic measures in a desperate search for meaning, connection, and redemption in an indifferent world. Ultimately, \"Taxi Driver\" serves as a powerful exploration of the human condition, highlighting the tragic consequences that can arise from the acute absence of genuine human connection and the failure of society to address the underlying issues of urban loneliness and disaffection.', type='TextMessage'), TextMessage(source='critic_agent', models_usage=RequestUsage(prompt_tokens=954, completion_tokens=154), content='In the analysis of \"Taxi Driver,\" the primary conclusion about isolation lies in its depiction as a profoundly destructive force, profoundly affecting the protagonist, Travis Bickle. This theme of isolation transcends mere personal anguish, embodying a broader critique of societal disconnection and urban anonymity. The film delves into how isolation can warp an individual\\'s perception of reality, driving them towards extreme and violent attempts at finding purpose and connection. \"Taxi Driver\" eloquently articulates the dangers of profound loneliness and alienation, showcasing the potential for tragedy when a person is pushed to the fringes of society. Through Travis\\'s descent into madness, the film underscores the essential human need for connection and the dire consequences that can ensue when that need remains unfulfilled.', type='TextMessage')], stop_reason='Maximum number of messages 3 reached, current message count: 3')"
      ]
     },
     "execution_count": 5,
     "metadata": {},
     "output_type": "execute_result"
    }
   ],
   "source": [
    "# Create a film analysis team\n",
    "critic_agent = AssistantAgent(\n",
    "    name=\"critic_agent\",\n",
    "    system_message=\"You are a passionate movie critic who analyzes films deeply\",\n",
    "    model_client=OpenAIChatCompletionClient(\n",
    "        model=\"gpt-4-0125-preview\",\n",
    "    ),\n",
    ")\n",
    "\n",
    "film_team = RoundRobinGroupChat(\n",
    "    [critic_agent], \n",
    "    termination_condition=MaxMessageTermination(max_messages=3)\n",
    ")\n",
    "\n",
    "# Run an analysis session\n",
    "stream = film_team.run_stream(\n",
    "    task=\"Analyze the themes of isolation in Taxi Driver\"\n",
    ")\n",
    "await Console(stream)\n",
    "\n",
    "# Save the team's state\n",
    "team_state = await film_team.save_state()\n",
    "\n",
    "# Create a new team instance\n",
    "new_film_team = RoundRobinGroupChat(\n",
    "    [critic_agent], \n",
    "    termination_condition=MaxMessageTermination(max_messages=3)\n",
    ")\n",
    "\n",
    "# Load the previous analysis session\n",
    "await new_film_team.load_state(team_state)\n",
    "\n",
    "# Ask about the previous analysis\n",
    "stream = new_film_team.run_stream(\n",
    "    task=\"What was your main conclusion about isolation in the previous analysis?\"\n",
    ")\n",
    "await Console(stream)"
   ]
  },
  {
   "cell_type": "markdown",
   "id": "ca1a57a7",
   "metadata": {},
   "source": [
    "## Persistent Storage"
   ]
  },
  {
   "cell_type": "code",
   "execution_count": 7,
   "id": "d470cdc9",
   "metadata": {},
   "outputs": [
    {
     "data": {
      "text/plain": [
       "'The use of visual style in \"Taxi Driver\" to articulate the theme of isolation is not only clever but integral to the film\\'s enduring impact. Here are a few key ways the visual style enhances the theme:\\n\\n### Visual Metaphors and Symbolism\\n\\nThe city itself, with its blinding neon lights and shadowy alleys, serves as a visual metaphor for Travis Bickle\\'s isolation. The contrast between the bright, bustling streets and the dark, empty corners mirrors Travis\\'s own internal contradictions and his feelings of being both within and yet apart from the urban landscape around him. The visual motif of reflections, often seen in mirrors or through windows, further emphasizes Travis\\'s fragmented identity and his disconnect from society.\\n\\n### Camera Techniques\\n\\nScorsese\\'s use of camera techniques plays a crucial role in conveying Travis\\'s isolation. Long, lingering shots that follow Travis through the neon-lit streets of New York at night envelop him in the city yet simultaneously underscore his solitude within it. The camera often isolates Travis in the frame, surrounded by space, which visually accentuates his emotional and physical detachment from those around him. Close-ups of Travis\\'s eyes, looking out at the world through rearview mirrors or from behind the rolled-up window of his cab, emphasize his role as an observer, not a participant, in life around him.\\n\\n### Color Palette and Lighting\\n\\nThe film\\'s color scheme and lighting choices reinforce the sense of isolation. The use of stark, contrasting lighting captures the gritty texture of New York City at night, creating a backdrop that reflects Travis\\'s turbulent psyche. The frequent use of reds and blues not only suggests the danger and melancholy of the urban night but also paints Travis\\'s emotional landscape, highlighting his descent into loneliness and obsession.\\n\\n### Framing and Composition\\n\\nScorsese\\'s strategic framing contributes significantly to the theme of isolation. Scenes are often composed to place Travis against the backdrop of the expansive city or empty spaces, underscoring his alienation and disconnection. The framing sometimes traps Travis within architectural elements or the taxi itself, symbolizing his psychological confinement and his inability to transcend his isolation.\\n\\nThrough its visual style, \"Taxi Driver\" not only tells the story of Travis Bickle\\'s descent into loneliness and violence but also immerses the viewer in the palpable feeling of isolation. Scorsese and cinematographer Michael Chapman masterfully employ visual language to evoke Travis\\'s internal state, making the film\\'s exploration of isolation all the more affecting and unforgettable.'"
      ]
     },
     "execution_count": 7,
     "metadata": {},
     "output_type": "execute_result"
    }
   ],
   "source": [
    "# Save team state to a file\n",
    "def save_team_state(team_state, filename):\n",
    "    with open(filename, \"w\") as f:\n",
    "        json.dump(team_state, f)\n",
    "\n",
    "# Load team state from a file\n",
    "def load_team_state(filename):\n",
    "    with open(filename, \"r\") as f:\n",
    "        return json.load(f)\n",
    "\n",
    "# Example usage\n",
    "filename = \"film_analysis_session.json\"\n",
    "\n",
    "# Save the state\n",
    "save_team_state(team_state, filename)\n",
    "\n",
    "# Create a new team and restore the state\n",
    "new_team = RoundRobinGroupChat(\n",
    "    [critic_agent], \n",
    "    termination_condition=MaxMessageTermination(max_messages=3)\n",
    ")\n",
    "saved_state = load_team_state(filename)\n",
    "await new_team.load_state(saved_state)\n",
    "\n",
    "# Continue the analysis\n",
    "stream = new_team.run_stream(\n",
    "    task=\"How does the theme of isolation connect to the visual style discussed earlier?\"\n",
    ")\n",
    "output = await Console(stream)\n",
    "output.messages[-1].content"
   ]
  },
  {
   "cell_type": "markdown",
   "id": "9d45d8ef",
   "metadata": {},
   "source": [
    "## Key Points to Remember\n",
    "\n",
    "1. Agent state primarily consists of conversation history and context\n",
    "2. Team state includes all member agents' states plus team-specific configurations\n",
    "3. States can be serialized to JSON for persistent storage\n",
    "4. Loaded states allow agents to maintain conversation context\n",
    "5. State management is crucial for building stateless applications\n",
    "\n",
    "## Common Use Cases\n",
    "- Web applications requiring conversation persistence\n",
    "- Long-running analysis sessions that need to be resumed\n",
    "- Multi-step processes that require context preservation\n",
    "- Distributed systems where state needs to be shared\n",
    "- Backup and recovery of agent conversations"
   ]
  }
 ],
 "metadata": {
  "kernelspec": {
   "display_name": "oreilly-autogen",
   "language": "python",
   "name": "oreilly-autogen"
  },
  "language_info": {
   "codemirror_mode": {
    "name": "ipython",
    "version": 3
   },
   "file_extension": ".py",
   "mimetype": "text/x-python",
   "name": "python",
   "nbconvert_exporter": "python",
   "pygments_lexer": "ipython3",
   "version": "3.11.11"
  }
 },
 "nbformat": 4,
 "nbformat_minor": 5
}
