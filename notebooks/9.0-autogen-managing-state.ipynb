{
 "cells": [
  {
   "cell_type": "markdown",
   "id": "ead920d5",
   "metadata": {},
   "source": [
    "# Managing State in AutoGen: A Tutorial on Saving and Loading Agent States\n",
    "\n",
    "In this tutorial, we'll explore how to manage state in AutoGen applications, focusing on saving and loading states for agents and teams. This is particularly useful for web applications or scenarios where you need to persist conversation history."
   ]
  },
  {
   "cell_type": "code",
   "execution_count": null,
   "id": "05e524bf",
   "metadata": {},
   "outputs": [],
   "source": [
    "import os\n",
    "import getpass\n",
    "import json\n",
    "from autogen import AssistantAgent, UserProxyAgent\n",
    "from autogen.agentchat.contrib.agent_builder import AgentBuilder\n",
    "\n",
    "def _set_env(var: str):\n",
    "    if not os.environ.get(var):\n",
    "        os.environ[var] = getpass.getpass(f\"{var}: \")\n",
    "\n",
    "_set_env(\"OPENAI_API_KEY\")"
   ]
  },
  {
   "cell_type": "markdown",
   "id": "05167feb",
   "metadata": {},
   "source": [
    "## Basic Agent State Management\n",
    "\n",
    "Let's start with a simple example of saving and loading an agent's state:"
   ]
  },
  {
   "cell_type": "code",
   "execution_count": null,
   "id": "16f8d549",
   "metadata": {},
   "outputs": [],
   "source": [
    "# Create an assistant agent\n",
    "assistant = AssistantAgent(\n",
    "    name=\"poetry_assistant\",\n",
    "    system_message=\"You are a creative poetry assistant specializing in nature poems.\",\n",
    "    llm_config={\n",
    "        \"temperature\": 0.7,\n",
    "        \"model\": \"gpt-4\"\n",
    "    }\n",
    ")\n",
    "\n",
    "# Create a user proxy agent\n",
    "user = UserProxyAgent(\n",
    "    name=\"user\",\n",
    "    human_input_mode=\"NEVER\",\n",
    "    max_consecutive_auto_reply=1\n",
    ")\n",
    "\n",
    "# Initialize a chat\n",
    "chat_messages = assistant.initiate_chat(\n",
    "    user,\n",
    "    message=\"Write a haiku about mountains\"\n",
    ")\n",
    "\n",
    "# Save the agent's state\n",
    "agent_state = assistant.save_state()\n",
    "\n",
    "# Print the state\n",
    "print(\"Saved agent state:\")\n",
    "print(json.dumps(agent_state, indent=2))"
   ]
  },
  {
   "cell_type": "markdown",
   "id": "da6ecf18",
   "metadata": {},
   "source": [
    "## Loading Agent State\n",
    "\n",
    "Now let's create a new agent and load the previous state:"
   ]
  },
  {
   "cell_type": "code",
   "execution_count": null,
   "id": "bac8191a",
   "metadata": {},
   "outputs": [],
   "source": [
    "# Create a new assistant\n",
    "new_assistant = AssistantAgent(\n",
    "    name=\"poetry_assistant\",\n",
    "    system_message=\"You are a creative poetry assistant specializing in nature poems.\",\n",
    "    llm_config={\n",
    "        \"temperature\": 0.7,\n",
    "        \"model\": \"gpt-4\"\n",
    "    }\n",
    ")\n",
    "\n",
    "# Load the previous state\n",
    "new_assistant.load_state(agent_state)\n",
    "\n",
    "# Test if the state was properly loaded\n",
    "chat_messages = new_assistant.initiate_chat(\n",
    "    user,\n",
    "    message=\"What was the last poem you wrote?\"\n",
    ")"
   ]
  },
  {
   "cell_type": "markdown",
   "id": "a7dbb08a",
   "metadata": {},
   "source": [
    "## Working with Team States\n",
    "\n",
    "Let's explore how to manage state with multiple agents working as a team:"
   ]
  },
  {
   "cell_type": "code",
   "execution_count": null,
   "id": "f7171c4f",
   "metadata": {},
   "outputs": [],
   "source": [
    "# Create a team of agents\n",
    "critic = AssistantAgent(\n",
    "    name=\"poetry_critic\",\n",
    "    system_message=\"You are a poetry critic who provides constructive feedback.\",\n",
    "    llm_config={\n",
    "        \"temperature\": 0.7,\n",
    "        \"model\": \"gpt-4\"\n",
    "    }\n",
    ")\n",
    "\n",
    "team_members = [assistant, critic]\n",
    "team_config = {\n",
    "    \"agents\": team_members,\n",
    "    \"max_rounds\": 3\n",
    "}\n",
    "\n",
    "# Create some interaction between team members\n",
    "initial_message = \"Let's create and review a nature poem.\"\n",
    "chat_messages = assistant.initiate_chat(\n",
    "    critic,\n",
    "    message=initial_message\n",
    ")\n",
    "\n",
    "# Save team state\n",
    "team_state = {\n",
    "    \"assistant_state\": assistant.save_state(),\n",
    "    \"critic_state\": critic.save_state()\n",
    "}\n",
    "\n",
    "# Save to file\n",
    "with open(\"team_state.json\", \"w\") as f:\n",
    "    json.dump(team_state, f)"
   ]
  },
  {
   "cell_type": "markdown",
   "id": "b22a0f94",
   "metadata": {},
   "source": [
    "## Loading Team State from File"
   ]
  },
  {
   "cell_type": "code",
   "execution_count": null,
   "id": "a1cd4f4a",
   "metadata": {},
   "outputs": [],
   "source": [
    "# Load team state from file\n",
    "def load_team_state(filename):\n",
    "    with open(filename, \"r\") as f:\n",
    "        loaded_state = json.load(f)\n",
    "    \n",
    "    # Create new agents\n",
    "    new_assistant = AssistantAgent(\n",
    "        name=\"poetry_assistant\",\n",
    "        system_message=\"You are a creative poetry assistant specializing in nature poems.\",\n",
    "        llm_config={\n",
    "            \"temperature\": 0.7,\n",
    "            \"model\": \"gpt-4\"\n",
    "        }\n",
    "    )\n",
    "    \n",
    "    new_critic = AssistantAgent(\n",
    "        name=\"poetry_critic\",\n",
    "        system_message=\"You are a poetry critic who provides constructive feedback.\",\n",
    "        llm_config={\n",
    "            \"temperature\": 0.7,\n",
    "            \"model\": \"gpt-4\"\n",
    "        }\n",
    "    )\n",
    "    \n",
    "    # Load states\n",
    "    new_assistant.load_state(loaded_state[\"assistant_state\"])\n",
    "    new_critic.load_state(loaded_state[\"critic_state\"])\n",
    "    \n",
    "    return new_assistant, new_critic\n",
    "\n",
    "# Usage example\n",
    "new_assistant, new_critic = load_team_state(\"team_state.json\")"
   ]
  },
  {
   "cell_type": "markdown",
   "id": "85767ea8",
   "metadata": {},
   "source": [
    "## Best Practices for State Management"
   ]
  },
  {
   "cell_type": "code",
   "execution_count": null,
   "id": "947d032e",
   "metadata": {},
   "outputs": [],
   "source": [
    "class StateManager:\n",
    "    def __init__(self, storage_path):\n",
    "        self.storage_path = storage_path\n",
    "        \n",
    "    def save_agent_state(self, agent, filename):\n",
    "        state = agent.save_state()\n",
    "        full_path = os.path.join(self.storage_path, filename)\n",
    "        with open(full_path, \"w\") as f:\n",
    "            json.dump(state, f)\n",
    "            \n",
    "    def load_agent_state(self, agent, filename):\n",
    "        full_path = os.path.join(self.storage_path, filename)\n",
    "        with open(full_path, \"r\") as f:\n",
    "            state = json.load(f)\n",
    "        agent.load_state(state)\n",
    "        \n",
    "    def cleanup_old_states(self, max_age_days=7):\n",
    "        \"\"\"Remove state files older than max_age_days\"\"\"\n",
    "        current_time = time.time()\n",
    "        for filename in os.listdir(self.storage_path):\n",
    "            file_path = os.path.join(self.storage_path, filename)\n",
    "            if os.path.getmtime(file_path) < current_time - (max_age_days * 86400):\n",
    "                os.remove(file_path)\n",
    "\n",
    "# Usage example\n",
    "state_manager = StateManager(\"./agent_states\")\n",
    "state_manager.save_agent_state(assistant, \"poetry_assistant_state.json\")"
   ]
  },
  {
   "cell_type": "markdown",
   "id": "b249d53e",
   "metadata": {},
   "source": [
    "This tutorial covered the essential aspects of state management in AutoGen, including saving and loading states for individual agents and teams, persisting states to disk, and implementing best practices for state management in production environments."
   ]
  }
 ],
 "metadata": {},
 "nbformat": 4,
 "nbformat_minor": 5
}
