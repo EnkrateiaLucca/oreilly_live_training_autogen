{
 "cells": [
  {
   "cell_type": "markdown",
   "metadata": {},
   "source": [
    "# AutoGen Basics\n",
    "## 4 Basic steps\n",
    "1. Define configuration list\n",
    "2. Define the assistant\n",
    "3. Define the user\n",
    "4. Initiate chat (solve the task)"
   ]
  },
  {
   "cell_type": "code",
   "execution_count": 29,
   "metadata": {},
   "outputs": [],
   "source": [
    "# !pip install pyautogen "
   ]
  },
  {
   "cell_type": "markdown",
   "metadata": {},
   "source": []
  },
  {
   "cell_type": "code",
   "execution_count": 1,
   "metadata": {},
   "outputs": [],
   "source": [
    "# source: https://github.com/microsoft/autogen/blob/main/test/twoagent.py\n",
    "%matplotlib inline\n",
    "from autogen import AssistantAgent, UserProxyAgent, config_list_from_json\n",
    "from autogen.coding import LocalCommandLineCodeExecutor\n",
    "\n",
    "# Load LLM inference endpoints from an env variable or a file\n",
    "# See https://microsoft.github.io/autogen/docs/FAQ#set-your-api-endpoints\n",
    "# and OAI_CONFIG_LIST_sample\n",
    "\n",
    "config_list = config_list_from_json(env_or_file=\"OAI_CONFIG_LIST\")"
   ]
  },
  {
   "cell_type": "code",
   "execution_count": 2,
   "metadata": {},
   "outputs": [],
   "source": [
    "assistant = AssistantAgent(\"assistant\", llm_config={\"config_list\": config_list})"
   ]
  },
  {
   "cell_type": "code",
   "execution_count": 6,
   "metadata": {},
   "outputs": [],
   "source": [
    "from pathlib import Path\n",
    "\n",
    "work_dir = Path(\"coding\")\n",
    "code_executor = LocalCommandLineCodeExecutor(work_dir=work_dir)"
   ]
  },
  {
   "cell_type": "markdown",
   "metadata": {},
   "source": [
    "![](2024-10-01-16-53-30.png)\n",
    "\n",
    "Image taken from [AutoGen docs](https://microsoft.github.io/autogen/docs/tutorial/code-executors/)"
   ]
  },
  {
   "cell_type": "code",
   "execution_count": 7,
   "metadata": {},
   "outputs": [],
   "source": [
    "user_proxy = UserProxyAgent(\"user_proxy\", code_execution_config={\"executor\": code_executor})"
   ]
  },
  {
   "cell_type": "code",
   "execution_count": 8,
   "metadata": {},
   "outputs": [
    {
     "name": "stdout",
     "output_type": "stream",
     "text": [
      "\u001b[33muser_proxy\u001b[0m (to assistant):\n",
      "\n",
      "Plot a chart of NVDA and TESLA stock price change YTD and save it under stock_price_change_ytd.png\n",
      "\n",
      "--------------------------------------------------------------------------------\n",
      "\u001b[33massistant\u001b[0m (to user_proxy):\n",
      "\n",
      "To achieve this, we will follow these steps:\n",
      "\n",
      "1. Fetch the Year-to-Date (YTD) stock price data for NVDA (NVIDIA) and TSLA (Tesla) using an API such as Alpha Vantage or Yahoo Finance.\n",
      "2. Process the data to calculate the price change percentage.\n",
      "3. Plot the stock price change percentage and save it as an image file named `stock_price_change_ytd.png`.\n",
      "\n",
      "We will use the `yfinance` library to fetch the stock data and `matplotlib` for plotting.\n",
      "\n",
      "Here is the Python code to accomplish this task:\n",
      "\n",
      "```python\n",
      "# filename: stock_price_change_ytd.py\n",
      "\n",
      "import yfinance as yf\n",
      "import matplotlib.pyplot as plt\n",
      "import datetime\n",
      "\n",
      "# Get the current date\n",
      "end_date = datetime.datetime.now().date()\n",
      "# Get the first trading day of the current year\n",
      "start_date = datetime.date(end_date.year, 1, 1)\n",
      "\n",
      "# Fetch the YTD stock data for NVDA and TSLA\n",
      "nvda_data = yf.download('NVDA', start=start_date, end=end_date)\n",
      "tsla_data = yf.download('TSLA', start=start_date, end=end_date)\n",
      "\n",
      "# Calculate the percentage change in stock price\n",
      "nvda_price_change = ((nvda_data['Close'] / nvda_data['Close'].iloc[0]) - 1) * 100\n",
      "tsla_price_change = ((tsla_data['Close'] / tsla_data['Close'].iloc[0]) - 1) * 100\n",
      "\n",
      "# Plot the stock price change\n",
      "plt.figure(figsize=(10, 6))\n",
      "plt.plot(nvda_data.index, nvda_price_change, label='NVDA')\n",
      "plt.plot(tsla_data.index, tsla_price_change, label='TSLA')\n",
      "plt.xlabel('Date')\n",
      "plt.ylabel('Price Change %')\n",
      "plt.title('Year-to-Date Stock Price Change for NVDA and TSLA')\n",
      "plt.legend()\n",
      "plt.grid(True)\n",
      "plt.savefig('stock_price_change_ytd.png')\n",
      "print('Stock price change chart has been saved as stock_price_change_ytd.png.')\n",
      "```\n",
      "\n",
      "Please save the above code in a file named `stock_price_change_ytd.py` and execute it. This will fetch the stock data, process it, plot the chart, and save it as `stock_price_change_ytd.png`. Post the output here once executed.\n",
      "\n",
      "--------------------------------------------------------------------------------\n",
      "\u001b[31m\n",
      ">>>>>>>> NO HUMAN INPUT RECEIVED.\u001b[0m\n",
      "\u001b[31m\n",
      ">>>>>>>> USING AUTO REPLY...\u001b[0m\n",
      "\u001b[31m\n",
      ">>>>>>>> EXECUTING CODE BLOCK (inferred language is python)...\u001b[0m\n",
      "\u001b[33muser_proxy\u001b[0m (to assistant):\n",
      "\n",
      "exitcode: 0 (execution succeeded)\n",
      "Code output: \n",
      "[*********************100%%**********************]  1 of 1 completed\n",
      "\n",
      "[*********************100%%**********************]  1 of 1 completed\n",
      "Stock price change chart has been saved as stock_price_change_ytd.png.\n",
      "\n",
      "\n",
      "--------------------------------------------------------------------------------\n",
      "\u001b[33massistant\u001b[0m (to user_proxy):\n",
      "\n",
      "Great! The execution was successful.\n",
      "\n",
      "The chart showing the year-to-date stock price change for NVDA and TSLA has been saved as `stock_price_change_ytd.png`. \n",
      "\n",
      "You should be able to find this image file in the directory where you ran the script.\n",
      "\n",
      "If you have any more tasks or need further assistance, feel free to ask. TERMINATE.\n",
      "\n",
      "--------------------------------------------------------------------------------\n",
      "\u001b[31m\n",
      ">>>>>>>> NO HUMAN INPUT RECEIVED.\u001b[0m\n",
      "\u001b[31m\n",
      ">>>>>>>> USING AUTO REPLY...\u001b[0m\n",
      "\u001b[33muser_proxy\u001b[0m (to assistant):\n",
      "\n",
      "\n",
      "\n",
      "--------------------------------------------------------------------------------\n",
      "\u001b[33massistant\u001b[0m (to user_proxy):\n",
      "\n",
      "It seems the task is complete and the chart has been generated successfully.\n",
      "\n",
      "If you have any further tasks or questions, please let me know! TERMINATE.\n",
      "\n",
      "--------------------------------------------------------------------------------\n",
      "\u001b[31m\n",
      ">>>>>>>> NO HUMAN INPUT RECEIVED.\u001b[0m\n",
      "\u001b[31m\n",
      ">>>>>>>> USING AUTO REPLY...\u001b[0m\n",
      "\u001b[33muser_proxy\u001b[0m (to assistant):\n",
      "\n",
      "\n",
      "\n",
      "--------------------------------------------------------------------------------\n",
      "\u001b[33massistant\u001b[0m (to user_proxy):\n",
      "\n",
      "It appears that there are no additional tasks or questions at this moment.\n",
      "\n",
      "If you do have anything further you'd like assistance with, please feel free to let me know. TERMINATE.\n",
      "\n",
      "--------------------------------------------------------------------------------\n",
      "\u001b[31m\n",
      ">>>>>>>> NO HUMAN INPUT RECEIVED.\u001b[0m\n",
      "\u001b[31m\n",
      ">>>>>>>> USING AUTO REPLY...\u001b[0m\n",
      "\u001b[33muser_proxy\u001b[0m (to assistant):\n",
      "\n",
      "\n",
      "\n",
      "--------------------------------------------------------------------------------\n",
      "\u001b[33massistant\u001b[0m (to user_proxy):\n",
      "\n",
      "It looks like everything regarding this task has been completed successfully.\n",
      "\n",
      "If you have any additional questions or tasks you'd like assistance with, feel free to ask. Otherwise, TERMINATE.\n",
      "\n",
      "--------------------------------------------------------------------------------\n"
     ]
    },
    {
     "data": {
      "text/plain": [
       "ChatResult(chat_id=None, chat_history=[{'content': 'Plot a chart of NVDA and TESLA stock price change YTD and save it under stock_price_change_ytd.png', 'role': 'assistant', 'name': 'user_proxy'}, {'content': \"To achieve this, we will follow these steps:\\n\\n1. Fetch the Year-to-Date (YTD) stock price data for NVDA (NVIDIA) and TSLA (Tesla) using an API such as Alpha Vantage or Yahoo Finance.\\n2. Process the data to calculate the price change percentage.\\n3. Plot the stock price change percentage and save it as an image file named `stock_price_change_ytd.png`.\\n\\nWe will use the `yfinance` library to fetch the stock data and `matplotlib` for plotting.\\n\\nHere is the Python code to accomplish this task:\\n\\n```python\\n# filename: stock_price_change_ytd.py\\n\\nimport yfinance as yf\\nimport matplotlib.pyplot as plt\\nimport datetime\\n\\n# Get the current date\\nend_date = datetime.datetime.now().date()\\n# Get the first trading day of the current year\\nstart_date = datetime.date(end_date.year, 1, 1)\\n\\n# Fetch the YTD stock data for NVDA and TSLA\\nnvda_data = yf.download('NVDA', start=start_date, end=end_date)\\ntsla_data = yf.download('TSLA', start=start_date, end=end_date)\\n\\n# Calculate the percentage change in stock price\\nnvda_price_change = ((nvda_data['Close'] / nvda_data['Close'].iloc[0]) - 1) * 100\\ntsla_price_change = ((tsla_data['Close'] / tsla_data['Close'].iloc[0]) - 1) * 100\\n\\n# Plot the stock price change\\nplt.figure(figsize=(10, 6))\\nplt.plot(nvda_data.index, nvda_price_change, label='NVDA')\\nplt.plot(tsla_data.index, tsla_price_change, label='TSLA')\\nplt.xlabel('Date')\\nplt.ylabel('Price Change %')\\nplt.title('Year-to-Date Stock Price Change for NVDA and TSLA')\\nplt.legend()\\nplt.grid(True)\\nplt.savefig('stock_price_change_ytd.png')\\nprint('Stock price change chart has been saved as stock_price_change_ytd.png.')\\n```\\n\\nPlease save the above code in a file named `stock_price_change_ytd.py` and execute it. This will fetch the stock data, process it, plot the chart, and save it as `stock_price_change_ytd.png`. Post the output here once executed.\", 'role': 'user', 'name': 'assistant'}, {'content': 'exitcode: 0 (execution succeeded)\\nCode output: \\n[*********************100%%**********************]  1 of 1 completed\\n\\n[*********************100%%**********************]  1 of 1 completed\\nStock price change chart has been saved as stock_price_change_ytd.png.\\n', 'role': 'assistant', 'name': 'user_proxy'}, {'content': 'Great! The execution was successful.\\n\\nThe chart showing the year-to-date stock price change for NVDA and TSLA has been saved as `stock_price_change_ytd.png`. \\n\\nYou should be able to find this image file in the directory where you ran the script.\\n\\nIf you have any more tasks or need further assistance, feel free to ask. TERMINATE.', 'role': 'user', 'name': 'assistant'}, {'content': '', 'role': 'assistant', 'name': 'user_proxy'}, {'content': 'It seems the task is complete and the chart has been generated successfully.\\n\\nIf you have any further tasks or questions, please let me know! TERMINATE.', 'role': 'user', 'name': 'assistant'}, {'content': '', 'role': 'assistant', 'name': 'user_proxy'}, {'content': \"It appears that there are no additional tasks or questions at this moment.\\n\\nIf you do have anything further you'd like assistance with, please feel free to let me know. TERMINATE.\", 'role': 'user', 'name': 'assistant'}, {'content': '', 'role': 'assistant', 'name': 'user_proxy'}, {'content': \"It looks like everything regarding this task has been completed successfully.\\n\\nIf you have any additional questions or tasks you'd like assistance with, feel free to ask. Otherwise, TERMINATE.\", 'role': 'user', 'name': 'assistant'}], summary=\"It looks like everything regarding this task has been completed successfully.\\n\\nIf you have any additional questions or tasks you'd like assistance with, feel free to ask. Otherwise, .\", cost={'usage_including_cached_inference': {'total_cost': 0.03492000000000001, 'gpt-4o-2024-05-13': {'cost': 0.03492000000000001, 'prompt_tokens': 5031, 'completion_tokens': 651, 'total_tokens': 5682}}, 'usage_excluding_cached_inference': {'total_cost': 0.03492000000000001, 'gpt-4o-2024-05-13': {'cost': 0.03492000000000001, 'prompt_tokens': 5031, 'completion_tokens': 651, 'total_tokens': 5682}}}, human_input=['', '', '', '', 'exit'])"
      ]
     },
     "execution_count": 8,
     "metadata": {},
     "output_type": "execute_result"
    }
   ],
   "source": [
    "user_proxy.initiate_chat(assistant, message=\"Plot a chart of NVDA and TESLA stock price change YTD and save it under stock_price_change_ytd.png\")"
   ]
  },
  {
   "cell_type": "code",
   "execution_count": 9,
   "metadata": {},
   "outputs": [
    {
     "data": {
      "image/png": "[encoded data removed]",
      "text/plain": [
       "<IPython.core.display.Image object>"
      ]
     },
     "execution_count": 9,
     "metadata": {},
     "output_type": "execute_result"
    }
   ],
   "source": [
    "from IPython.display import Image\n",
    "\n",
    "# Specify the path to the image file\n",
    "image_path = \"./coding/stock_price_change_ytd.png\"\n",
    "\n",
    "# Display the image\n",
    "Image(filename=image_path)"
   ]
  }
 ],
 "metadata": {
  "kernelspec": {
   "display_name": "oreilly-autogen",
   "language": "python",
   "name": "oreilly-autogen"
  },
  "language_info": {
   "codemirror_mode": {
    "name": "ipython",
    "version": 3
   },
   "file_extension": ".py",
   "mimetype": "text/x-python",
   "name": "python",
   "nbconvert_exporter": "python",
   "pygments_lexer": "ipython3",
   "version": "3.11.9"
  }
 },
 "nbformat": 4,
 "nbformat_minor": 2
}
