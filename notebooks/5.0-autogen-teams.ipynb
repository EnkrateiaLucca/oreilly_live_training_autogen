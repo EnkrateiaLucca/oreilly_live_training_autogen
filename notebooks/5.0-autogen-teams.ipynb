{
 "cells": [
  {
   "cell_type": "markdown",
   "id": "5ec8cb25",
   "metadata": {},
   "source": [
    "Here's a lesson on creating Multi-Agent Teams with AutoGen:\n",
    "\n",
    "# Creating Multi-Agent Teams with AutoGen\n",
    "\n",
    "## Setup"
   ]
  },
  {
   "cell_type": "code",
   "execution_count": null,
   "id": "a996a674",
   "metadata": {},
   "outputs": [],
   "source": [
    "import os\n",
    "import getpass\n",
    "\n",
    "def _set_env(var: str):\n",
    "    if not os.environ.get(var):\n",
    "        os.environ[var] = getpass.getpass(f\"{var}: \")\n",
    "\n",
    "_set_env(\"OPENAI_API_KEY\")"
   ]
  },
  {
   "cell_type": "markdown",
   "id": "44241873",
   "metadata": {},
   "source": [
    "## Introduction\n",
    "\n",
    "Multi-agent teams in AutoGen are groups of AI agents that collaborate to accomplish complex tasks. Teams provide structure for agent interactions and help coordinate their efforts effectively.\n",
    "\n",
    "## Basic Team Creation\n",
    "\n",
    "Let's create a simple team with two agents - a primary agent and a critic:"
   ]
  },
  {
   "cell_type": "code",
   "execution_count": null,
   "id": "535b8bda",
   "metadata": {},
   "outputs": [],
   "source": [
    "from autogen_agentchat.agents import AssistantAgent\n",
    "from autogen_agentchat.conditions import TextMentionTermination\n",
    "from autogen_agentchat.teams import RoundRobinGroupChat\n",
    "from autogen_ext.models.openai import OpenAIChatCompletionClient\n",
    "\n",
    "# Create model client\n",
    "model_client = OpenAIChatCompletionClient(\n",
    "    model=\"gpt-4-turbo-preview\"\n",
    ")\n",
    "\n",
    "# Create agents\n",
    "primary_agent = AssistantAgent(\n",
    "    \"primary\",\n",
    "    model_client=model_client,\n",
    "    system_message=\"You are a creative writer who writes engaging content.\"\n",
    ")\n",
    "\n",
    "critic_agent = AssistantAgent(\n",
    "    \"critic\", \n",
    "    model_client=model_client,\n",
    "    system_message=\"You provide constructive feedback on writing. Respond with 'APPROVE' when satisfied.\"\n",
    ")\n",
    "\n",
    "# Create termination condition\n",
    "termination = TextMentionTermination(\"APPROVE\")\n",
    "\n",
    "# Create team\n",
    "team = RoundRobinGroupChat(\n",
    "    [primary_agent, critic_agent],\n",
    "    termination_condition=termination\n",
    ")"
   ]
  },
  {
   "cell_type": "markdown",
   "id": "c8ff297e",
   "metadata": {},
   "source": [
    "## Running the Team\n",
    "\n",
    "There are two main ways to run a team:\n",
    "\n",
    "### 1. Basic Run"
   ]
  },
  {
   "cell_type": "code",
   "execution_count": null,
   "id": "0d767380",
   "metadata": {},
   "outputs": [],
   "source": [
    "# Run team synchronously\n",
    "result = await team.run(task=\"Write a short story about a magical forest.\")"
   ]
  },
  {
   "cell_type": "markdown",
   "id": "6558ed69",
   "metadata": {},
   "source": [
    "### 2. Streaming Run"
   ]
  },
  {
   "cell_type": "code",
   "execution_count": null,
   "id": "4b295815",
   "metadata": {},
   "outputs": [],
   "source": [
    "# Stream messages as they're generated\n",
    "async for message in team.run_stream(task=\"Write a short story about a magical forest.\"):\n",
    "    if isinstance(message, TaskResult):\n",
    "        print(f\"Task completed: {message.stop_reason}\")\n",
    "    else:\n",
    "        print(f\"{message.source}: {message.content}\")"
   ]
  },
  {
   "cell_type": "markdown",
   "id": "1deee231",
   "metadata": {},
   "source": [
    "## Team Types\n",
    "\n",
    "AutoGen provides several team types for different use cases:\n",
    "\n",
    "### 1. RoundRobinGroupChat\n",
    "Agents take turns in a fixed order. Good for structured discussions."
   ]
  },
  {
   "cell_type": "code",
   "execution_count": null,
   "id": "017e1a86",
   "metadata": {},
   "outputs": [],
   "source": [
    "team = RoundRobinGroupChat(\n",
    "    [agent1, agent2, agent3],\n",
    "    termination_condition=termination\n",
    ")"
   ]
  },
  {
   "cell_type": "markdown",
   "id": "4d79725f",
   "metadata": {},
   "source": [
    "### 2. SelectorGroupChat \n",
    "Uses an AI model to dynamically choose the next speaker based on context."
   ]
  },
  {
   "cell_type": "code",
   "execution_count": null,
   "id": "a8725902",
   "metadata": {},
   "outputs": [],
   "source": [
    "team = SelectorGroupChat(\n",
    "    participants=[agent1, agent2, agent3],\n",
    "    model_client=model_client,\n",
    "    termination_condition=termination\n",
    ")"
   ]
  },
  {
   "cell_type": "markdown",
   "id": "656bb065",
   "metadata": {},
   "source": [
    "### 3. Swarm\n",
    "Agents communicate through explicit handoffs, allowing targeted interactions."
   ]
  },
  {
   "cell_type": "code",
   "execution_count": null,
   "id": "bf170da5",
   "metadata": {},
   "outputs": [],
   "source": [
    "team = Swarm(\n",
    "    [agent1, agent2],\n",
    "    termination_condition=termination\n",
    ")"
   ]
  },
  {
   "cell_type": "markdown",
   "id": "3773e858",
   "metadata": {},
   "source": [
    "## Team Control\n",
    "\n",
    "### Stopping a Team\n",
    "Use ExternalTermination to stop a team from outside:"
   ]
  },
  {
   "cell_type": "code",
   "execution_count": null,
   "id": "699d5045",
   "metadata": {},
   "outputs": [],
   "source": [
    "from autogen_agentchat.conditions import ExternalTermination\n",
    "\n",
    "external_termination = ExternalTermination()\n",
    "team = RoundRobinGroupChat(\n",
    "    [agent1, agent2],\n",
    "    termination_condition=external_termination\n",
    ")\n",
    "\n",
    "# Run team in background\n",
    "task = asyncio.create_task(team.run(task=\"Some task\"))\n",
    "\n",
    "# Stop team after some condition\n",
    "await asyncio.sleep(5)\n",
    "external_termination.set()"
   ]
  },
  {
   "cell_type": "markdown",
   "id": "99841631",
   "metadata": {},
   "source": [
    "### Resetting a Team\n",
    "Reset team state between different tasks:"
   ]
  },
  {
   "cell_type": "code",
   "execution_count": null,
   "id": "24ba05ab",
   "metadata": {},
   "outputs": [],
   "source": [
    "await team.reset()"
   ]
  },
  {
   "cell_type": "markdown",
   "id": "e9f058d9",
   "metadata": {},
   "source": [
    "### Resuming a Team\n",
    "Continue previous conversation:"
   ]
  },
  {
   "cell_type": "code",
   "execution_count": null,
   "id": "8ba7bfd9",
   "metadata": {},
   "outputs": [],
   "source": [
    "# First run\n",
    "await team.run(task=\"Start a story about space exploration\")\n",
    "\n",
    "# Continue the conversation\n",
    "await team.run(task=\"Add a plot twist to the story\")"
   ]
  },
  {
   "cell_type": "markdown",
   "id": "d68875d4",
   "metadata": {},
   "source": [
    "## Best Practices\n",
    "\n",
    "1. Choose the right team type for your use case:\n",
    "   - RoundRobinGroupChat for structured, turn-based interactions\n",
    "   - SelectorGroupChat for dynamic, context-aware speaker selection\n",
    "   - Swarm for explicit handoffs between agents\n",
    "\n",
    "2. Use appropriate termination conditions:\n",
    "   - TextMentionTermination for keyword-based stopping\n",
    "   - MaxMessageTermination for limiting conversation length\n",
    "   - ExternalTermination for manual control\n",
    "\n",
    "3. Reset teams between unrelated tasks to clear conversation history\n",
    "\n",
    "4. Use streaming for real-time monitoring of team interactions\n",
    "\n",
    "5. Start with simple teams and add complexity as needed\n",
    "\n",
    "Remember that teams add overhead compared to single agents, so use them only when the task complexity justifies multi-agent collaboration."
   ]
  }
 ],
 "metadata": {
  "language_info": {
   "name": "python"
  }
 },
 "nbformat": 4,
 "nbformat_minor": 5
}
