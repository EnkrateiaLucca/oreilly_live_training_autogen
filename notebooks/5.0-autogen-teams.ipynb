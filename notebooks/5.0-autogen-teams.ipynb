{
 "cells": [
  {
   "cell_type": "markdown",
   "id": "5ec8cb25",
   "metadata": {},
   "source": [
    "Here's a lesson on creating Multi-Agent Teams with AutoGen:\n",
    "\n",
    "# Creating Multi-Agent Teams with AutoGen\n",
    "\n",
    "## Setup"
   ]
  },
  {
   "cell_type": "code",
   "execution_count": 29,
   "id": "a996a674",
   "metadata": {},
   "outputs": [],
   "source": [
    "import os\n",
    "import getpass\n",
    "\n",
    "def _set_env(var: str):\n",
    "    if not os.environ.get(var):\n",
    "        os.environ[var] = getpass.getpass(f\"{var}: \")\n",
    "\n",
    "_set_env(\"OPENAI_API_KEY\")"
   ]
  },
  {
   "cell_type": "code",
   "execution_count": 30,
   "id": "4e58eadf",
   "metadata": {},
   "outputs": [
    {
     "name": "stdout",
     "output_type": "stream",
     "text": [
      "Async environment configured for Jupyter.\n"
     ]
    }
   ],
   "source": [
    "try:\n",
    "    import nest_asyncio\n",
    "    nest_asyncio.apply()\n",
    "    print(\"Async environment configured for Jupyter.\")\n",
    "except ImportError:\n",
    "    print(\"Please install nest_asyncio with `pip install nest_asyncio`\")"
   ]
  },
  {
   "cell_type": "markdown",
   "id": "44241873",
   "metadata": {},
   "source": [
    "## Introduction\n",
    "\n",
    "Multi-agent teams in AutoGen are groups of AI agents that collaborate to accomplish complex tasks. Teams provide structure for agent interactions and help coordinate their efforts effectively.\n",
    "\n",
    "## Basic Team Creation\n",
    "\n",
    "Let's create a simple team with two agents - a primary agent and a critic:"
   ]
  },
  {
   "cell_type": "markdown",
   "id": "32aa0301",
   "metadata": {},
   "source": [
    "Basic `RoundRobinChat`:\n",
    "\n",
    "\"A team that runs a group chat with participants taking turns in a round-robin fashion to publish a message to all.\n",
    "\n",
    "If a single participant is in the team, the participant will be the only speaker.\""
   ]
  },
  {
   "cell_type": "code",
   "execution_count": 31,
   "id": "535b8bda",
   "metadata": {},
   "outputs": [],
   "source": [
    "from autogen_agentchat.agents import AssistantAgent\n",
    "from autogen_agentchat.conditions import TextMentionTermination\n",
    "from autogen_agentchat.teams import RoundRobinGroupChat\n",
    "from autogen_ext.models.openai import OpenAIChatCompletionClient\n",
    "\n",
    "# Create model client\n",
    "model_client = OpenAIChatCompletionClient(\n",
    "    model=\"gpt-4o-mini\"\n",
    ")\n",
    "\n",
    "# Create agents\n",
    "primary_agent = AssistantAgent(\n",
    "    \"primary\",\n",
    "    model_client=model_client,\n",
    "    system_message=\"You are a creative writer who writes engaging content.\"\n",
    ")\n",
    "\n",
    "critic_agent = AssistantAgent(\n",
    "    \"critic\", \n",
    "    model_client=model_client,\n",
    "    system_message=\"You provide constructive feedback on writing. Respond with 'APPROVE' when satisfied.\"\n",
    ")\n",
    "\n",
    "# Create termination condition\n",
    "termination = TextMentionTermination(\"APPROVE\")\n",
    "\n",
    "# Create team\n",
    "team = RoundRobinGroupChat(\n",
    "    [primary_agent, critic_agent],\n",
    "    termination_condition=termination\n",
    ")"
   ]
  },
  {
   "cell_type": "markdown",
   "id": "c8ff297e",
   "metadata": {},
   "source": [
    "## Running the Team\n",
    "\n",
    "There are two main ways to run a team:\n",
    "\n",
    "### 1. Basic Run"
   ]
  },
  {
   "cell_type": "code",
   "execution_count": 32,
   "id": "0d767380",
   "metadata": {},
   "outputs": [
    {
     "data": {
      "text/plain": [
       "TaskResult(messages=[TextMessage(source='user', models_usage=None, content='Write a short story about a magical forest.', type='TextMessage'), TextMessage(source='primary', models_usage=RequestUsage(prompt_tokens=31, completion_tokens=879), content=\"In a faraway land, nestled between the serrated peaks of the Drakenshire mountains, lay a forest shrouded in mist and mystery. This was Eldergrove, a magical realm where time twisted like the gnarled roots of the ancient oaks that dominated its landscape. Legends whispered among village folk spoke of trees that could grant wishes, streams that sang lullabies, and creatures that glimmered like stars under the moonlit sky.\\n\\nOne crisp morning, as dawn broke and painted the sky in strokes of amber and rose, a curious girl named Elara ventured into Eldergrove. Unbeknownst to her, this was no ordinary day; it was the Harvest Moon Festival, a time when the forest’s magic pulsed strongest and the air thrummed with enchantment.\\n\\nElara had heard tales of the forest's wonders from her grandmother, who often warned of its treacherous beauty. “Within its depths, dear child, lies both delight and danger,” she would say, her voice woven with caution. But like any spirited young girl, Elara’s curiosity outweighed her fears.\\n\\nAs she stepped beneath the towering canopy, the world transformed. Sunbeams filtered through the leaves, sparkling like gold dust, and the air was perfumed with wildflowers and the fresh scent of earth. Elara felt the heartbeat of the forest quicken, and her heart danced with exhilaration.\\n\\nWandering further, she discovered a shimmering brook that babbled secrets as it wound its way through the trees. Kneeling beside it, she saw her reflection, but it was not just her own. Her image flickered, revealing glimpses of ethereal beings—fairies with wings like spun glass. They played beneath the surface, weaving spells of laughter and joy.\\n\\n“Wish upon the waters, dear one,” chimed a voice infused with melodic warmth.\\n\\nStartled, Elara straightened, glancing around to find a flickering, golden fairy hovering nearby. “What do you desire most?” the fairy continued, her wings shimmering in the dappled light.\\n\\nElara thought of all the wishes she could make—the grand adventures, the dazzling treasures. But as she closed her eyes, she remembered her grandmother’s tales about the balance of nature. “I wish to understand your world,” she uttered softly. “To learn the stories of the trees, the songs of the streams, and the wisdom of the creatures that call this forest home.”\\n\\nThe fairy smiled, her eyes twinkling like stars. “A rare wish, indeed. Hold tight to your heart, for the forest’s secrets are not always free.”\\n\\nIn an instant, a warm light enveloped Elara. She felt herself expanding, her senses heightening. It was as if she had become one with the forest. She could hear the whispers of the leaves, the soft murmur of the roots burrowing deep into the earth, and the distant echoes of laughter from other magical beings hidden within the trees.\\n\\nDays merged into nights as Elara roamed the forest, learning from the creatures who scampered through the underbrush and the wise old trees that spoke of ages past. She discovered how each blossom contributed to nature’s symphony, and how every whisper of wind carried messages between the realms of magic and reality.\\n\\nAs the Harvest Moon reached its zenith, casting a luminous glow over Eldergrove, Elara stood at the heart of the forest, her heart brimming with knowledge and gratitude. It was then that she understood the true magic of Eldergrove—it was not just in the grand spells or dazzling illusions, but in the connection to all living things.\\n\\nWhen Elara finally returned to her village, she carried with her the heart of the forest—a spark of magic that would never fade. She shared her tales not with grand gestures, but through the simple act of storytelling, weaving the essence of Eldergrove into the lives of everyone around her. And though the forest remained shrouded in mystery, its magic was no longer a secret; it thrived in the hearts of those who listened to nature’s whispers, inviting them to dance with possibility and to cherish the world in all its enchanting forms. \\n\\nAnd so, the stories of Eldergrove continued to flourish like the wildflowers in spring, a living testament to the magic that resides within us all.\", type='TextMessage'), TextMessage(source='critic', models_usage=RequestUsage(prompt_tokens=923, completion_tokens=4), content='APPROVE', type='TextMessage')], stop_reason=\"Text 'APPROVE' mentioned\")"
      ]
     },
     "execution_count": 32,
     "metadata": {},
     "output_type": "execute_result"
    }
   ],
   "source": [
    "# Run team synchronously\n",
    "result = await team.run(task=\"Write a short story about a magical forest.\")\n",
    "result"
   ]
  },
  {
   "cell_type": "code",
   "execution_count": 33,
   "id": "1b7314ca",
   "metadata": {},
   "outputs": [
    {
     "data": {
      "text/plain": [
       "[TextMessage(source='user', models_usage=None, content='Write a short story about a magical forest.', type='TextMessage'),\n",
       " TextMessage(source='primary', models_usage=RequestUsage(prompt_tokens=31, completion_tokens=879), content=\"In a faraway land, nestled between the serrated peaks of the Drakenshire mountains, lay a forest shrouded in mist and mystery. This was Eldergrove, a magical realm where time twisted like the gnarled roots of the ancient oaks that dominated its landscape. Legends whispered among village folk spoke of trees that could grant wishes, streams that sang lullabies, and creatures that glimmered like stars under the moonlit sky.\\n\\nOne crisp morning, as dawn broke and painted the sky in strokes of amber and rose, a curious girl named Elara ventured into Eldergrove. Unbeknownst to her, this was no ordinary day; it was the Harvest Moon Festival, a time when the forest’s magic pulsed strongest and the air thrummed with enchantment.\\n\\nElara had heard tales of the forest's wonders from her grandmother, who often warned of its treacherous beauty. “Within its depths, dear child, lies both delight and danger,” she would say, her voice woven with caution. But like any spirited young girl, Elara’s curiosity outweighed her fears.\\n\\nAs she stepped beneath the towering canopy, the world transformed. Sunbeams filtered through the leaves, sparkling like gold dust, and the air was perfumed with wildflowers and the fresh scent of earth. Elara felt the heartbeat of the forest quicken, and her heart danced with exhilaration.\\n\\nWandering further, she discovered a shimmering brook that babbled secrets as it wound its way through the trees. Kneeling beside it, she saw her reflection, but it was not just her own. Her image flickered, revealing glimpses of ethereal beings—fairies with wings like spun glass. They played beneath the surface, weaving spells of laughter and joy.\\n\\n“Wish upon the waters, dear one,” chimed a voice infused with melodic warmth.\\n\\nStartled, Elara straightened, glancing around to find a flickering, golden fairy hovering nearby. “What do you desire most?” the fairy continued, her wings shimmering in the dappled light.\\n\\nElara thought of all the wishes she could make—the grand adventures, the dazzling treasures. But as she closed her eyes, she remembered her grandmother’s tales about the balance of nature. “I wish to understand your world,” she uttered softly. “To learn the stories of the trees, the songs of the streams, and the wisdom of the creatures that call this forest home.”\\n\\nThe fairy smiled, her eyes twinkling like stars. “A rare wish, indeed. Hold tight to your heart, for the forest’s secrets are not always free.”\\n\\nIn an instant, a warm light enveloped Elara. She felt herself expanding, her senses heightening. It was as if she had become one with the forest. She could hear the whispers of the leaves, the soft murmur of the roots burrowing deep into the earth, and the distant echoes of laughter from other magical beings hidden within the trees.\\n\\nDays merged into nights as Elara roamed the forest, learning from the creatures who scampered through the underbrush and the wise old trees that spoke of ages past. She discovered how each blossom contributed to nature’s symphony, and how every whisper of wind carried messages between the realms of magic and reality.\\n\\nAs the Harvest Moon reached its zenith, casting a luminous glow over Eldergrove, Elara stood at the heart of the forest, her heart brimming with knowledge and gratitude. It was then that she understood the true magic of Eldergrove—it was not just in the grand spells or dazzling illusions, but in the connection to all living things.\\n\\nWhen Elara finally returned to her village, she carried with her the heart of the forest—a spark of magic that would never fade. She shared her tales not with grand gestures, but through the simple act of storytelling, weaving the essence of Eldergrove into the lives of everyone around her. And though the forest remained shrouded in mystery, its magic was no longer a secret; it thrived in the hearts of those who listened to nature’s whispers, inviting them to dance with possibility and to cherish the world in all its enchanting forms. \\n\\nAnd so, the stories of Eldergrove continued to flourish like the wildflowers in spring, a living testament to the magic that resides within us all.\", type='TextMessage'),\n",
       " TextMessage(source='critic', models_usage=RequestUsage(prompt_tokens=923, completion_tokens=4), content='APPROVE', type='TextMessage')]"
      ]
     },
     "execution_count": 33,
     "metadata": {},
     "output_type": "execute_result"
    }
   ],
   "source": [
    "result.messages"
   ]
  },
  {
   "cell_type": "markdown",
   "id": "6558ed69",
   "metadata": {},
   "source": [
    "### 2. Streaming Run"
   ]
  },
  {
   "cell_type": "code",
   "execution_count": 34,
   "id": "4b295815",
   "metadata": {},
   "outputs": [
    {
     "name": "stdout",
     "output_type": "stream",
     "text": [
      "user: Write a short story about a magical forest.\n",
      "primary: In a realm that existed just beyond the rim of reality, there lay the Whispering Woods. This forest was cloaked in an aura of enchantment, with trees towering towards the heavens, their trunks spiraled like ancient staircases, and their leaves shimmering with iridescent colors that changed with the time of day. At dawn, they glowed an ethereal gold; at midday, they burned a brilliant emerald; and at twilight, they blushed with shades of rose and lavender.\n",
      "\n",
      "Among those who had heard of the Whispering Woods was a young boy named Finn. He had always been entranced by the stories told by the elders of his village—a place where wishes could bloom like flowers and where the air sparkled with possibility. Yet, these tales came with a warning: the woods were not merely a place of beauty; they were alive, and they could be fickle.\n",
      "\n",
      "One fateful afternoon, driven by an insatiable curiosity, Finn decided to seek out the forest himself. As he crossed the threshold into the woods, the world behind him faded away, replaced by a tapestry of greens and blues that promised both adventure and mystery. Here, sunlight danced through the foliage, crafting intricate patterns on the soft moss-covered ground.\n",
      "\n",
      "Finn wandered deeper, enchanted by the symphony of chirping birds and the gentle rustle of leaves. Suddenly, he stumbled upon a clearing where a solitary tree stood, its trunk enormous and gnarled, its branches twisting like the hands of a clock. A silver glittering mist curled around its roots, and at its base lay a cluster of pure white flowers that seemed to hum with a soft melody.\n",
      "\n",
      "Drawn to the blossoms, Finn knelt beside them. He had heard that the Whispering Woods held a secret: if someone truly needed something, they could wish upon the Heartblossom, the rare flower growing at the foot of the ancient tree. With a deep breath, Finn closed his eyes and whispered his wish: “I want to bring joy to my village.”\n",
      "\n",
      "As soon as the words left his lips, a breeze swept through the clearing, lifting the petals of the Heartblossom into the air. They shimmered, swirling around him before suddenly being engulfed in a gentle light. Finn watched in awe as the glow enveloped him, and suddenly, he found himself filled with a warmth he had never known, a feeling as if laughter danced in his heart.\n",
      "\n",
      "“Go forth, young one!” a voice echoed softly, seemingly emanating from the very air around him. “Let your joy spread as freely as the wind!”\n",
      "\n",
      "With a newfound spirit, Finn ran back through the forest, the light still shimmering in his chest. As he reached the boundary of his village, he carried the energy of the woods within him, acknowledging the laughter that awaited him.\n",
      "\n",
      "From that day on, he became a beacon of joy in the village. He organized festivals where laughter rang through the streets, filled homes with music, and gathered friends for storytelling evenings under the stars. With each joyous moment he created, the villagers began to remember that happiness was a treasure worth seeking, and soon their lives were enriched with the carefree spirit they had long forgotten.\n",
      "\n",
      "Unbeknownst to them, the magic of the Whispering Woods resonated in every laugh, every song, and every shared moment. The ancient tree continued to watch over Finn, knowing that the true magic of the forest was not just in granting wishes but in nurturing the seeds of joy that lay within each heart.\n",
      "\n",
      "And so, the Whispering Woods remained a timeless treasure, a magical realm of wonder where dreams and laughter intertwined, reminding all who entered that kindness and joy could turn the most ordinary moments into extraordinary memories. As long as the Heartblossom bloomed at the base of the ancient tree, joy would flourish—not just in the woods, but in the hearts of all who dared to wish.\n",
      "critic: APPROVE\n",
      "Task completed: Text 'APPROVE' mentioned\n"
     ]
    }
   ],
   "source": [
    "from autogen_agentchat.base import TaskResult\n",
    "\n",
    "# Stream messages as they're generated\n",
    "async for message in team.run_stream(task=\"Write a short story about a magical forest.\"):\n",
    "    if isinstance(message, TaskResult):\n",
    "        print(f\"Task completed: {message.stop_reason}\")\n",
    "    else:\n",
    "        print(f\"{message.source}: {message.content}\")"
   ]
  },
  {
   "cell_type": "markdown",
   "id": "1deee231",
   "metadata": {},
   "source": [
    "## Team Types\n",
    "\n",
    "AutoGen provides several team types for different use cases:\n",
    "\n",
    "### 1. RoundRobinGroupChat\n",
    "Agents take turns in a fixed order. Good for structured discussions."
   ]
  },
  {
   "cell_type": "code",
   "execution_count": 5,
   "id": "017e1a86",
   "metadata": {},
   "outputs": [
    {
     "data": {
      "text/plain": [
       "TaskResult(messages=[TextMessage(source='user', models_usage=None, content='Write 3 jokes about the tragedy of life.', type='TextMessage'), TextMessage(source='Writer', models_usage=RequestUsage(prompt_tokens=28, completion_tokens=123), content='Sure! Here are three jokes that touch on the tragedy of life with a humorous twist:\\n\\n1. Why did the nihilist refuse to play cards?\\n   Because he couldn\\'t deal with the hand life dealt him!\\n\\n2. Life is like a rollercoaster—full of ups and downs. \\n   But nobody warned me it would leave me feeling queasy and screaming the whole way!\\n\\n3. They say life is a journey, but mine feels more like a GPS with no signal— \\n   always making wrong turns and asking if I want to reroute to \"disappointment\"!\\n\\nHope you enjoyed these!', type='TextMessage'), TextMessage(source='Editor', models_usage=RequestUsage(prompt_tokens=167, completion_tokens=4), content='APPROVE', type='TextMessage')], stop_reason=\"Text 'APPROVE' mentioned\")"
      ]
     },
     "execution_count": 5,
     "metadata": {},
     "output_type": "execute_result"
    }
   ],
   "source": [
    "agent1 = AssistantAgent(\n",
    "    \"Writer\",\n",
    "    model_client=model_client,\n",
    "    system_message=\"You are a helpful assistant.\"\n",
    ")\n",
    "\n",
    "agent2 = AssistantAgent(\n",
    "    \"Editor\",\n",
    "    model_client=model_client,\n",
    "    system_message=\"You provide constructive feedback on writing. Respond with 'APPROVE' when satisfied.\"\n",
    ")\n",
    "\n",
    "team = RoundRobinGroupChat(\n",
    "    [agent1, agent2],\n",
    "    termination_condition=termination\n",
    ")\n",
    "\n",
    "output = await team.run(task=\"Write 3 jokes about the tragedy of life.\")\n",
    "output"
   ]
  },
  {
   "cell_type": "code",
   "execution_count": 18,
   "id": "93e18bd2",
   "metadata": {},
   "outputs": [
    {
     "name": "stderr",
     "output_type": "stream",
     "text": [
      "/var/folders/5l/y8s3fc655417629rqwgxkhx80000gn/T/ipykernel_95302/4079043465.py:10: RuntimeWarning: coroutine 'BaseGroupChat.run' was never awaited\n",
      "  output = await team.run(task=\"Write 3 jokes about the tragedy of life.\")\n",
      "RuntimeWarning: Enable tracemalloc to get the object allocation traceback\n"
     ]
    },
    {
     "data": {
      "text/plain": [
       "TaskResult(messages=[TextMessage(source='user', models_usage=None, content='Write 3 jokes about the tragedy of life.', type='TextMessage'), TextMessage(source='Writer', models_usage=RequestUsage(prompt_tokens=653, completion_tokens=119), content='Sure, here are three fresh jokes about the tragedy of life:\\n\\n1. Why did life bring a ladder to the bar?\\n   Because it wanted to help everyone reach new heights... only to remind them it\\'s all downhill from there!\\n\\n2. I asked my friend how he deals with the tragedies of life.\\n   He said, \"I just pretend it’s all a plot twist in a sitcom. I keep waiting for the laugh track!\"\\n\\n3. Life is like a game of chess: full of strategies and sacrifices, but at the end of the day, everyone just seems to lose their queen!', type='TextMessage'), TextMessage(source='Editor', models_usage=RequestUsage(prompt_tokens=903, completion_tokens=207), content='The new jokes you crafted have some clever ideas, but they could use a bit more punch to truly shine. Here’s my feedback:\\n\\n1. The ladder and bar setup is amusing, but the punchline about it being \"all downhill from there\" feels a bit common. A more unique twist might enhance its impact.\\n\\n2. The idea of treating life\\'s tragedies like a sitcom is relatable, but it could benefit from a stronger punchline. The mention of the laugh track is nice, but it might be more effective with a more unexpected or vivid image.\\n\\n3. The chess analogy is inventive, and it captures the essence of life\\'s struggles nicely. However, the punchline about losing the queen might need more flair or a twist that resonates better. A different aspect of the game could be highlighted for a stronger connection.\\n\\nOverall, while these jokes have potential, they’re currently hovering around the mid-range for humor. I\\'d give them a score of 5. They would be improved with clearer setups and punchlines for greater comedic effect!', type='TextMessage')], stop_reason='Maximum number of messages 3 reached, current message count: 3')"
      ]
     },
     "execution_count": 18,
     "metadata": {},
     "output_type": "execute_result"
    }
   ],
   "source": [
    "from autogen_agentchat.conditions import MaxMessageTermination\n",
    "\n",
    "termination = MaxMessageTermination(max_messages=3)\n",
    "\n",
    "team = RoundRobinGroupChat(\n",
    "    [agent1, agent2],\n",
    "    termination_condition=termination\n",
    ")\n",
    "\n",
    "output = await team.run(task=\"Write 3 jokes about the tragedy of life.\")\n",
    "output"
   ]
  },
  {
   "cell_type": "code",
   "execution_count": 19,
   "id": "fe37c1b8",
   "metadata": {},
   "outputs": [
    {
     "data": {
      "text/plain": [
       "[TextMessage(source='user', models_usage=None, content='Write 3 jokes about the tragedy of life.', type='TextMessage'),\n",
       " TextMessage(source='Writer', models_usage=RequestUsage(prompt_tokens=653, completion_tokens=119), content='Sure, here are three fresh jokes about the tragedy of life:\\n\\n1. Why did life bring a ladder to the bar?\\n   Because it wanted to help everyone reach new heights... only to remind them it\\'s all downhill from there!\\n\\n2. I asked my friend how he deals with the tragedies of life.\\n   He said, \"I just pretend it’s all a plot twist in a sitcom. I keep waiting for the laugh track!\"\\n\\n3. Life is like a game of chess: full of strategies and sacrifices, but at the end of the day, everyone just seems to lose their queen!', type='TextMessage'),\n",
       " TextMessage(source='Editor', models_usage=RequestUsage(prompt_tokens=903, completion_tokens=207), content='The new jokes you crafted have some clever ideas, but they could use a bit more punch to truly shine. Here’s my feedback:\\n\\n1. The ladder and bar setup is amusing, but the punchline about it being \"all downhill from there\" feels a bit common. A more unique twist might enhance its impact.\\n\\n2. The idea of treating life\\'s tragedies like a sitcom is relatable, but it could benefit from a stronger punchline. The mention of the laugh track is nice, but it might be more effective with a more unexpected or vivid image.\\n\\n3. The chess analogy is inventive, and it captures the essence of life\\'s struggles nicely. However, the punchline about losing the queen might need more flair or a twist that resonates better. A different aspect of the game could be highlighted for a stronger connection.\\n\\nOverall, while these jokes have potential, they’re currently hovering around the mid-range for humor. I\\'d give them a score of 5. They would be improved with clearer setups and punchlines for greater comedic effect!', type='TextMessage')]"
      ]
     },
     "execution_count": 19,
     "metadata": {},
     "output_type": "execute_result"
    }
   ],
   "source": [
    "output.messages"
   ]
  },
  {
   "cell_type": "code",
   "execution_count": 21,
   "id": "82847297",
   "metadata": {},
   "outputs": [
    {
     "data": {
      "text/plain": [
       "TaskResult(messages=[TextMessage(source='user', models_usage=None, content='Write a short poem about the fall season.', type='TextMessage'), TextMessage(source='primary', models_usage=RequestUsage(prompt_tokens=2037, completion_tokens=162), content=\"In whispered hues of amber light,  \\nThe trees don cloaks of gold and rust,  \\nAs breezes dance in soft delight,  \\nAnd leaves fall gently, drifted dust.  \\n\\nCrisp air wraps the world, a tender sigh,  \\nPumpkin patches glow in twilight's embrace,  \\nClouds of mist drift low, like dreams that fly,  \\nAs harvest moons illuminate the space.  \\n\\nNature's palette, a vibrant show,  \\nWith chilly nights and warm fires' glow,  \\nIn every rustle, the seasons weave,  \\nA tapestry of memories, dreams conceived.  \\n\\nSo let us wander through this golden maze,  \\nWhere time slows down in autumn’s gaze,  \\nWith hearts aglow and spirits free,  \\nIn fall's sweet magic, we find the key.  \", type='TextMessage')], stop_reason='External termination requested')"
      ]
     },
     "execution_count": 21,
     "metadata": {},
     "output_type": "execute_result"
    }
   ],
   "source": [
    "# Create a new team with an external termination condition.\n",
    "from autogen_agentchat.conditions import ExternalTermination\n",
    "from autogen_agentchat.ui import Console\n",
    "import asyncio\n",
    "\n",
    "text_termination = TextMentionTermination(\"APPROVE\")\n",
    "external_termination = ExternalTermination()\n",
    "team = RoundRobinGroupChat(\n",
    "    [primary_agent, critic_agent],\n",
    "    termination_condition=external_termination | text_termination,  # Use the bitwise OR operator to combine conditions.\n",
    ")\n",
    "\n",
    "# Run the team in a background task.\n",
    "run = asyncio.create_task(Console(team.run_stream(task=\"Write a short poem about the fall season.\")))\n",
    "\n",
    "# Wait for some time.\n",
    "await asyncio.sleep(0.1)\n",
    "\n",
    "# Stop the team.\n",
    "external_termination.set()\n",
    "\n",
    "# Wait for the team to finish.\n",
    "await run"
   ]
  },
  {
   "cell_type": "markdown",
   "id": "78d4c6ac",
   "metadata": {},
   "source": [
    "# SelectorGroupChat \n",
    "[`SelectorGroupChat`](https://microsoft.github.io/autogen/stable/reference/python/autogen_agentchat.teams.html#autogen_agentchat.teams.SelectorGroupChat) is a group chat that uses an AI model to intelligently choose the next speaker based on context.\n",
    "\n",
    " How it works:\n",
    " - When given a task via run() or run_stream():\n",
    "   1. The model analyzes conversation history and agent profiles to pick the next speaker\n",
    "   2. Selected agent provides a response that's shared with all participants \n",
    "   3. Process repeats until termination condition is met\n",
    "\n",
    " Key features:\n",
    " - By default, prevents same speaker twice in a row (override with allow_repeated_speaker=True)\n",
    " - Can use custom selection function instead of default model\n",
    " - Maintains conversation context between tasks\n",
    " - Call reset() to clear conversation history\n",
    " - Returns TaskResult with full conversation when complete"
   ]
  },
  {
   "cell_type": "markdown",
   "id": "4d79725f",
   "metadata": {},
   "source": [
    "### 2. SelectorGroupChat \n",
    "Uses an AI model to dynamically choose the next speaker based on context."
   ]
  },
  {
   "cell_type": "code",
   "execution_count": 26,
   "id": "a8725902",
   "metadata": {},
   "outputs": [],
   "source": [
    "from autogen_agentchat.teams import SelectorGroupChat\n",
    "\n",
    "termination =TextMentionTermination(\"APPROVE\")\n",
    "\n",
    "agent1 = AssistantAgent(\n",
    "    \"Writer\",\n",
    "    model_client=model_client,\n",
    "    system_message=\"You are a creative joke writer.\"\n",
    ")\n",
    "\n",
    "agent2 = AssistantAgent(\n",
    "    \"Editor\",\n",
    "    model_client=model_client,\n",
    "    system_message=\"You take in the score from the Ranker and provide feedback on the jokes in case they are below 5, if not you return with 'APPROVE'.\"\n",
    ")\n",
    "\n",
    "agent3 = AssistantAgent(\n",
    "    \"Ranker\",\n",
    "    model_client=model_client,\n",
    "    system_message=\"You rank the quality of the jokes, giving an overall score from 1 to 10.\"\n",
    ")\n",
    "\n",
    "team = SelectorGroupChat(\n",
    "    participants=[agent1, agent2, agent3],\n",
    "    model_client=model_client,\n",
    "    termination_condition=termination\n",
    ")"
   ]
  },
  {
   "cell_type": "code",
   "execution_count": 27,
   "id": "a158a620",
   "metadata": {},
   "outputs": [],
   "source": [
    "output = await team.run(task=\"Write 3 jokes about the tragedy of life.\")"
   ]
  },
  {
   "cell_type": "code",
   "execution_count": 28,
   "id": "453a15be",
   "metadata": {},
   "outputs": [
    {
     "data": {
      "text/plain": [
       "[TextMessage(source='user', models_usage=None, content='Write 3 jokes about the tragedy of life.', type='TextMessage'),\n",
       " TextMessage(source='Writer', models_usage=RequestUsage(prompt_tokens=29, completion_tokens=150), content='Sure, here are three jokes that touch on the tragedy of life with a humorous twist:\\n\\n1. **Why did the existential philosopher bring a ladder to therapy?**  \\n   Because he wanted to reach higher understanding, but all he got was stuck in the same old rungs of despair!\\n\\n2. **What did the pessimistic comedian say after his set?**  \\n   “Life is like a bad punchline—everyone saw it coming, but we still have to laugh to keep from crying!”\\n\\n3. **Why did the soul bring a GPS to its midlife crisis?**  \\n   Because it got lost in the tragic journey of life and figured it might need directions to happiness—turns out, every route was a detour!', type='TextMessage'),\n",
       " TextMessage(source='Editor', models_usage=RequestUsage(prompt_tokens=210, completion_tokens=81), content='These jokes offer a clever twist on the theme of life\\'s tragedies while maintaining a lighthearted tone. Here’s the score:\\n\\n1. Score: 6 - APPROVE\\n2. Score: 7 - APPROVE\\n3. Score: 5 - APPROVE\\n\\nAll jokes are above 5, so they get the \"APPROVE\" seal! Great job blending humor with deep themes!', type='TextMessage')]"
      ]
     },
     "execution_count": 28,
     "metadata": {},
     "output_type": "execute_result"
    }
   ],
   "source": [
    "output.messages"
   ]
  },
  {
   "cell_type": "markdown",
   "id": "656bb065",
   "metadata": {},
   "source": [
    "### 3. Swarm\n",
    "\n",
    "Agents communicate through explicit handoffs, allowing targeted interactions.\n",
    "\n",
    "See the [docs for more infor on this advanced multi-agent pattern.](https://microsoft.github.io/autogen/stable/user-guide/agentchat-user-guide/swarm.html) "
   ]
  },
  {
   "cell_type": "markdown",
   "id": "d68875d4",
   "metadata": {},
   "source": [
    "## Best Practices\n",
    "\n",
    "1. Choose the right team type for your use case:\n",
    "   - RoundRobinGroupChat for structured, turn-based interactions\n",
    "   - SelectorGroupChat for dynamic, context-aware speaker selection\n",
    "   - Swarm for explicit handoffs between agents\n",
    "\n",
    "2. Use appropriate termination conditions:\n",
    "   - TextMentionTermination for keyword-based stopping\n",
    "   - MaxMessageTermination for limiting conversation length\n",
    "   - ExternalTermination for manual control\n",
    "\n",
    "3. Reset teams between unrelated tasks to clear conversation history\n",
    "\n",
    "4. Use streaming for real-time monitoring of team interactions\n",
    "\n",
    "5. Start with simple teams and add complexity as needed\n",
    "\n",
    "Remember that teams add overhead compared to single agents, so use them only when the task complexity justifies multi-agent collaboration."
   ]
  }
 ],
 "metadata": {
  "kernelspec": {
   "display_name": "oreilly-autogen",
   "language": "python",
   "name": "oreilly-autogen"
  },
  "language_info": {
   "codemirror_mode": {
    "name": "ipython",
    "version": 3
   },
   "file_extension": ".py",
   "mimetype": "text/x-python",
   "name": "python",
   "nbconvert_exporter": "python",
   "pygments_lexer": "ipython3",
   "version": "3.11.11"
  }
 },
 "nbformat": 4,
 "nbformat_minor": 5
}
