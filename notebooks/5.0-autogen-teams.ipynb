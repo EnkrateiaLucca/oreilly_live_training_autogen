{
 "cells": [
  {
   "cell_type": "markdown",
   "id": "5ec8cb25",
   "metadata": {},
   "source": [
    "Here's a lesson on creating Multi-Agent Teams with AutoGen:\n",
    "\n",
    "# Creating Multi-Agent Teams with AutoGen\n",
    "\n",
    "## Setup"
   ]
  },
  {
   "cell_type": "code",
   "execution_count": 2,
   "id": "a996a674",
   "metadata": {},
   "outputs": [],
   "source": [
    "import os\n",
    "import getpass\n",
    "\n",
    "def _set_env(var: str):\n",
    "    if not os.environ.get(var):\n",
    "        os.environ[var] = getpass.getpass(f\"{var}: \")\n",
    "\n",
    "_set_env(\"OPENAI_API_KEY\")"
   ]
  },
  {
   "cell_type": "code",
   "execution_count": 3,
   "id": "4e58eadf",
   "metadata": {},
   "outputs": [
    {
     "name": "stdout",
     "output_type": "stream",
     "text": [
      "Async environment configured for Jupyter.\n"
     ]
    }
   ],
   "source": [
    "try:\n",
    "    import nest_asyncio\n",
    "    nest_asyncio.apply()\n",
    "    print(\"Async environment configured for Jupyter.\")\n",
    "except ImportError:\n",
    "    print(\"Please install nest_asyncio with `pip install nest_asyncio`\")"
   ]
  },
  {
   "cell_type": "markdown",
   "id": "44241873",
   "metadata": {},
   "source": [
    "## Introduction\n",
    "\n",
    "Multi-agent teams in AutoGen are groups of AI agents that collaborate to accomplish complex tasks. Teams provide structure for agent interactions and help coordinate their efforts effectively.\n",
    "\n",
    "## Basic Team Creation\n",
    "\n",
    "Let's create a simple team with two agents - a primary agent and a critic:"
   ]
  },
  {
   "cell_type": "markdown",
   "id": "32aa0301",
   "metadata": {},
   "source": [
    "Basic `RoundRobinChat`:\n",
    "\n",
    "\"A team that runs a group chat with participants taking turns in a round-robin fashion to publish a message to all.\n",
    "\n",
    "If a single participant is in the team, the participant will be the only speaker.\""
   ]
  },
  {
   "cell_type": "code",
   "execution_count": 14,
   "id": "535b8bda",
   "metadata": {},
   "outputs": [],
   "source": [
    "from autogen_agentchat.agents import AssistantAgent\n",
    "from autogen_agentchat.conditions import TextMentionTermination\n",
    "from autogen_agentchat.teams import RoundRobinGroupChat\n",
    "from autogen_ext.models.openai import OpenAIChatCompletionClient\n",
    "\n",
    "# Create model client\n",
    "model_client = OpenAIChatCompletionClient(\n",
    "    model=\"gpt-4o-mini\"\n",
    ")\n",
    "\n",
    "# Create agents\n",
    "primary_agent = AssistantAgent(\n",
    "    \"primary\",\n",
    "    model_client=model_client,\n",
    "    system_message=\"You are a creative writer who writes engaging content.\"\n",
    ")\n",
    "\n",
    "critic_agent = AssistantAgent(\n",
    "    \"critic\", \n",
    "    model_client=model_client,\n",
    "    system_message=\"You provide constructive feedback on writing. Respond with 'APPROVE' when satisfied.\"\n",
    ")\n",
    "\n",
    "# Create termination condition\n",
    "termination = TextMentionTermination(\"APPROVE\")\n",
    "\n",
    "# Create team\n",
    "team = RoundRobinGroupChat(\n",
    "    [primary_agent, critic_agent],\n",
    "    termination_condition=termination\n",
    ")"
   ]
  },
  {
   "cell_type": "markdown",
   "id": "c8ff297e",
   "metadata": {},
   "source": [
    "## Running the Team\n",
    "\n",
    "There are two main ways to run a team:\n",
    "\n",
    "### 1. Basic Run"
   ]
  },
  {
   "cell_type": "code",
   "execution_count": 15,
   "id": "0d767380",
   "metadata": {},
   "outputs": [
    {
     "data": {
      "text/plain": [
       "TaskResult(messages=[TextMessage(source='user', models_usage=None, content='Write a short story about a magical forest.', type='TextMessage'), TextMessage(source='primary', models_usage=RequestUsage(prompt_tokens=31, completion_tokens=970), content=\"Once upon a time, tucked away between the rolling hills and azure skies, there lay a magical forest known as Eldergrove. For those who stumbled upon its fringes, it appeared as an ordinary woodland, where emerald leaves whispered secrets to the wind and streams bubbled with laughter. Yet, beneath the surface, Eldergrove thrummed with enchantment, alive with mysteries waiting to be unraveled.\\n\\nAt the heart of this woodland lived a gentle spirit named Liora. She was as old as the tallest oak yet looked no older than a youthful sapling. With hair woven from vine tendrils and eyes shimmering like the morning dew, Liora spent her days tending to the forest’s needs: nurturing blooms that glowed at twilight, coaxing droplets of water from the sky during droughts, and guiding lost animals back to their homes.\\n\\nOne fateful morning, as the sun stretched its golden rays across the forest floor, a peculiar sound interrupted Liora's reverie—a soft, sorrowful melody that floated on the breeze. Her curiosity piqued, she followed the sound until she stumbled upon a clearing she had never seen before. In the center, a small, silver-scaled creature sat, strumming a delicate harp made of fallen leaves and twinkling dew.\\n\\n“Who are you?” Liora asked, her voice gentle.\\n\\nThe creature looked up, revealing luminous eyes filled with tears. “I am Zephyr, a songbird of the realm, cursed to live as a mere sprite until I find the spirit of happiness that once emerged from this forest. Only then can my true form be restored.”\\n\\nLiora recognized the gravity of Zephyr's words. Deep within Eldergrove, among its ancient roots and vibrant blooms, a spirit of happiness had once danced. Its laughter had nourished the land, but the passing of years had dimmed its light. Without it, the forest would lose its magic.\\n\\n“I will help you find this spirit,” Liora declared, determined to lift the curse. “What must we do?”\\n\\nZephyr’s melody changed, becoming hopeful yet fragile. “We must awaken the laughter that has faded. Search the forest for those who have forgotten joy. Only then can we summon the spirit.”\\n\\nSo began their journey. They traversed through sun-dappled meadows and shadowy groves, visiting the dwellings of creatures great and small. They found the stoic badger, grumbling over a lost acorn; the weary hedgehog, sighing under the weight of the world; and the wise old owl, whose eyes had lost their spark.\\n\\nWith each encounter, Liora and Zephyr shared stories and laughter. The badger chuckled at a tale of Liora’s mischievous adventures, while the hedgehog hummed along to Zephyr’s soft melodies. As joy blossomed in their hearts, the air around them shimmered, and hints of golden light began to weave through the trees.\\n\\nFinally, they reached the edge of the forest, where a forgotten swing, draped in vines, hung among the branches of a solitary oak. It swayed gently as if beckoning them closer. Liora stepped forward, her heart racing with hope, and touched the swing as Zephyr sang a soaring note. Suddenly, a burst of laughter erupted from the depths of the forest, pure and bright, echoing through every leaf and branch.\\n\\nThe spirit of happiness, long hidden, emerged in a cascade of light, dancing through the air as it radiated joy. The forest trembled with delight as colors brightened and flowers unfurled, their scents mingling with the fresh, invigorating breeze.\\n\\nZephyr shimmered, the curse dissolving as golden feathers burst forth from his silver-skinned form. In the blink of an eye, the once-cursed sprite transformed into a magnificent songbird, gleaming with every hue of dawn.\\n\\n“Thank you, dear Liora,” Zephyr sang, his voice now a symphony of freedom. “You have awakened the spirit of happiness, and with it, I am whole again.”\\n\\nWith a flutter of his wings, Zephyr took to the skies, filling Eldergrove with sweet, enchanting melodies. As he soared, laughter erupted from every corner of the forest, weaving together the tales of each creature, filling gaps left by years of silence.\\n\\nFrom that day onward, Eldergrove thrived, its magic woven into the hearts of all who dwelled within. And Liora, with her spirit of kindness, became the guardian of joy, ensuring that laughter would echo among the trees for all time.\\n\\nIn that magical forest, where dreams danced with every breeze and happiness blossomed in every heart, all who entered were forever changed, touched by the enchantment of Eldergrove.\", type='TextMessage'), TextMessage(source='critic', models_usage=RequestUsage(prompt_tokens=1013, completion_tokens=4), content='APPROVE', type='TextMessage')], stop_reason=\"Text 'APPROVE' mentioned\")"
      ]
     },
     "execution_count": 15,
     "metadata": {},
     "output_type": "execute_result"
    }
   ],
   "source": [
    "# Run team synchronously\n",
    "result = await team.run(task=\"Write a short story about a magical forest.\")\n",
    "result"
   ]
  },
  {
   "cell_type": "code",
   "execution_count": 16,
   "id": "1b7314ca",
   "metadata": {},
   "outputs": [
    {
     "data": {
      "text/plain": [
       "[TextMessage(source='user', models_usage=None, content='Write a short story about a magical forest.', type='TextMessage'),\n",
       " TextMessage(source='primary', models_usage=RequestUsage(prompt_tokens=31, completion_tokens=970), content=\"Once upon a time, tucked away between the rolling hills and azure skies, there lay a magical forest known as Eldergrove. For those who stumbled upon its fringes, it appeared as an ordinary woodland, where emerald leaves whispered secrets to the wind and streams bubbled with laughter. Yet, beneath the surface, Eldergrove thrummed with enchantment, alive with mysteries waiting to be unraveled.\\n\\nAt the heart of this woodland lived a gentle spirit named Liora. She was as old as the tallest oak yet looked no older than a youthful sapling. With hair woven from vine tendrils and eyes shimmering like the morning dew, Liora spent her days tending to the forest’s needs: nurturing blooms that glowed at twilight, coaxing droplets of water from the sky during droughts, and guiding lost animals back to their homes.\\n\\nOne fateful morning, as the sun stretched its golden rays across the forest floor, a peculiar sound interrupted Liora's reverie—a soft, sorrowful melody that floated on the breeze. Her curiosity piqued, she followed the sound until she stumbled upon a clearing she had never seen before. In the center, a small, silver-scaled creature sat, strumming a delicate harp made of fallen leaves and twinkling dew.\\n\\n“Who are you?” Liora asked, her voice gentle.\\n\\nThe creature looked up, revealing luminous eyes filled with tears. “I am Zephyr, a songbird of the realm, cursed to live as a mere sprite until I find the spirit of happiness that once emerged from this forest. Only then can my true form be restored.”\\n\\nLiora recognized the gravity of Zephyr's words. Deep within Eldergrove, among its ancient roots and vibrant blooms, a spirit of happiness had once danced. Its laughter had nourished the land, but the passing of years had dimmed its light. Without it, the forest would lose its magic.\\n\\n“I will help you find this spirit,” Liora declared, determined to lift the curse. “What must we do?”\\n\\nZephyr’s melody changed, becoming hopeful yet fragile. “We must awaken the laughter that has faded. Search the forest for those who have forgotten joy. Only then can we summon the spirit.”\\n\\nSo began their journey. They traversed through sun-dappled meadows and shadowy groves, visiting the dwellings of creatures great and small. They found the stoic badger, grumbling over a lost acorn; the weary hedgehog, sighing under the weight of the world; and the wise old owl, whose eyes had lost their spark.\\n\\nWith each encounter, Liora and Zephyr shared stories and laughter. The badger chuckled at a tale of Liora’s mischievous adventures, while the hedgehog hummed along to Zephyr’s soft melodies. As joy blossomed in their hearts, the air around them shimmered, and hints of golden light began to weave through the trees.\\n\\nFinally, they reached the edge of the forest, where a forgotten swing, draped in vines, hung among the branches of a solitary oak. It swayed gently as if beckoning them closer. Liora stepped forward, her heart racing with hope, and touched the swing as Zephyr sang a soaring note. Suddenly, a burst of laughter erupted from the depths of the forest, pure and bright, echoing through every leaf and branch.\\n\\nThe spirit of happiness, long hidden, emerged in a cascade of light, dancing through the air as it radiated joy. The forest trembled with delight as colors brightened and flowers unfurled, their scents mingling with the fresh, invigorating breeze.\\n\\nZephyr shimmered, the curse dissolving as golden feathers burst forth from his silver-skinned form. In the blink of an eye, the once-cursed sprite transformed into a magnificent songbird, gleaming with every hue of dawn.\\n\\n“Thank you, dear Liora,” Zephyr sang, his voice now a symphony of freedom. “You have awakened the spirit of happiness, and with it, I am whole again.”\\n\\nWith a flutter of his wings, Zephyr took to the skies, filling Eldergrove with sweet, enchanting melodies. As he soared, laughter erupted from every corner of the forest, weaving together the tales of each creature, filling gaps left by years of silence.\\n\\nFrom that day onward, Eldergrove thrived, its magic woven into the hearts of all who dwelled within. And Liora, with her spirit of kindness, became the guardian of joy, ensuring that laughter would echo among the trees for all time.\\n\\nIn that magical forest, where dreams danced with every breeze and happiness blossomed in every heart, all who entered were forever changed, touched by the enchantment of Eldergrove.\", type='TextMessage'),\n",
       " TextMessage(source='critic', models_usage=RequestUsage(prompt_tokens=1013, completion_tokens=4), content='APPROVE', type='TextMessage')]"
      ]
     },
     "execution_count": 16,
     "metadata": {},
     "output_type": "execute_result"
    }
   ],
   "source": [
    "result.messages"
   ]
  },
  {
   "cell_type": "markdown",
   "id": "6558ed69",
   "metadata": {},
   "source": [
    "### 2. Streaming Run"
   ]
  },
  {
   "cell_type": "code",
   "execution_count": 17,
   "id": "4b295815",
   "metadata": {},
   "outputs": [
    {
     "name": "stdout",
     "output_type": "stream",
     "text": [
      "user: Write a short story about a magical forest.\n",
      "primary: In a hidden corner of the world, where sunlight filtered through emerald leaves and the air sparkled with a touch of whimsy, there existed a magical forest known as Miralune. This enchanting place was said to be watched over by the ancient keeper of dreams, a majestic creature that took the form of a silver wolf named Selene. With fur that glimmered like the stars and eyes as deep as the night sky, Selene was both guardian and guide to those fortunate enough to wander into her realm.\n",
      "\n",
      "One day, a curious girl named Elara stumbled upon the forest while chasing a butterfly adorned with colors she had never seen. As she stepped into the cool shade, she was immediately enveloped by the warmth of a welcoming embrace. The trees whispered animatedly, their branches swaying to a melody only the forest could hear. Each leaf seemed to twinkle as if encouraging her to venture deeper.\n",
      "\n",
      "As she wandered, Elara discovered a glade where the grass was as soft as a whisper, and blooming flowers sang in harmony, their petals dancing gently in the breeze. It was there that she first saw Selene, perched regally on a moss-covered stone, watching her with an intrigued gaze.\n",
      "\n",
      "“Welcome, young dreamer,” Selene spoke, her voice a soothing echo, like the rustle of leaves beneath the moonlight. “You are chosen to explore the wonders of Miralune. Here, dreams take flight and every heart can find its song.”\n",
      "\n",
      "Elara’s heart raced with excitement and awe. “What must I do?” she asked, eager to uncover the magic that pulsed around her.\n",
      "\n",
      "Selene beckoned her to follow, leading Elara through a tapestry of vibrant trees and sparkling streams. They soon arrived at a majestic tree with a trunk wider than any Elara had ever seen. Its branches reached high into the sky, and its roots seemed to burrow deep into the earth’s secrets. Luminous fireflies flitted about like miniature stars, illuminating the air with their soft, golden glow.\n",
      "\n",
      "“This,” Selene announced, “is the Heartwood Tree, the center of dreams in Miralune. It holds the memories of all who have ever believed in magic. You must give it a piece of your own dream to awaken its power.”\n",
      "\n",
      "Elara thought hard, recalling the dreams that danced in her mind. She stepped closer to the tree and closed her eyes, visualizing her greatest wish—the desire to bring joy to those who had forgotten how to dream. Taking a deep breath, she whispered her hope into the bark, feeling a warm tingling spread from her fingertips as the tree absorbed her aspiration.\n",
      "\n",
      "Suddenly, the Heartwood Tree began to shimmer, its bark glowing with a dazzling light. The air around Elara pulsed with energy, and she felt a connection to every being within the forest. Tendrils of magic wrapped around her heart, singing a melody of laughter and love. The fireflies surged in a brilliant explosion of light, swirling around her in a joyous dance.\n",
      "\n",
      "“Your dream is pure, and it has awakened the Heartwood’s magic,” Selene said, her voice now imbued with a melody of its own. “With it, you can share the wonders of this place with the world outside.”\n",
      "\n",
      "Elara’s excitement bubbled over. “How can I do this?”\n",
      "\n",
      "“By sharing your heart,” the silver wolf replied, radiating warmth. “Encourage others to believe in their dreams. Sometimes, all it takes is a little spark.”\n",
      "\n",
      "Emboldened by Selene’s words, Elara made her way back through Miralune, promising the forest that she would carry its magic beyond its borders. Each time she shared a story of her adventures, each time she inspired someone to dream, a little piece of Miralune would shine through her words.\n",
      "\n",
      "As days turned into weeks, Elara returned often to the magical forest, learning from Selene and gathering tales that wove deeper connections between dreams and reality. Word of the enchanted beauty spread, drawing others to its doorstep, each with their own dreams awakened by the power of belief.\n",
      "\n",
      "Eventually, as the sun dipped below the horizon, Elara stood at the edge of the forest, a group of children by her side, eyes wide with wonder. Together, they began to share their dreams aloud, laughter spilling into the dusk like a melody crafted by the stars.\n",
      "\n",
      "From that day forward, Miralune flourished, alive with the dreams of many. And as for Elara, she became the bridge between the magical forest and the world beyond—a storyteller of dreams, a weaver of golden threads that connected hearts to magic everlasting.\n",
      "\n",
      "And so, in the heart of the forest, the silver wolf Selene watched over them all, her spirit dancing with the dreams that had found their wings, forever echoing the truth that magic lives within all who dare to believe.\n",
      "critic: APPROVE\n",
      "Task completed: Text 'APPROVE' mentioned\n"
     ]
    }
   ],
   "source": [
    "from autogen_agentchat.base import TaskResult\n",
    "\n",
    "# Stream messages as they're generated\n",
    "async for message in team.run_stream(task=\"Write a short story about a magical forest.\"):\n",
    "    if isinstance(message, TaskResult):\n",
    "        print(f\"Task completed: {message.stop_reason}\")\n",
    "    else:\n",
    "        print(f\"{message.source}: {message.content}\")"
   ]
  },
  {
   "cell_type": "markdown",
   "id": "1deee231",
   "metadata": {},
   "source": [
    "## Team Types\n",
    "\n",
    "AutoGen provides several team types for different use cases:\n",
    "\n",
    "### 1. RoundRobinGroupChat\n",
    "Agents take turns in a fixed order. Good for structured discussions."
   ]
  },
  {
   "cell_type": "code",
   "execution_count": 5,
   "id": "017e1a86",
   "metadata": {},
   "outputs": [
    {
     "data": {
      "text/plain": [
       "TaskResult(messages=[TextMessage(source='user', models_usage=None, content='Write 3 jokes about the tragedy of life.', type='TextMessage'), TextMessage(source='Writer', models_usage=RequestUsage(prompt_tokens=28, completion_tokens=123), content='Sure! Here are three jokes that touch on the tragedy of life with a humorous twist:\\n\\n1. Why did the nihilist refuse to play cards?\\n   Because he couldn\\'t deal with the hand life dealt him!\\n\\n2. Life is like a rollercoaster—full of ups and downs. \\n   But nobody warned me it would leave me feeling queasy and screaming the whole way!\\n\\n3. They say life is a journey, but mine feels more like a GPS with no signal— \\n   always making wrong turns and asking if I want to reroute to \"disappointment\"!\\n\\nHope you enjoyed these!', type='TextMessage'), TextMessage(source='Editor', models_usage=RequestUsage(prompt_tokens=167, completion_tokens=4), content='APPROVE', type='TextMessage')], stop_reason=\"Text 'APPROVE' mentioned\")"
      ]
     },
     "execution_count": 5,
     "metadata": {},
     "output_type": "execute_result"
    }
   ],
   "source": [
    "agent1 = AssistantAgent(\n",
    "    \"Writer\",\n",
    "    model_client=model_client,\n",
    "    system_message=\"You are a helpful assistant.\"\n",
    ")\n",
    "\n",
    "agent2 = AssistantAgent(\n",
    "    \"Editor\",\n",
    "    model_client=model_client,\n",
    "    system_message=\"You provide constructive feedback on writing. Respond with 'APPROVE' when satisfied.\"\n",
    ")\n",
    "\n",
    "team = RoundRobinGroupChat(\n",
    "    [agent1, agent2],\n",
    "    termination_condition=termination\n",
    ")\n",
    "\n",
    "output = await team.run(task=\"Write 3 jokes about the tragedy of life.\")\n",
    "output"
   ]
  },
  {
   "cell_type": "code",
   "execution_count": 18,
   "id": "93e18bd2",
   "metadata": {},
   "outputs": [
    {
     "name": "stderr",
     "output_type": "stream",
     "text": [
      "/var/folders/5l/y8s3fc655417629rqwgxkhx80000gn/T/ipykernel_95302/4079043465.py:10: RuntimeWarning: coroutine 'BaseGroupChat.run' was never awaited\n",
      "  output = await team.run(task=\"Write 3 jokes about the tragedy of life.\")\n",
      "RuntimeWarning: Enable tracemalloc to get the object allocation traceback\n"
     ]
    },
    {
     "data": {
      "text/plain": [
       "TaskResult(messages=[TextMessage(source='user', models_usage=None, content='Write 3 jokes about the tragedy of life.', type='TextMessage'), TextMessage(source='Writer', models_usage=RequestUsage(prompt_tokens=653, completion_tokens=119), content='Sure, here are three fresh jokes about the tragedy of life:\\n\\n1. Why did life bring a ladder to the bar?\\n   Because it wanted to help everyone reach new heights... only to remind them it\\'s all downhill from there!\\n\\n2. I asked my friend how he deals with the tragedies of life.\\n   He said, \"I just pretend it’s all a plot twist in a sitcom. I keep waiting for the laugh track!\"\\n\\n3. Life is like a game of chess: full of strategies and sacrifices, but at the end of the day, everyone just seems to lose their queen!', type='TextMessage'), TextMessage(source='Editor', models_usage=RequestUsage(prompt_tokens=903, completion_tokens=207), content='The new jokes you crafted have some clever ideas, but they could use a bit more punch to truly shine. Here’s my feedback:\\n\\n1. The ladder and bar setup is amusing, but the punchline about it being \"all downhill from there\" feels a bit common. A more unique twist might enhance its impact.\\n\\n2. The idea of treating life\\'s tragedies like a sitcom is relatable, but it could benefit from a stronger punchline. The mention of the laugh track is nice, but it might be more effective with a more unexpected or vivid image.\\n\\n3. The chess analogy is inventive, and it captures the essence of life\\'s struggles nicely. However, the punchline about losing the queen might need more flair or a twist that resonates better. A different aspect of the game could be highlighted for a stronger connection.\\n\\nOverall, while these jokes have potential, they’re currently hovering around the mid-range for humor. I\\'d give them a score of 5. They would be improved with clearer setups and punchlines for greater comedic effect!', type='TextMessage')], stop_reason='Maximum number of messages 3 reached, current message count: 3')"
      ]
     },
     "execution_count": 18,
     "metadata": {},
     "output_type": "execute_result"
    }
   ],
   "source": [
    "from autogen_agentchat.conditions import MaxMessageTermination\n",
    "\n",
    "termination = MaxMessageTermination(max_messages=3)\n",
    "\n",
    "team = RoundRobinGroupChat(\n",
    "    [agent1, agent2],\n",
    "    termination_condition=termination\n",
    ")\n",
    "\n",
    "output = await team.run(task=\"Write 3 jokes about the tragedy of life.\")\n",
    "output"
   ]
  },
  {
   "cell_type": "code",
   "execution_count": 19,
   "id": "fe37c1b8",
   "metadata": {},
   "outputs": [
    {
     "data": {
      "text/plain": [
       "[TextMessage(source='user', models_usage=None, content='Write 3 jokes about the tragedy of life.', type='TextMessage'),\n",
       " TextMessage(source='Writer', models_usage=RequestUsage(prompt_tokens=653, completion_tokens=119), content='Sure, here are three fresh jokes about the tragedy of life:\\n\\n1. Why did life bring a ladder to the bar?\\n   Because it wanted to help everyone reach new heights... only to remind them it\\'s all downhill from there!\\n\\n2. I asked my friend how he deals with the tragedies of life.\\n   He said, \"I just pretend it’s all a plot twist in a sitcom. I keep waiting for the laugh track!\"\\n\\n3. Life is like a game of chess: full of strategies and sacrifices, but at the end of the day, everyone just seems to lose their queen!', type='TextMessage'),\n",
       " TextMessage(source='Editor', models_usage=RequestUsage(prompt_tokens=903, completion_tokens=207), content='The new jokes you crafted have some clever ideas, but they could use a bit more punch to truly shine. Here’s my feedback:\\n\\n1. The ladder and bar setup is amusing, but the punchline about it being \"all downhill from there\" feels a bit common. A more unique twist might enhance its impact.\\n\\n2. The idea of treating life\\'s tragedies like a sitcom is relatable, but it could benefit from a stronger punchline. The mention of the laugh track is nice, but it might be more effective with a more unexpected or vivid image.\\n\\n3. The chess analogy is inventive, and it captures the essence of life\\'s struggles nicely. However, the punchline about losing the queen might need more flair or a twist that resonates better. A different aspect of the game could be highlighted for a stronger connection.\\n\\nOverall, while these jokes have potential, they’re currently hovering around the mid-range for humor. I\\'d give them a score of 5. They would be improved with clearer setups and punchlines for greater comedic effect!', type='TextMessage')]"
      ]
     },
     "execution_count": 19,
     "metadata": {},
     "output_type": "execute_result"
    }
   ],
   "source": [
    "output.messages"
   ]
  },
  {
   "cell_type": "code",
   "execution_count": 21,
   "id": "82847297",
   "metadata": {},
   "outputs": [
    {
     "data": {
      "text/plain": [
       "TaskResult(messages=[TextMessage(source='user', models_usage=None, content='Write a short poem about the fall season.', type='TextMessage'), TextMessage(source='primary', models_usage=RequestUsage(prompt_tokens=2037, completion_tokens=162), content=\"In whispered hues of amber light,  \\nThe trees don cloaks of gold and rust,  \\nAs breezes dance in soft delight,  \\nAnd leaves fall gently, drifted dust.  \\n\\nCrisp air wraps the world, a tender sigh,  \\nPumpkin patches glow in twilight's embrace,  \\nClouds of mist drift low, like dreams that fly,  \\nAs harvest moons illuminate the space.  \\n\\nNature's palette, a vibrant show,  \\nWith chilly nights and warm fires' glow,  \\nIn every rustle, the seasons weave,  \\nA tapestry of memories, dreams conceived.  \\n\\nSo let us wander through this golden maze,  \\nWhere time slows down in autumn’s gaze,  \\nWith hearts aglow and spirits free,  \\nIn fall's sweet magic, we find the key.  \", type='TextMessage')], stop_reason='External termination requested')"
      ]
     },
     "execution_count": 21,
     "metadata": {},
     "output_type": "execute_result"
    }
   ],
   "source": [
    "# Create a new team with an external termination condition.\n",
    "from autogen_agentchat.conditions import ExternalTermination\n",
    "from autogen_agentchat.ui import Console\n",
    "import asyncio\n",
    "\n",
    "text_termination = TextMentionTermination(\"APPROVE\")\n",
    "external_termination = ExternalTermination()\n",
    "team = RoundRobinGroupChat(\n",
    "    [primary_agent, critic_agent],\n",
    "    termination_condition=external_termination | text_termination,  # Use the bitwise OR operator to combine conditions.\n",
    ")\n",
    "\n",
    "# Run the team in a background task.\n",
    "run = asyncio.create_task(Console(team.run_stream(task=\"Write a short poem about the fall season.\")))\n",
    "\n",
    "# Wait for some time.\n",
    "await asyncio.sleep(0.1)\n",
    "\n",
    "# Stop the team.\n",
    "external_termination.set()\n",
    "\n",
    "# Wait for the team to finish.\n",
    "await run"
   ]
  },
  {
   "cell_type": "markdown",
   "id": "78d4c6ac",
   "metadata": {},
   "source": [
    "# SelectorGroupChat \n",
    "[`SelectorGroupChat`](https://microsoft.github.io/autogen/stable/reference/python/autogen_agentchat.teams.html#autogen_agentchat.teams.SelectorGroupChat) is a group chat that uses an AI model to intelligently choose the next speaker based on context.\n",
    "\n",
    " How it works:\n",
    " - When given a task via run() or run_stream():\n",
    "   1. The model analyzes conversation history and agent profiles to pick the next speaker\n",
    "   2. Selected agent provides a response that's shared with all participants \n",
    "   3. Process repeats until termination condition is met\n",
    "\n",
    " Key features:\n",
    " - By default, prevents same speaker twice in a row (override with allow_repeated_speaker=True)\n",
    " - Can use custom selection function instead of default model\n",
    " - Maintains conversation context between tasks\n",
    " - Call reset() to clear conversation history\n",
    " - Returns TaskResult with full conversation when complete"
   ]
  },
  {
   "cell_type": "markdown",
   "id": "4d79725f",
   "metadata": {},
   "source": [
    "### 2. SelectorGroupChat \n",
    "Uses an AI model to dynamically choose the next speaker based on context."
   ]
  },
  {
   "cell_type": "code",
   "execution_count": 26,
   "id": "a8725902",
   "metadata": {},
   "outputs": [],
   "source": [
    "from autogen_agentchat.teams import SelectorGroupChat\n",
    "\n",
    "termination =TextMentionTermination(\"APPROVE\")\n",
    "\n",
    "agent1 = AssistantAgent(\n",
    "    \"Writer\",\n",
    "    model_client=model_client,\n",
    "    system_message=\"You are a creative joke writer.\"\n",
    ")\n",
    "\n",
    "agent2 = AssistantAgent(\n",
    "    \"Editor\",\n",
    "    model_client=model_client,\n",
    "    system_message=\"You take in the score from the Ranker and provide feedback on the jokes in case they are below 5, if not you return with 'APPROVE'.\"\n",
    ")\n",
    "\n",
    "agent3 = AssistantAgent(\n",
    "    \"Ranker\",\n",
    "    model_client=model_client,\n",
    "    system_message=\"You rank the quality of the jokes, giving an overall score from 1 to 10.\"\n",
    ")\n",
    "\n",
    "team = SelectorGroupChat(\n",
    "    participants=[agent1, agent2, agent3],\n",
    "    model_client=model_client,\n",
    "    termination_condition=termination\n",
    ")"
   ]
  },
  {
   "cell_type": "code",
   "execution_count": 27,
   "id": "a158a620",
   "metadata": {},
   "outputs": [],
   "source": [
    "output = await team.run(task=\"Write 3 jokes about the tragedy of life.\")"
   ]
  },
  {
   "cell_type": "code",
   "execution_count": 28,
   "id": "453a15be",
   "metadata": {},
   "outputs": [
    {
     "data": {
      "text/plain": [
       "[TextMessage(source='user', models_usage=None, content='Write 3 jokes about the tragedy of life.', type='TextMessage'),\n",
       " TextMessage(source='Writer', models_usage=RequestUsage(prompt_tokens=29, completion_tokens=150), content='Sure, here are three jokes that touch on the tragedy of life with a humorous twist:\\n\\n1. **Why did the existential philosopher bring a ladder to therapy?**  \\n   Because he wanted to reach higher understanding, but all he got was stuck in the same old rungs of despair!\\n\\n2. **What did the pessimistic comedian say after his set?**  \\n   “Life is like a bad punchline—everyone saw it coming, but we still have to laugh to keep from crying!”\\n\\n3. **Why did the soul bring a GPS to its midlife crisis?**  \\n   Because it got lost in the tragic journey of life and figured it might need directions to happiness—turns out, every route was a detour!', type='TextMessage'),\n",
       " TextMessage(source='Editor', models_usage=RequestUsage(prompt_tokens=210, completion_tokens=81), content='These jokes offer a clever twist on the theme of life\\'s tragedies while maintaining a lighthearted tone. Here’s the score:\\n\\n1. Score: 6 - APPROVE\\n2. Score: 7 - APPROVE\\n3. Score: 5 - APPROVE\\n\\nAll jokes are above 5, so they get the \"APPROVE\" seal! Great job blending humor with deep themes!', type='TextMessage')]"
      ]
     },
     "execution_count": 28,
     "metadata": {},
     "output_type": "execute_result"
    }
   ],
   "source": [
    "output.messages"
   ]
  },
  {
   "cell_type": "markdown",
   "id": "656bb065",
   "metadata": {},
   "source": [
    "### 3. Swarm\n",
    "\n",
    "Agents communicate through explicit handoffs, allowing targeted interactions.\n",
    "\n",
    "See the [docs for more infor on this advanced multi-agent pattern.](https://microsoft.github.io/autogen/stable/user-guide/agentchat-user-guide/swarm.html) "
   ]
  },
  {
   "cell_type": "markdown",
   "id": "d68875d4",
   "metadata": {},
   "source": [
    "## Best Practices\n",
    "\n",
    "1. Choose the right team type for your use case:\n",
    "   - RoundRobinGroupChat for structured, turn-based interactions\n",
    "   - SelectorGroupChat for dynamic, context-aware speaker selection\n",
    "   - Swarm for explicit handoffs between agents\n",
    "\n",
    "2. Use appropriate termination conditions:\n",
    "   - TextMentionTermination for keyword-based stopping\n",
    "   - MaxMessageTermination for limiting conversation length\n",
    "   - ExternalTermination for manual control\n",
    "\n",
    "3. Reset teams between unrelated tasks to clear conversation history\n",
    "\n",
    "4. Use streaming for real-time monitoring of team interactions\n",
    "\n",
    "5. Start with simple teams and add complexity as needed\n",
    "\n",
    "Remember that teams add overhead compared to single agents, so use them only when the task complexity justifies multi-agent collaboration."
   ]
  }
 ],
 "metadata": {
  "kernelspec": {
   "display_name": "oreilly-autogen",
   "language": "python",
   "name": "oreilly-autogen"
  },
  "language_info": {
   "codemirror_mode": {
    "name": "ipython",
    "version": 3
   },
   "file_extension": ".py",
   "mimetype": "text/x-python",
   "name": "python",
   "nbconvert_exporter": "python",
   "pygments_lexer": "ipython3",
   "version": "3.11.11"
  }
 },
 "nbformat": 4,
 "nbformat_minor": 5
}
