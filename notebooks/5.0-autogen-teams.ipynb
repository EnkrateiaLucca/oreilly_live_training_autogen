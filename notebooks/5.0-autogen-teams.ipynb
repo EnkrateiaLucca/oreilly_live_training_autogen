{
 "cells": [
  {
   "cell_type": "markdown",
   "id": "5ec8cb25",
   "metadata": {},
   "source": [
    "Here's a lesson on creating Multi-Agent Teams with AutoGen:\n",
    "\n",
    "# Creating Multi-Agent Teams with AutoGen\n",
    "\n",
    "## Setup"
   ]
  },
  {
   "cell_type": "code",
   "execution_count": 2,
   "id": "a996a674",
   "metadata": {},
   "outputs": [],
   "source": [
    "import os\n",
    "import getpass\n",
    "\n",
    "def _set_env(var: str):\n",
    "    if not os.environ.get(var):\n",
    "        os.environ[var] = getpass.getpass(f\"{var}: \")\n",
    "\n",
    "_set_env(\"OPENAI_API_KEY\")"
   ]
  },
  {
   "cell_type": "code",
   "execution_count": 3,
   "id": "4e58eadf",
   "metadata": {},
   "outputs": [
    {
     "name": "stdout",
     "output_type": "stream",
     "text": [
      "Async environment configured for Jupyter.\n"
     ]
    }
   ],
   "source": [
    "try:\n",
    "    import nest_asyncio\n",
    "    nest_asyncio.apply()\n",
    "    print(\"Async environment configured for Jupyter.\")\n",
    "except ImportError:\n",
    "    print(\"Please install nest_asyncio with `pip install nest_asyncio`\")"
   ]
  },
  {
   "cell_type": "markdown",
   "id": "44241873",
   "metadata": {},
   "source": [
    "## Introduction\n",
    "\n",
    "Multi-agent teams in AutoGen are groups of AI agents that collaborate to accomplish complex tasks. Teams provide structure for agent interactions and help coordinate their efforts effectively.\n",
    "\n",
    "## Basic Team Creation\n",
    "\n",
    "Let's create a simple team with two agents - a primary agent and a critic:"
   ]
  },
  {
   "cell_type": "code",
   "execution_count": 4,
   "id": "535b8bda",
   "metadata": {},
   "outputs": [],
   "source": [
    "from autogen_agentchat.agents import AssistantAgent\n",
    "from autogen_agentchat.conditions import TextMentionTermination\n",
    "from autogen_agentchat.teams import RoundRobinGroupChat\n",
    "from autogen_ext.models.openai import OpenAIChatCompletionClient\n",
    "\n",
    "# Create model client\n",
    "model_client = OpenAIChatCompletionClient(\n",
    "    model=\"gpt-4o-mini\"\n",
    ")\n",
    "\n",
    "# Create agents\n",
    "primary_agent = AssistantAgent(\n",
    "    \"primary\",\n",
    "    model_client=model_client,\n",
    "    system_message=\"You are a creative writer who writes engaging content.\"\n",
    ")\n",
    "\n",
    "critic_agent = AssistantAgent(\n",
    "    \"critic\", \n",
    "    model_client=model_client,\n",
    "    system_message=\"You provide constructive feedback on writing. Respond with 'APPROVE' when satisfied.\"\n",
    ")\n",
    "\n",
    "# Create termination condition\n",
    "termination = TextMentionTermination(\"APPROVE\")\n",
    "\n",
    "# Create team\n",
    "team = RoundRobinGroupChat(\n",
    "    [primary_agent, critic_agent],\n",
    "    termination_condition=termination\n",
    ")"
   ]
  },
  {
   "cell_type": "markdown",
   "id": "c8ff297e",
   "metadata": {},
   "source": [
    "## Running the Team\n",
    "\n",
    "There are two main ways to run a team:\n",
    "\n",
    "### 1. Basic Run"
   ]
  },
  {
   "cell_type": "code",
   "execution_count": 4,
   "id": "0d767380",
   "metadata": {},
   "outputs": [
    {
     "data": {
      "text/plain": [
       "TaskResult(messages=[TextMessage(source='user', models_usage=None, content='Write a short story about a magical forest.', type='TextMessage'), TextMessage(source='primary', models_usage=RequestUsage(prompt_tokens=31, completion_tokens=850), content='Once upon a time, in a land not so far from here, there existed a magical forest called Eldergrove. It sprawled over rolling hills, wrapping its gnarled roots around ancient trees, each one more magnificent than the last. Sunlight streamed through the dense canopy, casting a dappled glow on the emerald undergrowth below. The air was imbued with the sweet scent of wildflowers and the hushed whispers of secrets held tightly within the trees.\\n\\nIn this enchanted realm lived Willow, a curious young girl with a wild imagination and a heart full of dreams. With hair the color of autumn leaves and eyes that sparkled like dewdrops on a summer morning, she was drawn to Eldergrove time and time again. Her village lay on the edge of the forest, but the townsfolk warned her to steer clear of its depths, for they believed it to be a place of mystery and enchantment.\\n\\nHowever, Willow could not resist the pull of the forest’s magic. One sunny afternoon, she slipped away from her chores, her feet guiding her along a winding path that only appeared when the sun shone just right. Soon, she found herself in a glade where the trees stood tall as giants, their branches weaving together like a tapestry of green. A soft melody floated through the air, beckoning her further into the heart of Eldergrove.\\n\\nAs she ventured deeper, Willow stumbled upon a shimmering pond. Its waters sparkled with hues of turquoise and gold, and at its edge stood a creature unlike any she had ever seen. A creature with the body of a deer and the wings of a bird, the fae-like being looked up at her with eyes that glinted with mischief. “Welcome, brave soul,” it chimed, its voice a melodic whisper. “I am Liora, guardian of the forest.”\\n\\nWillow gasped, both in awe and disbelief. “You’re real! I thought you were just a story,” she exclaimed.\\n\\n“But every story holds a truth, dear girl,” Liora replied with a twinkle in her eye. “You’ve found your way to the heart of Eldergrove, where magic resides and dreams come to life.” \\n\\nAs Liora flitted around the glade, Willow followed, captivated by the creature’s vibrant magic. They danced between the beams of sunlight, and with every step, wildflowers bloomed underfoot, painting the ground in brilliant colors. With laughter that rang like chimes in the wind, Liora taught Willow the forest’s songs—the songs of the trees, the streams, and the whispers of the wind.\\n\\nIn that wondrous cocoon of nature, time became meaningless. As dusk began to drape the sky in shades of violet and amber, Liora turned to her newly found friend and said, “The magic of Eldergrove is alive in you. You must carry it back to your village. It longs to be shared.”\\n\\nReluctantly, Willow nodded, knowing her heart would forever reside between the trees. She followed Liora to the edge of the forest, where the portal between the worlds blurred with shadows and twilight. “Whenever you need me, just listen for the songs of the forest. I will always be near,” Liora promised, before fading into the gentle glow of the setting sun.\\n\\nBack in her village, Willow shared the tales of her adventure, the magic of Eldergrove flowing from her heart to those around her. The villagers listened, enraptured by her vivid storytelling, and slowly but surely, they began to see the beauty of magic in their everyday lives. Gardens blossomed brighter, laughter echoed louder, and the bonds of community strengthened, all under the watchful gaze of the forest.\\n\\nYears passed, and as Willow grew, so did her connection to Eldergrove. The magical forest remained a place of solace and friendship. Every so often, she would slip away to dance with Liora, to sing with the trees, and to dream of all the wonders yet to come. And in doing so, she understood the true power of magic: that it can flourish in the most unexpected places, waiting patiently for a heart brave enough to believe.', type='TextMessage'), TextMessage(source='critic', models_usage=RequestUsage(prompt_tokens=893, completion_tokens=4), content='APPROVE', type='TextMessage')], stop_reason=\"Text 'APPROVE' mentioned\")"
      ]
     },
     "execution_count": 4,
     "metadata": {},
     "output_type": "execute_result"
    }
   ],
   "source": [
    "# Run team synchronously\n",
    "result = await team.run(task=\"Write a short story about a magical forest.\")\n",
    "result"
   ]
  },
  {
   "cell_type": "code",
   "execution_count": 5,
   "id": "1b7314ca",
   "metadata": {},
   "outputs": [
    {
     "data": {
      "text/plain": [
       "[TextMessage(source='user', models_usage=None, content='Write a short story about a magical forest.', type='TextMessage'),\n",
       " TextMessage(source='primary', models_usage=RequestUsage(prompt_tokens=31, completion_tokens=850), content='Once upon a time, in a land not so far from here, there existed a magical forest called Eldergrove. It sprawled over rolling hills, wrapping its gnarled roots around ancient trees, each one more magnificent than the last. Sunlight streamed through the dense canopy, casting a dappled glow on the emerald undergrowth below. The air was imbued with the sweet scent of wildflowers and the hushed whispers of secrets held tightly within the trees.\\n\\nIn this enchanted realm lived Willow, a curious young girl with a wild imagination and a heart full of dreams. With hair the color of autumn leaves and eyes that sparkled like dewdrops on a summer morning, she was drawn to Eldergrove time and time again. Her village lay on the edge of the forest, but the townsfolk warned her to steer clear of its depths, for they believed it to be a place of mystery and enchantment.\\n\\nHowever, Willow could not resist the pull of the forest’s magic. One sunny afternoon, she slipped away from her chores, her feet guiding her along a winding path that only appeared when the sun shone just right. Soon, she found herself in a glade where the trees stood tall as giants, their branches weaving together like a tapestry of green. A soft melody floated through the air, beckoning her further into the heart of Eldergrove.\\n\\nAs she ventured deeper, Willow stumbled upon a shimmering pond. Its waters sparkled with hues of turquoise and gold, and at its edge stood a creature unlike any she had ever seen. A creature with the body of a deer and the wings of a bird, the fae-like being looked up at her with eyes that glinted with mischief. “Welcome, brave soul,” it chimed, its voice a melodic whisper. “I am Liora, guardian of the forest.”\\n\\nWillow gasped, both in awe and disbelief. “You’re real! I thought you were just a story,” she exclaimed.\\n\\n“But every story holds a truth, dear girl,” Liora replied with a twinkle in her eye. “You’ve found your way to the heart of Eldergrove, where magic resides and dreams come to life.” \\n\\nAs Liora flitted around the glade, Willow followed, captivated by the creature’s vibrant magic. They danced between the beams of sunlight, and with every step, wildflowers bloomed underfoot, painting the ground in brilliant colors. With laughter that rang like chimes in the wind, Liora taught Willow the forest’s songs—the songs of the trees, the streams, and the whispers of the wind.\\n\\nIn that wondrous cocoon of nature, time became meaningless. As dusk began to drape the sky in shades of violet and amber, Liora turned to her newly found friend and said, “The magic of Eldergrove is alive in you. You must carry it back to your village. It longs to be shared.”\\n\\nReluctantly, Willow nodded, knowing her heart would forever reside between the trees. She followed Liora to the edge of the forest, where the portal between the worlds blurred with shadows and twilight. “Whenever you need me, just listen for the songs of the forest. I will always be near,” Liora promised, before fading into the gentle glow of the setting sun.\\n\\nBack in her village, Willow shared the tales of her adventure, the magic of Eldergrove flowing from her heart to those around her. The villagers listened, enraptured by her vivid storytelling, and slowly but surely, they began to see the beauty of magic in their everyday lives. Gardens blossomed brighter, laughter echoed louder, and the bonds of community strengthened, all under the watchful gaze of the forest.\\n\\nYears passed, and as Willow grew, so did her connection to Eldergrove. The magical forest remained a place of solace and friendship. Every so often, she would slip away to dance with Liora, to sing with the trees, and to dream of all the wonders yet to come. And in doing so, she understood the true power of magic: that it can flourish in the most unexpected places, waiting patiently for a heart brave enough to believe.', type='TextMessage'),\n",
       " TextMessage(source='critic', models_usage=RequestUsage(prompt_tokens=893, completion_tokens=4), content='APPROVE', type='TextMessage')]"
      ]
     },
     "execution_count": 5,
     "metadata": {},
     "output_type": "execute_result"
    }
   ],
   "source": [
    "result.messages"
   ]
  },
  {
   "cell_type": "markdown",
   "id": "6558ed69",
   "metadata": {},
   "source": [
    "### 2. Streaming Run"
   ]
  },
  {
   "cell_type": "code",
   "execution_count": 8,
   "id": "4b295815",
   "metadata": {},
   "outputs": [
    {
     "name": "stdout",
     "output_type": "stream",
     "text": [
      "user: Write a short story about a magical forest.\n",
      "primary: Once, in a realm hidden beyond the ordinary world, there lay a forest known as Lumina Hollow. It was a place where daylight shimmered with a spectrum of colors, and the air was thick with enchantments. The trees, ancient and wise, stood tall with bark that glimmered as if dusted with stardust. It was said that the forest could reveal one's deepest desires if one listened closely to its whispers.\n",
      "\n",
      "In a nearby village lived a girl named Elara, known for her unruly curls and a heart as adventurous as her spirit. Despite the villagers’ warnings of the forest’s mythical dangers and alluring magic, Elara’s curiosity was an unquenchable flame. One evening, as the sky blushed with hues of orange and pink, she made her decision. With a deep breath and a heart full of anticipation, she slipped away from the village and ventured into Lumina Hollow.\n",
      "\n",
      "The moment Elara crossed the threshold into the forest, she felt a rush of warmth envelop her. Glowing fireflies danced in the air, guiding her deeper into the emerald embrace. The soft rustle of leaves felt like a beckoning hand, and the scent of honeysuckle and fresh earth filled her senses. As she wandered, the canopy above shifted, letting in beams of enchanted light that illuminated her path, revealing hidden trails and secret alcoves.\n",
      "\n",
      "Just as dusk began to cloak the forest, Elara stumbled upon a clearing where a grand crystal fountain sparkled in the twilight. Unlike any water she had ever seen, it flowed with liquid light, intertwining hues of blue, gold, and lavender. Entranced, she approached it, feeling a deep yearning in her heart. \n",
      "\n",
      "From the fountain emerged a figure, ethereal and radiant; it was Aeliana, the Spirit of Lumina Hollow. Her hair flowed like streams of moonlight, and her eyes reflected the stars themselves. “Welcome, dear child,” Aeliana said in a voice that rippled like a soft breeze. “You are brave to seek the magic of this forest.”\n",
      "\n",
      "Elara's voice trembled with excitement and awe. “What is this place? Why does it feel like home?”\n",
      "\n",
      "“This forest is a mirror of your spirit,” Aeliana explained. “It reveals your true desires, granted you approach it with an open heart.” \n",
      "\n",
      "With a swirl of her hand, Aeliana gestured toward the fountain, and its waters shimmered, revealing visions of Elara’s dreams: her aspirations of becoming a renowned storyteller, travelling the world, and transforming lives with her words. The images flickered like firelight, filling Elara with a mix of joy and longing.\n",
      "\n",
      "“See how your heart yearns,” the spirit said gently. “But dreams also demand courage. Are you willing to embrace the journey ahead?”\n",
      "\n",
      "Elara hesitated. Doubts crept into her mind—what if she failed? What if her tales didn’t resonate? Yet, the warmth of the forest and the spirit’s unwavering gaze melted her fears away. “Yes,” she whispered, determination flickering within her heart. “I will embrace it.”\n",
      "\n",
      "Aeliana nodded, and with a wave of her hand, the fountain glowed brighter, enveloping Elara in a cocoon of light. “Your path will be illuminated, and the forest shall guide you,” she promised. “Remember, the magic within you is your greatest tool.”\n",
      "\n",
      "As the light faded, Elara found herself back at the edge of Lumina Hollow, the familiar sights of her village before her. The forest felt different now, as if it had shared a secret with her. Inspired and empowered, she rushed home, ready to pen her stories and share them with the world. \n",
      "\n",
      "Days turned into weeks, and with each tale she spun, the light of Lumina Hollow ignited her words. The villagers gathered, enchanted by the adventures and wisdom she unveiled, and Elara realized that the magic of the forest had seeped into her very being, nourishing her dreams and inspiring those around her.\n",
      "\n",
      "And so, the magical forest continued to thrive, its secrets whispering in the wind, waiting for the next brave soul to discover that magic lies not only in enchanted woods but also within the heart that dares to dream.\n",
      "critic: APPROVE\n",
      "Task completed: Text 'APPROVE' mentioned\n"
     ]
    }
   ],
   "source": [
    "from autogen_agentchat.base import TaskResult\n",
    "\n",
    "# Stream messages as they're generated\n",
    "async for message in team.run_stream(task=\"Write a short story about a magical forest.\"):\n",
    "    if isinstance(message, TaskResult):\n",
    "        print(f\"Task completed: {message.stop_reason}\")\n",
    "    else:\n",
    "        print(f\"{message.source}: {message.content}\")\n"
   ]
  },
  {
   "cell_type": "markdown",
   "id": "1deee231",
   "metadata": {},
   "source": [
    "## Team Types\n",
    "\n",
    "AutoGen provides several team types for different use cases:\n",
    "\n",
    "### 1. RoundRobinGroupChat\n",
    "Agents take turns in a fixed order. Good for structured discussions."
   ]
  },
  {
   "cell_type": "code",
   "execution_count": 5,
   "id": "017e1a86",
   "metadata": {},
   "outputs": [
    {
     "data": {
      "text/plain": [
       "TaskResult(messages=[TextMessage(source='user', models_usage=None, content='Write 3 jokes about the tragedy of life.', type='TextMessage'), TextMessage(source='Writer', models_usage=RequestUsage(prompt_tokens=28, completion_tokens=123), content='Sure! Here are three jokes that touch on the tragedy of life with a humorous twist:\\n\\n1. Why did the nihilist refuse to play cards?\\n   Because he couldn\\'t deal with the hand life dealt him!\\n\\n2. Life is like a rollercoaster—full of ups and downs. \\n   But nobody warned me it would leave me feeling queasy and screaming the whole way!\\n\\n3. They say life is a journey, but mine feels more like a GPS with no signal— \\n   always making wrong turns and asking if I want to reroute to \"disappointment\"!\\n\\nHope you enjoyed these!', type='TextMessage'), TextMessage(source='Editor', models_usage=RequestUsage(prompt_tokens=167, completion_tokens=4), content='APPROVE', type='TextMessage')], stop_reason=\"Text 'APPROVE' mentioned\")"
      ]
     },
     "execution_count": 5,
     "metadata": {},
     "output_type": "execute_result"
    }
   ],
   "source": [
    "agent1 = AssistantAgent(\n",
    "    \"Writer\",\n",
    "    model_client=model_client,\n",
    "    system_message=\"You are a helpful assistant.\"\n",
    ")\n",
    "\n",
    "agent2 = AssistantAgent(\n",
    "    \"Editor\",\n",
    "    model_client=model_client,\n",
    "    system_message=\"You provide constructive feedback on writing. Respond with 'APPROVE' when satisfied.\"\n",
    ")\n",
    "\n",
    "team = RoundRobinGroupChat(\n",
    "    [agent1, agent2],\n",
    "    termination_condition=termination\n",
    ")\n",
    "\n",
    "output = await team.run(task=\"Write 3 jokes about the tragedy of life.\")\n",
    "output"
   ]
  },
  {
   "cell_type": "markdown",
   "id": "78d4c6ac",
   "metadata": {},
   "source": [
    "# SelectorGroupChat \n",
    "[`SelectorGroupChat`](https://microsoft.github.io/autogen/stable/reference/python/autogen_agentchat.teams.html#autogen_agentchat.teams.SelectorGroupChat) is a group chat that uses an AI model to intelligently choose the next speaker based on context.\n",
    "\n",
    " How it works:\n",
    " - When given a task via run() or run_stream():\n",
    "   1. The model analyzes conversation history and agent profiles to pick the next speaker\n",
    "   2. Selected agent provides a response that's shared with all participants \n",
    "   3. Process repeats until termination condition is met\n",
    "\n",
    " Key features:\n",
    " - By default, prevents same speaker twice in a row (override with allow_repeated_speaker=True)\n",
    " - Can use custom selection function instead of default model\n",
    " - Maintains conversation context between tasks\n",
    " - Call reset() to clear conversation history\n",
    " - Returns TaskResult with full conversation when complete"
   ]
  },
  {
   "cell_type": "markdown",
   "id": "4d79725f",
   "metadata": {},
   "source": [
    "### 2. SelectorGroupChat \n",
    "Uses an AI model to dynamically choose the next speaker based on context."
   ]
  },
  {
   "cell_type": "code",
   "execution_count": 7,
   "id": "a8725902",
   "metadata": {},
   "outputs": [],
   "source": [
    "from autogen_agentchat.teams import SelectorGroupChat\n",
    "\n",
    "agent1 = AssistantAgent(\n",
    "    \"Writer\",\n",
    "    model_client=model_client,\n",
    "    system_message=\"You are a creative joke writer.\"\n",
    ")\n",
    "\n",
    "agent2 = AssistantAgent(\n",
    "    \"Editor\",\n",
    "    model_client=model_client,\n",
    "    system_message=\"You take in the score from the Ranker and provide feedback on the jokes in case they are below 5, if not you return with 'APPROVE'.\"\n",
    ")\n",
    "\n",
    "agent3 = AssistantAgent(\n",
    "    \"Ranker\",\n",
    "    model_client=model_client,\n",
    "    system_message=\"You rank the quality of the jokes, giving an overall score from 1 to 10.\"\n",
    ")\n",
    "\n",
    "team = SelectorGroupChat(\n",
    "    participants=[agent1, agent2, agent3],\n",
    "    model_client=model_client,\n",
    "    termination_condition=termination\n",
    ")"
   ]
  },
  {
   "cell_type": "code",
   "execution_count": 8,
   "id": "a158a620",
   "metadata": {},
   "outputs": [],
   "source": [
    "output = await team.run(task=\"Write 3 jokes about the tragedy of life.\")"
   ]
  },
  {
   "cell_type": "code",
   "execution_count": 10,
   "id": "453a15be",
   "metadata": {},
   "outputs": [
    {
     "data": {
      "text/plain": [
       "[TextMessage(source='user', models_usage=None, content='Write 3 jokes about the tragedy of life.', type='TextMessage'),\n",
       " TextMessage(source='Writer', models_usage=RequestUsage(prompt_tokens=29, completion_tokens=127), content='Sure! Here are three jokes that touch on the tragedy of life with a touch of humor:\\n\\n1. Why did the existentialist refuse to play hide and seek?\\n   Because good luck hiding from the reality of life!\\n\\n2. I told my friend I was feeling down about the tragedy of life\\'s fleeting moments.\\n   He said, \"At least they’re fleeting—some people have a habit of dragging it out longer than a soap opera!\"\\n\\n3. Life\\'s like a tragic opera: it has its ups and downs, a lot of drama, and just when you think it’s over—surprise! There’s a sequel!', type='TextMessage'),\n",
       " TextMessage(source='Editor', models_usage=RequestUsage(prompt_tokens=187, completion_tokens=179), content=\"The jokes you provided have a clever twist, but they might not resonate with everyone and could be seen as a bit dark. Here’s feedback on each:\\n\\n1. The play on existentialism is an interesting angle; however, the punchline may not deliver a strong enough laugh for some. A more relatable twist might enhance the humor.\\n\\n2. This joke has potential, but it may require a more polished punchline. The comparison to soap operas is a good start, but it could be sharpened for greater impact.\\n\\n3. The analogy of life to a tragic opera is creative, but the surprise about the sequel might feel a bit cliché. A fresher ending could enhance the humor.\\n\\nOverall, I'd recommend refining these jokes a bit more for clarity and punch. If you can incorporate clearer setups and punchlines, they might land better! So, the response is: 4.\", type='TextMessage'),\n",
       " TextMessage(source='Ranker', models_usage=RequestUsage(prompt_tokens=357, completion_tokens=145), content='I appreciate the feedback! Here’s a revised take on the jokes that might resonate better:\\n\\n1. Why did the existentialist stop throwing parties?\\n   Because every time they invited people over, they realized nobody was truly coming—just like life!\\n\\n2. I told my therapist I was worried about life\\'s tragedies dragging on indefinitely.\\n   He said, \"Don\\'t worry. Life\\'s like a bad movie—eventually, it gets cancelled!\"\\n\\n3. Life is like a tragic opera: just when you think you can finally relax, someone throws in a plot twist, and suddenly you\\'re back on stage!\\n\\nLet me know what you think of these revisions! Overall score for the initial jokes: 4. Revised jokes: 6.', type='TextMessage'),\n",
       " TextMessage(source='Writer', models_usage=RequestUsage(prompt_tokens=497, completion_tokens=136), content='Great revisions! These jokes have improved clarity and punch. Here’s my feedback:\\n\\n1. This joke has a strong premise, and the existential twist adds depth while keeping it light. The punchline definitely has a more relatable touch. Score: 7.\\n\\n2. Love the comparison to a bad movie! It gives the audience a more humorous association with life’s struggles. This transformation really heightens the comedic effect. Score: 8.\\n\\n3. The revised version of the tragic opera analogy hits better with the added twist. It’s relatable and maintains a clever connection to life’s unpredictability. Score: 7.\\n\\nOverall, the revisions definitely resonate more! Great job!', type='TextMessage'),\n",
       " TextMessage(source='Ranker', models_usage=RequestUsage(prompt_tokens=650, completion_tokens=84), content=\"Thank you for the kind words and thoughtful feedback! I'm glad the revisions resonated more with you. Here’s a quick summary of the scores:\\n\\n1. Joke 1: 7\\n2. Joke 2: 8\\n3. Joke 3: 7\\n\\nOverall, I appreciate the opportunity to refine the jokes! If you have any more requests or need further assistance, feel free to ask!\", type='TextMessage'),\n",
       " TextMessage(source='Editor', models_usage=RequestUsage(prompt_tokens=754, completion_tokens=4), content='APPROVE', type='TextMessage')]"
      ]
     },
     "execution_count": 10,
     "metadata": {},
     "output_type": "execute_result"
    }
   ],
   "source": [
    "output.messages"
   ]
  },
  {
   "cell_type": "markdown",
   "id": "656bb065",
   "metadata": {},
   "source": [
    "### 3. Swarm\n",
    "\n",
    "Agents communicate through explicit handoffs, allowing targeted interactions.\n",
    "\n",
    "See the [docs for more infor on this advanced multi-agent pattern.](https://microsoft.github.io/autogen/stable/user-guide/agentchat-user-guide/swarm.html) "
   ]
  },
  {
   "cell_type": "markdown",
   "id": "d68875d4",
   "metadata": {},
   "source": [
    "## Best Practices\n",
    "\n",
    "1. Choose the right team type for your use case:\n",
    "   - RoundRobinGroupChat for structured, turn-based interactions\n",
    "   - SelectorGroupChat for dynamic, context-aware speaker selection\n",
    "   - Swarm for explicit handoffs between agents\n",
    "\n",
    "2. Use appropriate termination conditions:\n",
    "   - TextMentionTermination for keyword-based stopping\n",
    "   - MaxMessageTermination for limiting conversation length\n",
    "   - ExternalTermination for manual control\n",
    "\n",
    "3. Reset teams between unrelated tasks to clear conversation history\n",
    "\n",
    "4. Use streaming for real-time monitoring of team interactions\n",
    "\n",
    "5. Start with simple teams and add complexity as needed\n",
    "\n",
    "Remember that teams add overhead compared to single agents, so use them only when the task complexity justifies multi-agent collaboration."
   ]
  }
 ],
 "metadata": {
  "kernelspec": {
   "display_name": "oreilly-autogen",
   "language": "python",
   "name": "oreilly-autogen"
  },
  "language_info": {
   "codemirror_mode": {
    "name": "ipython",
    "version": 3
   },
   "file_extension": ".py",
   "mimetype": "text/x-python",
   "name": "python",
   "nbconvert_exporter": "python",
   "pygments_lexer": "ipython3",
   "version": "3.11.11"
  }
 },
 "nbformat": 4,
 "nbformat_minor": 5
}
