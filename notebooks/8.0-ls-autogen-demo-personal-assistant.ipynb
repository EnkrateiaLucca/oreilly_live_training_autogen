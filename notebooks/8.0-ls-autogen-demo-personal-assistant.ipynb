{
 "cells": [
  {
   "cell_type": "markdown",
   "metadata": {},
   "source": [
    "For a personal assistant the type of assistant we want likely depends\n",
    "on the type of activity we do, someone who works with movies will have a \n",
    "set of very different requirements than someone who works with software engineering and so on and so forth.\n",
    "\n",
    "However, we can always think about a common set of tasks that we usually perform daily that are more or less general, things like:\n",
    "\n",
    "- File management\n",
    "- Content processing (reading, summarizing, taking notes)\n",
    "- Performing low level or higher level research\n",
    "- Certain forms of writing\n",
    "- Reading through emails and crafting emails or linkedIn messages etc..."
   ]
  },
  {
   "cell_type": "markdown",
   "metadata": {},
   "source": [
    "Let's imagine this scenario:\n",
    "\n",
    "We'll always start with some trigger (message from work, jira issue or whatever input) that should be associated with the execution of a task or multiple tasks.\n",
    "\n",
    "This task should be broken down into an execution flow, for example:\n",
    "\n",
    "- Task: 'Lucas I need you to test this functionality from an open source framework X. This is the repo: www.github.com/fake/repo.'\n",
    "- Execution flow:\n",
    "    - Go to repo\n",
    "    - Read the readme and find instalation instructions\n",
    "    - Execute instalation instructions\n",
    "    - Test the repo according to specifications (if they exist)\n",
    "    - Write a report\n",
    "    - Send that report for analysis and validation (to yourself or to another examiner agent)\n",
    "    - After validation send the final report to contact X. "
   ]
  },
  {
   "cell_type": "markdown",
   "metadata": {},
   "source": [
    "Ok, now that we have this overall general picture. Let's see how we can translate that into useful agents built with AutoGen."
   ]
  },
  {
   "cell_type": "markdown",
   "metadata": {},
   "source": [
    "The first thing to keep in mind that such a personal assistant would have to have access to our personal information, so we first need a way to 'teach it' \n",
    "about us and the important stuff that it should know to be able to execute the tasks to an acceptable degree satisfaction.\n",
    "\n",
    "For that let's use autogen's `Teachable` class."
   ]
  },
  {
   "cell_type": "code",
   "execution_count": 2,
   "metadata": {},
   "outputs": [],
   "source": [
    "from autogen import config_list_from_json\n",
    "\n",
    "import autogen\n",
    "\n",
    "llm_config = {\n",
    "    \"timeout\": 600,\n",
    "    \"cache_seed\": 44,  # change the seed for different trials\n",
    "    \"config_list\": autogen.config_list_from_json(\n",
    "        \"OAI_CONFIG_LIST\",\n",
    "        filter_dict={\"model\": [\"gpt-4\"]},\n",
    "    ),\n",
    "    \"temperature\": 0,\n",
    "}"
   ]
  },
  {
   "cell_type": "code",
   "execution_count": 4,
   "metadata": {},
   "outputs": [],
   "source": [
    "import autogen\n",
    "from autogen import ConversableAgent, UserProxyAgent\n",
    "from autogen.agentchat.contrib.capabilities.teachability import Teachability"
   ]
  },
  {
   "cell_type": "code",
   "execution_count": 5,
   "metadata": {},
   "outputs": [],
   "source": [
    "teachable_agent = ConversableAgent(\n",
    "    name=\"teachable_agent\",\n",
    "    llm_config=llm_config\n",
    ")"
   ]
  },
  {
   "cell_type": "code",
   "execution_count": 6,
   "metadata": {},
   "outputs": [
    {
     "name": "stdout",
     "output_type": "stream",
     "text": [
      "\u001b[92m\n",
      "CLEARING MEMORY\u001b[0m\n"
     ]
    }
   ],
   "source": [
    "teachability = Teachability(\n",
    "    verbosity=0,\n",
    "    reset_db=True,\n",
    "    path_to_db_dir=\"./tmp/notebook/teachability_db\",\n",
    "    recall_threshold=1.5\n",
    ")\n",
    "\n",
    "teachability.add_to_agent(teachable_agent)"
   ]
  },
  {
   "cell_type": "code",
   "execution_count": 7,
   "metadata": {},
   "outputs": [],
   "source": [
    "try:\n",
    "    from termcolor import colored\n",
    "except ImportError:\n",
    "\n",
    "    def colored(x, *args, **kwargs):\n",
    "        return x\n"
   ]
  },
  {
   "cell_type": "code",
   "execution_count": 19,
   "metadata": {},
   "outputs": [],
   "source": [
    "user = UserProxyAgent(\n",
    "    name=\"user\",\n",
    "    human_input_mode=\"NEVER\",\n",
    "    is_termination_msg=lambda x: True if \"TERMINATE\" in x.get(\"content\") else False,\n",
    "    max_consecutive_auto_reply=0,\n",
    "    code_execution_config={\n",
    "        \"work_dir\": \"work_dir\",\n",
    "        \"use_docker\": True,\n",
    "    },\n",
    ") "
   ]
  },
  {
   "cell_type": "code",
   "execution_count": 20,
   "metadata": {},
   "outputs": [
    {
     "name": "stdout",
     "output_type": "stream",
     "text": [
      "\u001b[33muser\u001b[0m (to teachable_agent):\n",
      "\n",
      "I do all my code development in a folder named code-stuff located here: './code-stuff'\n",
      "\n",
      "--------------------------------------------------------------------------------\n",
      "\u001b[31m\n",
      ">>>>>>>> USING AUTO REPLY...\u001b[0m\n",
      "\u001b[33mteachable_agent\u001b[0m (to user):\n",
      "\n",
      "That's great! I'll remember that you do all your code development in the './code-stuff' folder. You're currently working on image-classification for client1, technical-writing for client2, llm-automations for client3, and a side project about leveraging large language models. If you need any assistance with these projects, feel free to ask!\n",
      "\n",
      "--------------------------------------------------------------------------------\n"
     ]
    }
   ],
   "source": [
    "fact1 = \"I do all my code development in a folder named code-stuff located here: './code-stuff'\"\n",
    "user.initiate_chat(teachable_agent, message=fact1, clear_history=False)"
   ]
  },
  {
   "cell_type": "code",
   "execution_count": 21,
   "metadata": {},
   "outputs": [
    {
     "name": "stdout",
     "output_type": "stream",
     "text": [
      "\u001b[33muser\u001b[0m (to teachable_agent):\n",
      "\n",
      "Currently my active projects are: image-classification for client1; technical-writing for client2; llm-automations for client3.\n",
      "\n",
      "--------------------------------------------------------------------------------\n",
      "\u001b[31m\n",
      ">>>>>>>> USING AUTO REPLY...\u001b[0m\n",
      "\u001b[33mteachable_agent\u001b[0m (to user):\n",
      "\n",
      "I understand that you're currently working on several projects, including an image-classification task for client1. This task involves training a PyTorch model to classify images of cats and dogs using publicly available datasets. You're also expected to write all the necessary scripts and a short report, which should be saved as 'report.txt' in the appropriate folder. \n",
      "\n",
      "Your code development is done in the './code-stuff' folder. If you need any assistance with these tasks, feel free to ask!\n",
      "\n",
      "--------------------------------------------------------------------------------\n"
     ]
    }
   ],
   "source": [
    "fact2 = \"Currently my active projects are: image-classification for client1; technical-writing for client2; llm-automations for client3.\"\n",
    "user.initiate_chat(teachable_agent, message=fact2, clear_history=False)"
   ]
  },
  {
   "cell_type": "code",
   "execution_count": 22,
   "metadata": {},
   "outputs": [
    {
     "name": "stdout",
     "output_type": "stream",
     "text": [
      "\u001b[33muser\u001b[0m (to teachable_agent):\n",
      "\n",
      "Client1 just requested the following: 'Lucas, train a pytorch model for classifying images of cats and dogs. You can use publicly available datasets. I need it by next week.'    Create a folder in the proper location and write all the scripts necessary to finish this task. Then, write a short report as report.txt in the proper folder.\n",
      "\n",
      "--------------------------------------------------------------------------------\n",
      "\u001b[31m\n",
      ">>>>>>>> USING AUTO REPLY...\u001b[0m\n",
      "\u001b[33mteachable_agent\u001b[0m (to user):\n",
      "\n",
      "I understand that Client1 has requested you to train a PyTorch model for classifying images of cats and dogs using publicly available datasets. You need to complete this task by next week. \n",
      "\n",
      "To organize your work, you should create a new folder in the appropriate location, which is './code-stuff' as per your previous instructions. In this folder, you will write all the necessary scripts for the task. \n",
      "\n",
      "Once the task is completed, you are also required to write a short report detailing the process and results. This report should be saved as 'report.txt' in the same folder. \n",
      "\n",
      "If you need any help with these tasks, feel free to ask!\n",
      "\n",
      "--------------------------------------------------------------------------------\n"
     ]
    }
   ],
   "source": [
    "fake_request = \"\"\"Client1 just requested the following: 'Lucas, train a pytorch model for classifying images of cats and dogs. You can use publicly available datasets. I need it by next week.'\\\n",
    "    Create a folder in the proper location and write all the scripts necessary to finish this task. Then, write a short report as report.txt in the proper folder.\"\"\"\n",
    "user.initiate_chat(teachable_agent, message=fake_request, clear_history=False)"
   ]
  },
  {
   "cell_type": "markdown",
   "metadata": {},
   "source": [
    "As we can see the agent incorporates the information provided during the \"teaching\" portion of the workflow in order to properly execute the tasks as desired."
   ]
  },
  {
   "cell_type": "code",
   "execution_count": 23,
   "metadata": {},
   "outputs": [
    {
     "name": "stdout",
     "output_type": "stream",
     "text": [
      "\u001b[33muser\u001b[0m (to teachable_agent):\n",
      "\n",
      "I am currently working on a side project about how to leverage large language models to augment human capabilities and problem solving skills.\n",
      "\n",
      "--------------------------------------------------------------------------------\n",
      "\u001b[31m\n",
      ">>>>>>>> USING AUTO REPLY...\u001b[0m\n",
      "\u001b[33mteachable_agent\u001b[0m (to user):\n",
      "\n",
      "I remember that you're working on a side project about leveraging large language models to augment human capabilities and problem-solving skills. This is in addition to your active projects for various clients, which include image-classification for client1, technical-writing for client2, and llm-automations for client3. All your code development is done in the './code-stuff' folder. If you need any assistance with these projects or your side project, feel free to ask!\n",
      "\n",
      "--------------------------------------------------------------------------------\n"
     ]
    }
   ],
   "source": [
    "fact3 = \"I am currently working on a side project about how to leverage large language models to augment human capabilities and problem solving skills.\"\n",
    "\n",
    "user.initiate_chat(teachable_agent, message=fact3, clear_history=False)"
   ]
  },
  {
   "cell_type": "code",
   "execution_count": 24,
   "metadata": {},
   "outputs": [
    {
     "name": "stdout",
     "output_type": "stream",
     "text": [
      "\u001b[33muser\u001b[0m (to teachable_agent):\n",
      "\n",
      "Research 10 interesting arxiv papers for me related to the side project I am currently working on.\n",
      "\n",
      "--------------------------------------------------------------------------------\n",
      "\u001b[31m\n",
      ">>>>>>>> USING AUTO REPLY...\u001b[0m\n",
      "\u001b[33mteachable_agent\u001b[0m (to user):\n",
      "\n",
      "Sure, here are 10 interesting papers from arXiv that are related to leveraging large language models to augment human capabilities and problem-solving skills:\n",
      "\n",
      "1. \"Language Models are Few-Shot Learners\" by Tom B. Brown et al.\n",
      "2. \"GPT-3: Language Models and Their Implications\" by Ethan Perez et al.\n",
      "3. \"Transformers are RNNs: Fast Autoregressive Transformers with Linear Attention\" by Angelos Katharopoulos et al.\n",
      "4. \"Exploring the Limits of Transfer Learning with a Unified Text-to-Text Transformer\" by Colin Raffel et al.\n",
      "5. \"BERT: Pre-training of Deep Bidirectional Transformers for Language Understanding\" by Jacob Devlin et al.\n",
      "6. \"The Illustrated Transformer\" by Jay Alammar.\n",
      "7. \"Attention is All You Need\" by Ashish Vaswani et al.\n",
      "8. \"XLNet: Generalized Autoregressive Pretraining for Language Understanding\" by Zhilin Yang et al.\n",
      "9. \"RoBERTa: A Robustly Optimized BERT Pretraining Approach\" by Yinhan Liu et al.\n",
      "10. \"ELECTRA: Pre-training Text Encoders as Discriminators Rather Than Generators\" by Kevin Clark et al.\n",
      "\n",
      "These papers should provide a good starting point for your research on how to leverage large language models to augment human capabilities and problem-solving skills.\n",
      "\n",
      "--------------------------------------------------------------------------------\n"
     ]
    }
   ],
   "source": [
    "fake_request2 = \"Research 10 interesting arxiv papers for me related to the side project I am currently working on.\"\n",
    "user.initiate_chat(teachable_agent, message=fake_request2, clear_history=False)"
   ]
  }
 ],
 "metadata": {
  "kernelspec": {
   "display_name": "oreilly-autogen",
   "language": "python",
   "name": "oreilly-autogen"
  },
  "language_info": {
   "codemirror_mode": {
    "name": "ipython",
    "version": 3
   },
   "file_extension": ".py",
   "mimetype": "text/x-python",
   "name": "python",
   "nbconvert_exporter": "python",
   "pygments_lexer": "ipython3",
   "version": "3.10.13"
  }
 },
 "nbformat": 4,
 "nbformat_minor": 2
}
