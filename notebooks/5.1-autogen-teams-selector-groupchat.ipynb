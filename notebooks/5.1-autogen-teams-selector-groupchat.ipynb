{
 "cells": [
  {
   "cell_type": "markdown",
   "id": "653f012f",
   "metadata": {},
   "source": [
    "# Using AutoGen's Selector Group Chat for Multi-Agent Collaboration\n",
    "\n",
    "This lesson demonstrates how to use AutoGen's SelectorGroupChat to create a dynamic multi-agent system where agents collaborate to solve complex tasks. We'll create a sports statistics analysis system as an example."
   ]
  },
  {
   "cell_type": "code",
   "execution_count": 1,
   "id": "9446f6f9",
   "metadata": {},
   "outputs": [],
   "source": [
    "import os\n",
    "import getpass\n",
    "\n",
    "def _set_env(var: str):\n",
    "    if not os.environ.get(var):\n",
    "        os.environ[var] = getpass.getpass(f\"{var}: \")\n",
    "\n",
    "_set_env(\"OPENAI_API_KEY\")"
   ]
  },
  {
   "cell_type": "code",
   "execution_count": null,
   "id": "7e8d652b",
   "metadata": {},
   "outputs": [],
   "source": [
    "from typing import Sequence\n",
    "from autogen import AssistantAgent, SelectorGroupChat\n",
    "from autogen.agentchat.contrib.text_analyzer_agent import TextAnalyzerAgent\n",
    "from autogen.agentchat.conditions import MaxMessageTermination, TextMentionTermination\n",
    "\n",
    "# Mock tools for demonstration\n",
    "def search_sports_stats(query: str) -> str:\n",
    "    stats_db = {\n",
    "        \"lebron_2020\": \"LeBron James 2020-21 stats: 25.0 PPG, 7.7 RPG, 7.8 APG\",\n",
    "        \"curry_2021\": \"Stephen Curry 2021-22 stats: 25.5 PPG, 5.2 RPG, 6.3 APG\",\n",
    "        \"durant_2022\": \"Kevin Durant 2022-23 stats: 29.1 PPG, 6.7 RPG, 5.0 APG\"\n",
    "    }\n",
    "    return stats_db.get(query.lower().replace(\" \", \"_\"), \"No stats found.\")\n",
    "\n",
    "def calculate_efficiency(points: float, rebounds: float, assists: float) -> float:\n",
    "    return (points + rebounds * 1.2 + assists * 1.5) / 3\n",
    "\n",
    "# Create specialized agents\n",
    "planning_agent = AssistantAgent(\n",
    "    name=\"PlanningAgent\",\n",
    "    description=\"Strategic coordinator that breaks down tasks and manages workflow\",\n",
    "    system_message=\"\"\"You are a planning specialist. Your role is to:\n",
    "    1. Break down complex tasks into subtasks\n",
    "    2. Assign tasks to appropriate team members\n",
    "    3. Monitor progress and ensure task completion\n",
    "    4. Summarize findings\n",
    "    \n",
    "    End your final summary with 'TASK_COMPLETE'.\"\"\"\n",
    ")\n",
    "\n",
    "stats_agent = AssistantAgent(\n",
    "    name=\"StatsAgent\",\n",
    "    description=\"Sports statistics expert with access to historical data\",\n",
    "    system_message=\"You are a sports statistics expert. Use the search_sports_stats tool to find player statistics.\",\n",
    "    tools=[search_sports_stats]\n",
    ")\n",
    "\n",
    "analysis_agent = AssistantAgent(\n",
    "    name=\"AnalysisAgent\", \n",
    "    description=\"Analytics specialist that processes statistical data\",\n",
    "    system_message=\"You are an analytics expert. Use the calculate_efficiency tool to analyze player performance.\",\n",
    "    tools=[calculate_efficiency]\n",
    ")\n",
    "\n",
    "# Create termination conditions\n",
    "termination = TextMentionTermination(\"TASK_COMPLETE\") | MaxMessageTermination(max_messages=15)\n",
    "\n",
    "# Custom selector function to ensure Planning Agent reviews after each action\n",
    "def selector_func(messages: Sequence[str]) -> str | None:\n",
    "    if messages[-1].source != planning_agent.name:\n",
    "        return planning_agent.name\n",
    "    return None\n",
    "\n",
    "# Initialize the group chat\n",
    "team = SelectorGroupChat(\n",
    "    agents=[planning_agent, stats_agent, analysis_agent],\n",
    "    selector_func=selector_func,\n",
    "    termination_condition=termination,\n",
    "    max_round=5\n",
    ")\n",
    "\n",
    "# Example task\n",
    "async def analyze_player_performance(player_name: str, season: str):\n",
    "    task = f\"Analyze {player_name}'s performance in the {season} season. Calculate their efficiency rating.\"\n",
    "    result = await team.run(task)\n",
    "    return result\n",
    "\n",
    "# Usage example\n",
    "\n",
    "import asyncio\n",
    "\n",
    "async def main():\n",
    "    result = await analyze_player_performance(\"LeBron James\", \"2020-21\")\n",
    "    print(result)\n",
    "\n",
    "asyncio.run(main())"
   ]
  },
  {
   "cell_type": "markdown",
   "id": "309f9db8",
   "metadata": {},
   "source": [
    "This example demonstrates several key concepts:\n",
    "\n",
    "1. **Agent Specialization**: We create three specialized agents:\n",
    "   - Planning Agent: Coordinates the workflow\n",
    "   - Stats Agent: Handles data retrieval\n",
    "   - Analysis Agent: Processes statistics\n",
    "\n",
    "2. **Custom Tools**: We implement mock tools for demonstration:\n",
    "   - `search_sports_stats`: Simulates a sports statistics database\n",
    "   - `calculate_efficiency`: Computes a player efficiency rating\n",
    "\n",
    "3. **Selector Function**: A custom selector ensures the Planning Agent reviews after each action:"
   ]
  },
  {
   "cell_type": "code",
   "execution_count": null,
   "id": "8b3b726e",
   "metadata": {},
   "outputs": [],
   "source": [
    "def selector_func(messages: Sequence[str]) -> str | None:\n",
    "    if messages[-1].source != planning_agent.name:\n",
    "        return planning_agent.name\n",
    "    return None"
   ]
  },
  {
   "cell_type": "markdown",
   "id": "19c6b65e",
   "metadata": {},
   "source": [
    "4. **Termination Conditions**: We use two conditions:\n",
    "   - Text mention of \"TASK_COMPLETE\"\n",
    "   - Maximum message limit of 15\n",
    "\n",
    "5. **Group Chat Configuration**: The SelectorGroupChat is initialized with:\n",
    "   - List of agents\n",
    "   - Custom selector function\n",
    "   - Termination conditions\n",
    "   - Maximum rounds\n",
    "\n",
    "To use this system:"
   ]
  },
  {
   "cell_type": "code",
   "execution_count": null,
   "id": "fcc3dd37",
   "metadata": {},
   "outputs": [],
   "source": [
    "# Example task execution\n",
    "async def main():\n",
    "    result = await analyze_player_performance(\"LeBron James\", \"2020-21\")\n",
    "    print(result)\n",
    "\n",
    "asyncio.run(main())"
   ]
  },
  {
   "cell_type": "markdown",
   "id": "76363033",
   "metadata": {},
   "source": [
    "The agents will collaborate to:\n",
    "1. Retrieve player statistics\n",
    "2. Calculate efficiency ratings\n",
    "3. Provide analysis and insights\n",
    "4. Summarize findings\n",
    "\n",
    "This implementation demonstrates how AutoGen's SelectorGroupChat can create sophisticated multi-agent systems with dynamic task allocation and structured workflows."
   ]
  }
 ],
 "metadata": {
  "kernelspec": {
   "display_name": "oreilly-autogen",
   "language": "python",
   "name": "oreilly-autogen"
  },
  "language_info": {
   "codemirror_mode": {
    "name": "ipython",
    "version": 3
   },
   "file_extension": ".py",
   "mimetype": "text/x-python",
   "name": "python",
   "nbconvert_exporter": "python",
   "pygments_lexer": "ipython3",
   "version": "3.11.9"
  }
 },
 "nbformat": 4,
 "nbformat_minor": 5
}
