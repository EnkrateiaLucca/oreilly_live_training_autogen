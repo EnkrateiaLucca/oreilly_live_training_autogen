{
 "cells": [
  {
   "cell_type": "markdown",
   "metadata": {},
   "source": [
    "# RSS Feed Agent\n",
    "\n",
    "1. Write up the tools necessary to:\n",
    "   1. Search websites for new info\n",
    "   2. Write an organized report to a file\n",
    "2. Write up the agents and setup their communication\n",
    "3. Test the pipeline"
   ]
  },
  {
   "cell_type": "code",
   "execution_count": 1,
   "metadata": {},
   "outputs": [],
   "source": [
    "import os\n",
    "import getpass\n",
    "\n",
    "def _set_env(var: str):\n",
    "    if not os.environ.get(var):\n",
    "        os.environ[var] = getpass.getpass(f\"var: \")\n",
    "\n",
    "_set_env(\"OPENAI_API_KEY\")"
   ]
  },
  {
   "cell_type": "code",
   "execution_count": 1,
   "metadata": {},
   "outputs": [],
   "source": [
    "import requests\n",
    "from bs4 import BeautifulSoup\n",
    "import time\n",
    "\n",
    "\n",
    "def google_search(query: str, num_results: int = 2, max_chars: int = 500) -> list:\n",
    "    import requests\n",
    "    from bs4 import BeautifulSoup\n",
    "    import time\n",
    "    \n",
    "    url = \"https://customsearch.googleapis.com/customsearch/v1\"\n",
    "    params = {\n",
    "        \"key\": os.environ[\"GOOGLE_API_KEY\"],\n",
    "        \"cx\": os.environ[\"GOOGLE_CSE_ID\"],\n",
    "        \"q\": query,\n",
    "        \"num\": num_results\n",
    "    }\n",
    "    \n",
    "    response = requests.get(url, params=params)\n",
    "    \n",
    "    if response.status_code != 200:\n",
    "        raise Exception(f\"Error in API request: {response.status_code}\")\n",
    "        \n",
    "    results = response.json().get(\"items\", [])\n",
    "    \n",
    "    def get_page_content(url: str) -> str:\n",
    "        try:\n",
    "            response = requests.get(url, timeout=10)\n",
    "            soup = BeautifulSoup(response.content, \"html.parser\")\n",
    "            text = soup.get_text(separator=\" \", strip=True)\n",
    "            return text[:max_chars]\n",
    "        except Exception as e:\n",
    "            print(f\"Error fetching {url}: {str(e)}\")\n",
    "            return \"\"\n",
    "            \n",
    "    enriched_results = []\n",
    "    for item in results:\n",
    "        body = get_page_content(item[\"link\"])\n",
    "        enriched_results.append({\n",
    "            \"title\": item[\"title\"],\n",
    "            \"link\": item[\"link\"], \n",
    "            \"snippet\": item[\"snippet\"],\n",
    "            \"body\": body\n",
    "        })\n",
    "        time.sleep(1)\n",
    "        \n",
    "    return enriched_results"
   ]
  },
  {
   "cell_type": "code",
   "execution_count": 3,
   "metadata": {},
   "outputs": [
    {
     "ename": "Exception",
     "evalue": "Error in API request: 400",
     "output_type": "error",
     "traceback": [
      "\u001b[31m---------------------------------------------------------------------------\u001b[39m",
      "\u001b[31mException\u001b[39m                                 Traceback (most recent call last)",
      "\u001b[36mCell\u001b[39m\u001b[36m \u001b[39m\u001b[32mIn[3]\u001b[39m\u001b[32m, line 3\u001b[39m\n\u001b[32m      1\u001b[39m \u001b[38;5;28;01mimport\u001b[39;00m\u001b[38;5;250m \u001b[39m\u001b[34;01mos\u001b[39;00m\n\u001b[32m----> \u001b[39m\u001b[32m3\u001b[39m output = \u001b[43mgoogle_search\u001b[49m\u001b[43m(\u001b[49m\u001b[33;43m\"\u001b[39;49m\u001b[33;43mhacker news AI\u001b[39;49m\u001b[33;43m\"\u001b[39;49m\u001b[43m)\u001b[49m\n",
      "\u001b[36mCell\u001b[39m\u001b[36m \u001b[39m\u001b[32mIn[1]\u001b[39m\u001b[32m, line 22\u001b[39m, in \u001b[36mgoogle_search\u001b[39m\u001b[34m(query, num_results, max_chars)\u001b[39m\n\u001b[32m     19\u001b[39m response = requests.get(url, params=params)\n\u001b[32m     21\u001b[39m \u001b[38;5;28;01mif\u001b[39;00m response.status_code != \u001b[32m200\u001b[39m:\n\u001b[32m---> \u001b[39m\u001b[32m22\u001b[39m     \u001b[38;5;28;01mraise\u001b[39;00m \u001b[38;5;167;01mException\u001b[39;00m(\u001b[33mf\u001b[39m\u001b[33m\"\u001b[39m\u001b[33mError in API request: \u001b[39m\u001b[38;5;132;01m{\u001b[39;00mresponse.status_code\u001b[38;5;132;01m}\u001b[39;00m\u001b[33m\"\u001b[39m)\n\u001b[32m     24\u001b[39m results = response.json().get(\u001b[33m\"\u001b[39m\u001b[33mitems\u001b[39m\u001b[33m\"\u001b[39m, [])\n\u001b[32m     26\u001b[39m \u001b[38;5;28;01mdef\u001b[39;00m\u001b[38;5;250m \u001b[39m\u001b[34mget_page_content\u001b[39m(url: \u001b[38;5;28mstr\u001b[39m) -> \u001b[38;5;28mstr\u001b[39m:\n",
      "\u001b[31mException\u001b[39m: Error in API request: 400"
     ]
    }
   ],
   "source": [
    "import os\n",
    "\n",
    "output = google_search(\"hacker news AI\")"
   ]
  },
  {
   "cell_type": "code",
   "execution_count": 4,
   "metadata": {},
   "outputs": [
    {
     "ename": "NameError",
     "evalue": "name 'output' is not defined",
     "output_type": "error",
     "traceback": [
      "\u001b[31m---------------------------------------------------------------------------\u001b[39m",
      "\u001b[31mNameError\u001b[39m                                 Traceback (most recent call last)",
      "\u001b[36mCell\u001b[39m\u001b[36m \u001b[39m\u001b[32mIn[4]\u001b[39m\u001b[32m, line 1\u001b[39m\n\u001b[32m----> \u001b[39m\u001b[32m1\u001b[39m \u001b[38;5;28;01mfor\u001b[39;00m result \u001b[38;5;129;01min\u001b[39;00m \u001b[43moutput\u001b[49m:\n\u001b[32m      2\u001b[39m     \u001b[38;5;28mprint\u001b[39m(result)\n",
      "\u001b[31mNameError\u001b[39m: name 'output' is not defined"
     ]
    }
   ],
   "source": [
    "for result in output:\n",
    "    print(result)"
   ]
  },
  {
   "cell_type": "code",
   "execution_count": 5,
   "metadata": {},
   "outputs": [],
   "source": [
    "def write_report(summary_insights: str, report_file: str):\n",
    "    \"\"\"\n",
    "    Write a summary of the insights to a file\n",
    "    \"\"\"\n",
    "    with open(report_file, \"w\") as f:\n",
    "        f.write(summary_insights)\n",
    "\n",
    "write_report(\"AI is the future\", \"report.txt\")"
   ]
  },
  {
   "cell_type": "code",
   "execution_count": 6,
   "metadata": {},
   "outputs": [],
   "source": [
    "from autogen_core.tools import FunctionTool\n",
    "\n",
    "search_tool = FunctionTool(\n",
    "    func=google_search,\n",
    "    name=\"search_tool\",\n",
    "    description=\"Search the web for information\",\n",
    ")\n",
    "\n",
    "write_report_tool = FunctionTool(\n",
    "    func=write_report,\n",
    "    name=\"write_report_tool\",\n",
    "    description=\"Write a summary of the insights to a file\",\n",
    ")\n"
   ]
  },
  {
   "cell_type": "markdown",
   "metadata": {},
   "source": [
    "# Let's build out Agents!"
   ]
  },
  {
   "cell_type": "markdown",
   "metadata": {},
   "source": [
    "We'll have 3 agents:\n",
    "1. To Search the web\n",
    "2. The extract insights from web results\n",
    "3. Write those insights to file"
   ]
  },
  {
   "cell_type": "code",
   "execution_count": 7,
   "metadata": {},
   "outputs": [],
   "source": [
    "from autogen_agentchat.agents import AssistantAgent\n",
    "from autogen_ext.models.openai import OpenAIChatCompletionClient\n",
    "from autogen_core import CancellationToken"
   ]
  },
  {
   "cell_type": "code",
   "execution_count": 8,
   "metadata": {},
   "outputs": [],
   "source": [
    "search_agent = AssistantAgent(\n",
    "    name=\"search_agent\",\n",
    "    model_client=OpenAIChatCompletionClient(\n",
    "        model=\"gpt-4o\",\n",
    "    ),\n",
    "    system_message=\"You research the web for information and you communicate your findings to the insights_agent\",\n",
    "    tools=[search_tool],\n",
    ")\n",
    "\n",
    "model_client_structured = OpenAIChatCompletionClient(\n",
    "    model=\"gpt-4o\",\n",
    "    response_format={\"type\": \"json_object\"},\n",
    ")\n",
    "\n",
    "insights_agent = AssistantAgent(\n",
    "    name=\"insights_agent\",\n",
    "    model_client=model_client_structured,\n",
    "    system_message=\"You 10 extract insights from the web results and you communicate your findings to the write_report_agent using a json structure.\",\n",
    ")\n",
    "\n",
    "write_report_agent = AssistantAgent(\n",
    "    name=\"write_report_agent\",\n",
    "    model_client=OpenAIChatCompletionClient(\n",
    "        model=\"gpt-4o\",\n",
    "    ),\n",
    "    system_message=\"You write a report from the insights provided by the insights_agent using the write_report_tool. You always output\\\n",
    "        the word 'DONE' when you are finished.\",\n",
    "    tools=[write_report_tool],\n",
    ")"
   ]
  },
  {
   "cell_type": "code",
   "execution_count": 9,
   "metadata": {},
   "outputs": [],
   "source": [
    "cancellation_token = CancellationToken()"
   ]
  },
  {
   "cell_type": "code",
   "execution_count": 10,
   "metadata": {},
   "outputs": [],
   "source": [
    "from autogen_agentchat.conditions import TextMentionTermination"
   ]
  },
  {
   "cell_type": "code",
   "execution_count": null,
   "metadata": {},
   "outputs": [],
   "source": [
    "from autogen_agentchat.teams import RoundRobinGroupChat\n",
    "\n",
    "do_team = RoundRobinGroupChat(\n",
    "    [search_agent, insights_agent, write_report_agent],\n",
    "    termination_condition=TextMentionTermination(text=\"DONE\"),\n",
    ")\n",
    "\n",
    "response = await do_team.run(task=\"Search hacker news for the latest open source LLMs and extact the best insights about the latest models into a file and call it rss-feed-do.md\")\n",
    "\n",
    "print(response)"
   ]
  },
  {
   "cell_type": "code",
   "execution_count": null,
   "metadata": {},
   "outputs": [],
   "source": []
  },
  {
   "cell_type": "code",
   "execution_count": null,
   "metadata": {},
   "outputs": [],
   "source": []
  },
  {
   "cell_type": "code",
   "execution_count": null,
   "metadata": {},
   "outputs": [],
   "source": []
  }
 ],
 "metadata": {
  "kernelspec": {
   "display_name": "oreilly-autogen",
   "language": "python",
   "name": "oreilly-autogen"
  },
  "language_info": {
   "codemirror_mode": {
    "name": "ipython",
    "version": 3
   },
   "file_extension": ".py",
   "mimetype": "text/x-python",
   "name": "python",
   "nbconvert_exporter": "python",
   "pygments_lexer": "ipython3",
   "version": "3.11.11"
  }
 },
 "nbformat": 4,
 "nbformat_minor": 2
}
