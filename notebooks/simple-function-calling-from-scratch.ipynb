{
 "cells": [
  {
   "cell_type": "markdown",
   "metadata": {},
   "source": [
    "# Hello! Introduction to Agents from Scratch! "
   ]
  },
  {
   "cell_type": "markdown",
   "metadata": {},
   "source": [
    "# Agents Level 1 - Functions inside prompts"
   ]
  },
  {
   "cell_type": "code",
   "execution_count": 1,
   "metadata": {},
   "outputs": [],
   "source": [
    "import os\n",
    "import getpass\n",
    "\n",
    "def _set_env(var: str):\n",
    "    if not os.environ.get(var):\n",
    "        os.environ[var] = getpass.getpass(f\"var: \")\n",
    "\n",
    "_set_env(\"OPENAI_API_KEY\")"
   ]
  },
  {
   "cell_type": "code",
   "execution_count": 2,
   "metadata": {},
   "outputs": [
    {
     "data": {
      "text/plain": [
       "'The foundational idea of agents based on Large Language Models (LLMs) is to leverage the language understanding and generation capabilities of LLMs to create autonomous systems that can interact with users, process information, and perform tasks in a more human-like manner. Here are some key aspects of this foundational idea:\\n\\n1. **Natural Language Understanding**: Agents powered by LLMs can comprehend and interpret complex queries, requests, and instructions in natural language, making them accessible and user-friendly.\\n\\n2. **Contextual Awareness**: LLMs can maintain context over a conversation, allowing agents to follow up on prior exchanges and provide more coherent and relevant responses.\\n\\n3. **Task Execution**: These agents can be designed to execute a wide range of tasks, from providing information and answering questions to managing workflows and automating processes, based on user input.\\n\\n4. **Learning and Adaptation**: LLMs can analyze diverse inputs and user interactions over time, enabling agents to improve their performance and adapt to individual user preferences.\\n\\n5. **Multi-modal Capabilities**: Some agents integrate LLMs with other AI modalities (like image recognition or audio processing) to facilitate richer interactions and understand context beyond just text.\\n\\n6. **Autonomy and Decision-Making**: Agents can incorporate mechanisms for decision-making, reasoning, and planning, enabling them to act autonomously in certain scenarios.\\n\\n7. **Integration with External Tools**: These agents can connect with APIs, databases, or other software tools to gather real-time information and perform tasks that require external resources.\\n\\nIn summary, agents based on LLMs represent a significant advancement in creating intelligent systems that can communicate and assist with various tasks using natural language, thereby enhancing automation, user engagement, and overall efficiency across applications.'"
      ]
     },
     "execution_count": 2,
     "metadata": {},
     "output_type": "execute_result"
    }
   ],
   "source": [
    "from openai import OpenAI\n",
    "client = OpenAI()\n",
    "\n",
    "def llm(sys_msg, prompt):\n",
    "    response = client.chat.completions.create(\n",
    "        model=\"gpt-4o-mini\",\n",
    "        messages=[{\"role\": \"system\", \"content\": sys_msg},\n",
    "                  {\"role\": \"user\", \"content\": prompt}]\n",
    "    )\n",
    "    \n",
    "    return response.choices[0].message.content\n",
    "\n",
    "\n",
    "llm(sys_msg=\"You are a helpful assistant\", prompt=\"What is the foundational idea of Agents based on LLMs?\")"
   ]
  },
  {
   "cell_type": "code",
   "execution_count": 3,
   "metadata": {},
   "outputs": [],
   "source": [
    "def tool_create_file(file_name: str, content: str):\n",
    "    with open(file_name, \"w\") as f:\n",
    "        f.write(content)\n",
    "\n",
    "\n",
    "tool_create_file(\"hello-world.md\", \"Hello, world!\")"
   ]
  },
  {
   "cell_type": "code",
   "execution_count": 4,
   "metadata": {},
   "outputs": [
    {
     "name": "stdout",
     "output_type": "stream",
     "text": [
      "Hello, world!"
     ]
    }
   ],
   "source": [
    "!cat hello-world.md"
   ]
  },
  {
   "cell_type": "markdown",
   "metadata": {},
   "source": [
    "**Experiment number 1**\n",
    "\n",
    "Let's see if the model understands when to use the tool to create a file."
   ]
  },
  {
   "cell_type": "code",
   "execution_count": 5,
   "metadata": {},
   "outputs": [
    {
     "data": {
      "text/plain": [
       "'tool_create_file(\"llms-are-awesome.md\", \"Large Language Models (LLMs) have revolutionized the way we interact with technology and access information. Their ability to generate human-like text has enabled a myriad of applications, from customer service automation to creative writing assistance. One of the key benefits of LLMs is their capacity to process and analyze vast amounts of data quickly, providing insights and solutions that might take humans significantly longer to develop. Additionally, LLMs can enhance productivity by performing repetitive tasks, freeing up human resources for more complex problem-solving and decision-making processes. Their versatility and adaptability make them increasingly valuable in various sectors, including education, healthcare, and entertainment.\\\\n\\\\nHowever, alongside their advantages, LLMs also pose certain dangers that must be addressed. The potential for misuse, such as generating misleading information or deepfake content, raises significant ethical concerns. Furthermore, LLMs can inadvertently perpetuate biases present in the training data, which could lead to unfair treatment of individuals or groups. There is also the risk of over-reliance on these technologies, which may diminish critical thinking skills and human agency. As we continue to integrate LLMs into our daily lives, it is crucial to balance their benefits with cautious oversight and an ethical framework that mitigates potential harms.\" )'"
      ]
     },
     "execution_count": 5,
     "metadata": {},
     "output_type": "execute_result"
    }
   ],
   "source": [
    "sys_msg_exp1 = \"You are a helpful assistant, you have access ot a tool named `tool_create_file` that\\\n",
    "    can create a file given the file_name and the content. If you need to use this tool, your output should be\\\n",
    "    something like this: `tool_create_file(file_name, content)`\"\n",
    "\n",
    "prompt_exp1 = \"Create a file called `llms-are-awesome.md` and inside write a 2 paragraph essay on the benefits and dangers of LLMs.\"\n",
    "\n",
    "llm(sys_msg_exp1, prompt_exp1)"
   ]
  },
  {
   "cell_type": "code",
   "execution_count": 6,
   "metadata": {},
   "outputs": [
    {
     "name": "stdout",
     "output_type": "stream",
     "text": [
      "tool_create_file(\"llms-are-awesome.md\", \"Large Language Models (LLMs) have revolutionized the way we interact with technology, offering unprecedented benefits across various fields. One of the key advantages of LLMs is their ability to process and generate human-like text, which facilitates improved communication and accessibility to information. They serve as powerful tools for content creation, customer support, and educational purposes, enabling users to receive instant assistance and generate ideas effortlessly. Additionally, LLMs can analyze vast amounts of data, uncovering insights that may not be immediately apparent to human analysts, thereby enhancing decision-making processes in business and research.\n",
      "\n",
      "However, the powerful capabilities of LLMs also pose significant dangers if not managed responsibly. There are concerns about the potential for misinformation, as these models can produce convincing but factually incorrect outputs. This raises issues regarding trust and reliability in information dissemination. Furthermore, the potential misuse of LLMs for generating harmful content, including hate speech or deepfakes, poses ethical challenges that society must confront. As we continue to integrate LLMs into our daily lives, it is crucial to develop guidelines and frameworks that mitigate these risks while maximizing the benefits that these advanced technologies can offer.\" )\n"
     ]
    }
   ],
   "source": [
    "output = llm(sys_msg_exp1, prompt_exp1)\n",
    "print(output)\n"
   ]
  },
  {
   "cell_type": "code",
   "execution_count": 13,
   "metadata": {},
   "outputs": [],
   "source": [
    "tool_create_file(\"llms-are-awesome.md\", \"Large Language Models (LLMs) have revolutionized the way we interact with technology, offering unprecedented benefits across various fields. One of the key advantages of LLMs is their ability to process and generate human-like text, which facilitates improved communication and accessibility to information. They serve as powerful tools for content creation, customer support, and educational purposes, enabling users to receive instant assistance and generate ideas effortlessly. Additionally, LLMs can analyze vast amounts of data, uncovering insights that may not be immediately apparent to human analysts, thereby enhancing decision-making processes in business and research. However, the powerful capabilities of LLMs also pose significant dangers if not managed responsibly. There are concerns about the potential for misinformation, as these models can produce convincing but factually incorrect outputs. This raises issues regarding trust and reliability in information dissemination. Furthermore, the potential misuse of LLMs for generating harmful content, including hate speech or deepfakes, poses ethical challenges that society must confront. As we continue to integrate LLMs into our daily lives, it is crucial to develop guidelines and frameworks that mitigate these risks while maximizing the benefits that these advanced technologies can offer.\" )"
   ]
  },
  {
   "cell_type": "markdown",
   "metadata": {},
   "source": [
    "# OpenAI Function Calling"
   ]
  },
  {
   "cell_type": "code",
   "execution_count": 15,
   "metadata": {},
   "outputs": [],
   "source": [
    "from openai import OpenAI\n",
    "from typing import List\n",
    "import os\n",
    "from pydantic import BaseModel, Field\n",
    "\n",
    "\n",
    "\n",
    "client = OpenAI()\n",
    "\n",
    "class FileCreation(BaseModel):\n",
    "    file_name: str = Field(description=\"name of the file to be created\")\n",
    "    content: str = Field(description=\"The contents of the file to be created\")\n",
    "    \n",
    "\n",
    "\n",
    "def llm_with_structured_outputs_for_file_creation(prompt):\n",
    "    response = client.beta.chat.completions.parse(\n",
    "        model=\"gpt-4o-mini\",\n",
    "        messages=[{\"role\": \"system\", \"content\": \"You are a assistant that can create files for your user.\"},\n",
    "                  {\"role\": \"user\", \"content\": prompt}],\n",
    "        response_format=FileCreation\n",
    "    )\n",
    "    \n",
    "    return response\n",
    "\n",
    "prompt = \"Create a file named lucas-loves-pancakes-a-bit-too-much-and-it-is-getting-weird-during-courses.md \\\n",
    "    Inside write a 2 paragraph essay on why would an AI insstructor love talking about \\\n",
    "    pancakes randomly during his courses.\"\n",
    "\n",
    "\n",
    "response = llm_with_structured_outputs_for_file_creation(prompt)         "
   ]
  },
  {
   "cell_type": "code",
   "execution_count": 16,
   "metadata": {},
   "outputs": [
    {
     "data": {
      "text/plain": [
       "ParsedChatCompletion[FileCreation](id='chatcmpl-Aq02IlOICNhSiCZt7v7jLpUtUqaH9', choices=[ParsedChoice[FileCreation](finish_reason='stop', index=0, logprobs=None, message=ParsedChatCompletionMessage[FileCreation](content='{\"file_name\":\"lucas-loves-pancakes-a-bit-too-much-and-it-is-getting-weird-during-courses.md\",\"content\":\"In the realm of artificial intelligence, instructors often strive to make learning engaging and relatable. For an AI instructor, talking about pancakes can serve as an effective tool for capturing students\\' attention and fostering a lighthearted atmosphere during potentially dense subjects. People generally love food, and pancakes, being a universally appreciated comfort food, can create a shared point of interest among diverse learners. This unexpected turn towards a familiar topic like pancakes can stimulate students’ interest, making them more receptive to complex concepts that might otherwise seem overly abstract or daunting.\\\\n\\\\nMoreover, discussing pancakes can function as a metaphor relevant to many fields of study. For instance, the process of making pancakes can be likened to structuring algorithms, where the right ingredients and precise measurements lead to a successful outcome. Emphasizing such analogies can help students visualize abstract ideas through tangible experiences. However, this whimsical affinity for pancakes might raise eyebrows as discussions veer off course, potentially creating a quirky classroom dynamic. If not managed carefully, the instructor’s enthusiasm for pancakes could detract from the main lessons, leading to moments of bewilderment among students as they wonder how breakfast foods are relevant to their academic pursuits.\"}', refusal=None, role='assistant', audio=None, function_call=None, tool_calls=[], parsed=FileCreation(file_name='lucas-loves-pancakes-a-bit-too-much-and-it-is-getting-weird-during-courses.md', content=\"In the realm of artificial intelligence, instructors often strive to make learning engaging and relatable. For an AI instructor, talking about pancakes can serve as an effective tool for capturing students' attention and fostering a lighthearted atmosphere during potentially dense subjects. People generally love food, and pancakes, being a universally appreciated comfort food, can create a shared point of interest among diverse learners. This unexpected turn towards a familiar topic like pancakes can stimulate students’ interest, making them more receptive to complex concepts that might otherwise seem overly abstract or daunting.\\n\\nMoreover, discussing pancakes can function as a metaphor relevant to many fields of study. For instance, the process of making pancakes can be likened to structuring algorithms, where the right ingredients and precise measurements lead to a successful outcome. Emphasizing such analogies can help students visualize abstract ideas through tangible experiences. However, this whimsical affinity for pancakes might raise eyebrows as discussions veer off course, potentially creating a quirky classroom dynamic. If not managed carefully, the instructor’s enthusiasm for pancakes could detract from the main lessons, leading to moments of bewilderment among students as they wonder how breakfast foods are relevant to their academic pursuits.\")))], created=1736956558, model='gpt-4o-mini-2024-07-18', object='chat.completion', service_tier='default', system_fingerprint='fp_72ed7ab54c', usage=CompletionUsage(completion_tokens=265, prompt_tokens=145, total_tokens=410, completion_tokens_details=CompletionTokensDetails(accepted_prediction_tokens=0, audio_tokens=0, reasoning_tokens=0, rejected_prediction_tokens=0), prompt_tokens_details=PromptTokensDetails(audio_tokens=0, cached_tokens=0)))"
      ]
     },
     "execution_count": 16,
     "metadata": {},
     "output_type": "execute_result"
    }
   ],
   "source": [
    "response"
   ]
  },
  {
   "cell_type": "code",
   "execution_count": 22,
   "metadata": {},
   "outputs": [],
   "source": [
    "parsed_output = response.choices[0].message.parsed\n",
    "\n",
    "file_name = parsed_output.file_name\n",
    "content_of_file = parsed_output.content"
   ]
  },
  {
   "cell_type": "code",
   "execution_count": 23,
   "metadata": {},
   "outputs": [
    {
     "data": {
      "text/plain": [
       "'lucas-loves-pancakes-a-bit-too-much-and-it-is-getting-weird-during-courses.md'"
      ]
     },
     "execution_count": 23,
     "metadata": {},
     "output_type": "execute_result"
    }
   ],
   "source": [
    "file_name"
   ]
  },
  {
   "cell_type": "code",
   "execution_count": 24,
   "metadata": {},
   "outputs": [
    {
     "data": {
      "text/plain": [
       "\"In the realm of artificial intelligence, instructors often strive to make learning engaging and relatable. For an AI instructor, talking about pancakes can serve as an effective tool for capturing students' attention and fostering a lighthearted atmosphere during potentially dense subjects. People generally love food, and pancakes, being a universally appreciated comfort food, can create a shared point of interest among diverse learners. This unexpected turn towards a familiar topic like pancakes can stimulate students’ interest, making them more receptive to complex concepts that might otherwise seem overly abstract or daunting.\\n\\nMoreover, discussing pancakes can function as a metaphor relevant to many fields of study. For instance, the process of making pancakes can be likened to structuring algorithms, where the right ingredients and precise measurements lead to a successful outcome. Emphasizing such analogies can help students visualize abstract ideas through tangible experiences. However, this whimsical affinity for pancakes might raise eyebrows as discussions veer off course, potentially creating a quirky classroom dynamic. If not managed carefully, the instructor’s enthusiasm for pancakes could detract from the main lessons, leading to moments of bewilderment among students as they wonder how breakfast foods are relevant to their academic pursuits.\""
      ]
     },
     "execution_count": 24,
     "metadata": {},
     "output_type": "execute_result"
    }
   ],
   "source": [
    "content_of_file"
   ]
  },
  {
   "cell_type": "code",
   "execution_count": 25,
   "metadata": {},
   "outputs": [],
   "source": [
    "tool_create_file(file_name=file_name, content=content_of_file)"
   ]
  },
  {
   "cell_type": "code",
   "execution_count": null,
   "metadata": {},
   "outputs": [],
   "source": []
  }
 ],
 "metadata": {
  "kernelspec": {
   "display_name": "oreilly-autogen",
   "language": "python",
   "name": "oreilly-autogen"
  },
  "language_info": {
   "codemirror_mode": {
    "name": "ipython",
    "version": 3
   },
   "file_extension": ".py",
   "mimetype": "text/x-python",
   "name": "python",
   "nbconvert_exporter": "python",
   "pygments_lexer": "ipython3",
   "version": "3.11.11"
  }
 },
 "nbformat": 4,
 "nbformat_minor": 2
}
